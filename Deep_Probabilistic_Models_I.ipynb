{
  "nbformat": 4,
  "nbformat_minor": 0,
  "metadata": {
    "colab": {
      "provenance": [],
      "gpuType": "T4"
    },
    "kernelspec": {
      "name": "python3",
      "display_name": "Python 3"
    },
    "language_info": {
      "name": "python"
    },
    "accelerator": "GPU",
    "gpuClass": "standard",
    "widgets": {
      "application/vnd.jupyter.widget-state+json": {
        "e25979eb533e43ae9aabe7c62a04b9c9": {
          "model_module": "@jupyter-widgets/controls",
          "model_name": "HBoxModel",
          "model_module_version": "1.5.0",
          "state": {
            "_dom_classes": [],
            "_model_module": "@jupyter-widgets/controls",
            "_model_module_version": "1.5.0",
            "_model_name": "HBoxModel",
            "_view_count": null,
            "_view_module": "@jupyter-widgets/controls",
            "_view_module_version": "1.5.0",
            "_view_name": "HBoxView",
            "box_style": "",
            "children": [
              "IPY_MODEL_4129235dd2b946c2999da538428e9348",
              "IPY_MODEL_74ac51460c5e4a35be1705731002bbad",
              "IPY_MODEL_3e0cea02f4fb4cefaed81f71cedab97f"
            ],
            "layout": "IPY_MODEL_d1e37ac5c6fc4062a699b909a18b6f81"
          }
        },
        "4129235dd2b946c2999da538428e9348": {
          "model_module": "@jupyter-widgets/controls",
          "model_name": "HTMLModel",
          "model_module_version": "1.5.0",
          "state": {
            "_dom_classes": [],
            "_model_module": "@jupyter-widgets/controls",
            "_model_module_version": "1.5.0",
            "_model_name": "HTMLModel",
            "_view_count": null,
            "_view_module": "@jupyter-widgets/controls",
            "_view_module_version": "1.5.0",
            "_view_name": "HTMLView",
            "description": "",
            "description_tooltip": null,
            "layout": "IPY_MODEL_e6277c849fa24ca9b7d78577e167313b",
            "placeholder": "​",
            "style": "IPY_MODEL_1bdf45675c5c46aea79eba9094fe8706",
            "value": "100%"
          }
        },
        "74ac51460c5e4a35be1705731002bbad": {
          "model_module": "@jupyter-widgets/controls",
          "model_name": "FloatProgressModel",
          "model_module_version": "1.5.0",
          "state": {
            "_dom_classes": [],
            "_model_module": "@jupyter-widgets/controls",
            "_model_module_version": "1.5.0",
            "_model_name": "FloatProgressModel",
            "_view_count": null,
            "_view_module": "@jupyter-widgets/controls",
            "_view_module_version": "1.5.0",
            "_view_name": "ProgressView",
            "bar_style": "success",
            "description": "",
            "description_tooltip": null,
            "layout": "IPY_MODEL_e8b955b6d1694f3fa07266f6381dcbce",
            "max": 1800,
            "min": 0,
            "orientation": "horizontal",
            "style": "IPY_MODEL_78f54e7e3d6b4bfd85ec7cd02b49cb98",
            "value": 1800
          }
        },
        "3e0cea02f4fb4cefaed81f71cedab97f": {
          "model_module": "@jupyter-widgets/controls",
          "model_name": "HTMLModel",
          "model_module_version": "1.5.0",
          "state": {
            "_dom_classes": [],
            "_model_module": "@jupyter-widgets/controls",
            "_model_module_version": "1.5.0",
            "_model_name": "HTMLModel",
            "_view_count": null,
            "_view_module": "@jupyter-widgets/controls",
            "_view_module_version": "1.5.0",
            "_view_name": "HTMLView",
            "description": "",
            "description_tooltip": null,
            "layout": "IPY_MODEL_1e861f2c8f3244daaf8a53919d7dd03a",
            "placeholder": "​",
            "style": "IPY_MODEL_1d2f39ed78904305a135819960e8ba96",
            "value": " 1800/1800 [00:35&lt;00:00, 60.84it/s, loss=0.23, D=5.14, accuracy=0.39]"
          }
        },
        "d1e37ac5c6fc4062a699b909a18b6f81": {
          "model_module": "@jupyter-widgets/base",
          "model_name": "LayoutModel",
          "model_module_version": "1.2.0",
          "state": {
            "_model_module": "@jupyter-widgets/base",
            "_model_module_version": "1.2.0",
            "_model_name": "LayoutModel",
            "_view_count": null,
            "_view_module": "@jupyter-widgets/base",
            "_view_module_version": "1.2.0",
            "_view_name": "LayoutView",
            "align_content": null,
            "align_items": null,
            "align_self": null,
            "border": null,
            "bottom": null,
            "display": null,
            "flex": null,
            "flex_flow": null,
            "grid_area": null,
            "grid_auto_columns": null,
            "grid_auto_flow": null,
            "grid_auto_rows": null,
            "grid_column": null,
            "grid_gap": null,
            "grid_row": null,
            "grid_template_areas": null,
            "grid_template_columns": null,
            "grid_template_rows": null,
            "height": null,
            "justify_content": null,
            "justify_items": null,
            "left": null,
            "margin": null,
            "max_height": null,
            "max_width": null,
            "min_height": null,
            "min_width": null,
            "object_fit": null,
            "object_position": null,
            "order": null,
            "overflow": null,
            "overflow_x": null,
            "overflow_y": null,
            "padding": null,
            "right": null,
            "top": null,
            "visibility": null,
            "width": null
          }
        },
        "e6277c849fa24ca9b7d78577e167313b": {
          "model_module": "@jupyter-widgets/base",
          "model_name": "LayoutModel",
          "model_module_version": "1.2.0",
          "state": {
            "_model_module": "@jupyter-widgets/base",
            "_model_module_version": "1.2.0",
            "_model_name": "LayoutModel",
            "_view_count": null,
            "_view_module": "@jupyter-widgets/base",
            "_view_module_version": "1.2.0",
            "_view_name": "LayoutView",
            "align_content": null,
            "align_items": null,
            "align_self": null,
            "border": null,
            "bottom": null,
            "display": null,
            "flex": null,
            "flex_flow": null,
            "grid_area": null,
            "grid_auto_columns": null,
            "grid_auto_flow": null,
            "grid_auto_rows": null,
            "grid_column": null,
            "grid_gap": null,
            "grid_row": null,
            "grid_template_areas": null,
            "grid_template_columns": null,
            "grid_template_rows": null,
            "height": null,
            "justify_content": null,
            "justify_items": null,
            "left": null,
            "margin": null,
            "max_height": null,
            "max_width": null,
            "min_height": null,
            "min_width": null,
            "object_fit": null,
            "object_position": null,
            "order": null,
            "overflow": null,
            "overflow_x": null,
            "overflow_y": null,
            "padding": null,
            "right": null,
            "top": null,
            "visibility": null,
            "width": null
          }
        },
        "1bdf45675c5c46aea79eba9094fe8706": {
          "model_module": "@jupyter-widgets/controls",
          "model_name": "DescriptionStyleModel",
          "model_module_version": "1.5.0",
          "state": {
            "_model_module": "@jupyter-widgets/controls",
            "_model_module_version": "1.5.0",
            "_model_name": "DescriptionStyleModel",
            "_view_count": null,
            "_view_module": "@jupyter-widgets/base",
            "_view_module_version": "1.2.0",
            "_view_name": "StyleView",
            "description_width": ""
          }
        },
        "e8b955b6d1694f3fa07266f6381dcbce": {
          "model_module": "@jupyter-widgets/base",
          "model_name": "LayoutModel",
          "model_module_version": "1.2.0",
          "state": {
            "_model_module": "@jupyter-widgets/base",
            "_model_module_version": "1.2.0",
            "_model_name": "LayoutModel",
            "_view_count": null,
            "_view_module": "@jupyter-widgets/base",
            "_view_module_version": "1.2.0",
            "_view_name": "LayoutView",
            "align_content": null,
            "align_items": null,
            "align_self": null,
            "border": null,
            "bottom": null,
            "display": null,
            "flex": null,
            "flex_flow": null,
            "grid_area": null,
            "grid_auto_columns": null,
            "grid_auto_flow": null,
            "grid_auto_rows": null,
            "grid_column": null,
            "grid_gap": null,
            "grid_row": null,
            "grid_template_areas": null,
            "grid_template_columns": null,
            "grid_template_rows": null,
            "height": null,
            "justify_content": null,
            "justify_items": null,
            "left": null,
            "margin": null,
            "max_height": null,
            "max_width": null,
            "min_height": null,
            "min_width": null,
            "object_fit": null,
            "object_position": null,
            "order": null,
            "overflow": null,
            "overflow_x": null,
            "overflow_y": null,
            "padding": null,
            "right": null,
            "top": null,
            "visibility": null,
            "width": null
          }
        },
        "78f54e7e3d6b4bfd85ec7cd02b49cb98": {
          "model_module": "@jupyter-widgets/controls",
          "model_name": "ProgressStyleModel",
          "model_module_version": "1.5.0",
          "state": {
            "_model_module": "@jupyter-widgets/controls",
            "_model_module_version": "1.5.0",
            "_model_name": "ProgressStyleModel",
            "_view_count": null,
            "_view_module": "@jupyter-widgets/base",
            "_view_module_version": "1.2.0",
            "_view_name": "StyleView",
            "bar_color": null,
            "description_width": ""
          }
        },
        "1e861f2c8f3244daaf8a53919d7dd03a": {
          "model_module": "@jupyter-widgets/base",
          "model_name": "LayoutModel",
          "model_module_version": "1.2.0",
          "state": {
            "_model_module": "@jupyter-widgets/base",
            "_model_module_version": "1.2.0",
            "_model_name": "LayoutModel",
            "_view_count": null,
            "_view_module": "@jupyter-widgets/base",
            "_view_module_version": "1.2.0",
            "_view_name": "LayoutView",
            "align_content": null,
            "align_items": null,
            "align_self": null,
            "border": null,
            "bottom": null,
            "display": null,
            "flex": null,
            "flex_flow": null,
            "grid_area": null,
            "grid_auto_columns": null,
            "grid_auto_flow": null,
            "grid_auto_rows": null,
            "grid_column": null,
            "grid_gap": null,
            "grid_row": null,
            "grid_template_areas": null,
            "grid_template_columns": null,
            "grid_template_rows": null,
            "height": null,
            "justify_content": null,
            "justify_items": null,
            "left": null,
            "margin": null,
            "max_height": null,
            "max_width": null,
            "min_height": null,
            "min_width": null,
            "object_fit": null,
            "object_position": null,
            "order": null,
            "overflow": null,
            "overflow_x": null,
            "overflow_y": null,
            "padding": null,
            "right": null,
            "top": null,
            "visibility": null,
            "width": null
          }
        },
        "1d2f39ed78904305a135819960e8ba96": {
          "model_module": "@jupyter-widgets/controls",
          "model_name": "DescriptionStyleModel",
          "model_module_version": "1.5.0",
          "state": {
            "_model_module": "@jupyter-widgets/controls",
            "_model_module_version": "1.5.0",
            "_model_name": "DescriptionStyleModel",
            "_view_count": null,
            "_view_module": "@jupyter-widgets/base",
            "_view_module_version": "1.2.0",
            "_view_name": "StyleView",
            "description_width": ""
          }
        }
      }
    }
  },
  "cells": [
    {
      "cell_type": "code",
      "execution_count": 1,
      "metadata": {
        "colab": {
          "base_uri": "https://localhost:8080/"
        },
        "id": "2fo084GjBTd9",
        "outputId": "90beb76b-a6fa-46d5-b474-971fc7802287"
      },
      "outputs": [
        {
          "output_type": "stream",
          "name": "stderr",
          "text": [
            "<ipython-input-1-f209b71e5400>:4: DeprecationWarning: `set_matplotlib_formats` is deprecated since IPython 7.23, directly use `matplotlib_inline.backend_inline.set_matplotlib_formats()`\n",
            "  set_matplotlib_formats('svg', 'pdf') # For export\n"
          ]
        }
      ],
      "source": [
        "import matplotlib.pyplot as plt\n",
        "%matplotlib inline\n",
        "from IPython.display import set_matplotlib_formats\n",
        "set_matplotlib_formats('svg', 'pdf') # For export\n",
        "import matplotlib\n",
        "matplotlib.rcParams['lines.linewidth'] = 2.0\n",
        "\n",
        "import random\n",
        "import numpy as np\n",
        "import torch\n",
        "\n",
        "try:\n",
        "    import nltk\n",
        "    import sklearn\n",
        "except ModuleNotFoundError: # Install nltk and sklearn if necessary\n",
        "    !pip install --quiet nltk, sklearn\n",
        "    import nltk\n",
        "\n",
        "def seed_all(seed=42):\n",
        "    np.random.seed(seed)\n",
        "    random.seed(seed)\n",
        "    torch.manual_seed(seed)\n",
        "\n",
        "seed_all()"
      ]
    },
    {
      "cell_type": "markdown",
      "source": [
        "### **Data**"
      ],
      "metadata": {
        "id": "A9gLmKUsuWZj"
      }
    },
    {
      "cell_type": "markdown",
      "source": [
        "We use text as an example and design:\n",
        "\n",
        "1.   A classifier\n",
        "2.   an ordinal regressor\n",
        "3.   a sequence labeller\n"
      ],
      "metadata": {
        "id": "e6U6jxSTuIZL"
      }
    },
    {
      "cell_type": "code",
      "source": [
        "nltk.download('treebank')\n",
        "nltk.download('brown')\n",
        "nltk.download('punkt')\n",
        "nltk.download('universal_tagset')"
      ],
      "metadata": {
        "colab": {
          "base_uri": "https://localhost:8080/"
        },
        "id": "DEzFJUImt_pC",
        "outputId": "e3886fc4-a754-47d6-ef8a-bdf6d793f711"
      },
      "execution_count": 2,
      "outputs": [
        {
          "output_type": "stream",
          "name": "stderr",
          "text": [
            "[nltk_data] Downloading package treebank to /root/nltk_data...\n",
            "[nltk_data]   Unzipping corpora/treebank.zip.\n",
            "[nltk_data] Downloading package brown to /root/nltk_data...\n",
            "[nltk_data]   Unzipping corpora/brown.zip.\n",
            "[nltk_data] Downloading package punkt to /root/nltk_data...\n",
            "[nltk_data]   Unzipping tokenizers/punkt.zip.\n",
            "[nltk_data] Downloading package universal_tagset to /root/nltk_data...\n",
            "[nltk_data]   Unzipping taggers/universal_tagset.zip.\n"
          ]
        },
        {
          "output_type": "execute_result",
          "data": {
            "text/plain": [
              "True"
            ]
          },
          "metadata": {},
          "execution_count": 2
        }
      ]
    },
    {
      "cell_type": "markdown",
      "source": [
        "### **Sentiment**"
      ],
      "metadata": {
        "id": "rP5ymC6sugsR"
      }
    },
    {
      "cell_type": "code",
      "source": [
        "from nltk.corpus import treebank, brown"
      ],
      "metadata": {
        "id": "gAbpUgFxuHRe"
      },
      "execution_count": 3,
      "outputs": []
    },
    {
      "cell_type": "markdown",
      "source": [
        "viewing the generes in brown corpus"
      ],
      "metadata": {
        "id": "lWHVCIoxunnh"
      }
    },
    {
      "cell_type": "code",
      "source": [
        "brown.categories()"
      ],
      "metadata": {
        "colab": {
          "base_uri": "https://localhost:8080/"
        },
        "id": "cY1wbbr9uqus",
        "outputId": "2323b2ab-313a-48a0-85b2-06f54e6f62aa"
      },
      "execution_count": 4,
      "outputs": [
        {
          "output_type": "execute_result",
          "data": {
            "text/plain": [
              "['adventure',\n",
              " 'belles_lettres',\n",
              " 'editorial',\n",
              " 'fiction',\n",
              " 'government',\n",
              " 'hobbies',\n",
              " 'humor',\n",
              " 'learned',\n",
              " 'lore',\n",
              " 'mystery',\n",
              " 'news',\n",
              " 'religion',\n",
              " 'reviews',\n",
              " 'romance',\n",
              " 'science_fiction']"
            ]
          },
          "metadata": {},
          "execution_count": 4
        }
      ]
    },
    {
      "cell_type": "code",
      "source": [
        "print(\"'fiction' examples\")\n",
        "for i, x in zip(range(3), brown.sents(categories=['fiction'])):\n",
        "    print(i, x)\n",
        "print()\n",
        "print(\"'religion' examples\")\n",
        "for i, x in zip(range(3), brown.sents(categories=['religion'])):\n",
        "    print(i, x)\n",
        "print()\n",
        "print(\"'learned' examples\")\n",
        "for i, x in zip(range(3), brown.sents(categories=['learned'])):\n",
        "    print(i, x)"
      ],
      "metadata": {
        "colab": {
          "base_uri": "https://localhost:8080/"
        },
        "id": "AT7JhX7Zuq0g",
        "outputId": "1b744030-061b-40a7-b46a-1fdf4adbf014"
      },
      "execution_count": 5,
      "outputs": [
        {
          "output_type": "stream",
          "name": "stdout",
          "text": [
            "'fiction' examples\n",
            "0 ['Thirty-three']\n",
            "1 ['Scotty', 'did', 'not', 'go', 'back', 'to', 'school', '.']\n",
            "2 ['His', 'parents', 'talked', 'seriously', 'and', 'lengthily', 'to', 'their', 'own', 'doctor', 'and', 'to', 'a', 'specialist', 'at', 'the', 'University', 'Hospital', '--', 'Mr.', 'McKinley', 'was', 'entitled', 'to', 'a', 'discount', 'for', 'members', 'of', 'his', 'family', '--', 'and', 'it', 'was', 'decided', 'it', 'would', 'be', 'best', 'for', 'him', 'to', 'take', 'the', 'remainder', 'of', 'the', 'term', 'off', ',', 'spend', 'a', 'lot', 'of', 'time', 'in', 'bed', 'and', ',', 'for', 'the', 'rest', ',', 'do', 'pretty', 'much', 'as', 'he', 'chose', '--', 'provided', ',', 'of', 'course', ',', 'he', 'chose', 'to', 'do', 'nothing', 'too', 'exciting', 'or', 'too', 'debilitating', '.']\n",
            "\n",
            "'religion' examples\n",
            "0 ['As', 'a', 'result', ',', 'although', 'we', 'still', 'make', 'use', 'of', 'this', 'distinction', ',', 'there', 'is', 'much', 'confusion', 'as', 'to', 'the', 'meaning', 'of', 'the', 'basic', 'terms', 'employed', '.']\n",
            "1 ['Just', 'what', 'is', 'meant', 'by', '``', 'spirit', \"''\", 'and', 'by', '``', 'matter', \"''\", '?', '?']\n",
            "2 ['The', 'terms', 'are', 'generally', 'taken', 'for', 'granted', 'as', 'though', 'they', 'referred', 'to', 'direct', 'and', 'axiomatic', 'elements', 'in', 'the', 'common', 'experience', 'of', 'all', '.']\n",
            "\n",
            "'learned' examples\n",
            "0 ['1', '.']\n",
            "1 ['Introduction']\n",
            "2 ['It', 'has', 'recently', 'become', 'practical', 'to', 'use', 'the', 'radio', 'emission', 'of', 'the', 'moon', 'and', 'planets', 'as', 'a', 'new', 'source', 'of', 'information', 'about', 'these', 'bodies', 'and', 'their', 'atmospheres', '.']\n"
          ]
        }
      ]
    },
    {
      "cell_type": "code",
      "source": [
        "def split_nltk_categorised_corpus(corpus, categories, max_length=30, num_heldout=100):\n",
        "    \"\"\"\n",
        "    Shuffle and split a corpus.\n",
        "    corpus: a corpus of tagged sequences, each sequence is a pair, each pair is a token and a tag.\n",
        "    max_length: discard sentences longer than this\n",
        "\n",
        "    Return:\n",
        "        (training word sequences, training tag sequences),\n",
        "        (dev word sequences, dev tag sequences),\n",
        "        (test word sequences, test tag sequences),\n",
        "    \"\"\"\n",
        "\n",
        "    sentences = []\n",
        "    labels = []\n",
        "    for k, c in enumerate(categories):\n",
        "        seqs = corpus.sents(categories=[c])\n",
        "        sentences.extend(seqs)\n",
        "        labels.extend(len(seqs) * [k])\n",
        "    # do not change the seed in here\n",
        "    order = np.random.RandomState(42).permutation(np.arange(len(sentences)))\n",
        "    shuffled_sentences = [[w for w in sentences[i]] for i in order if len(sentences[i]) <= max_length]\n",
        "    shuffled_labels = [labels[i] for i in order if len(sentences[i]) <= max_length]\n",
        "    return (shuffled_sentences[2*num_heldout:], shuffled_labels[2*num_heldout:]), (shuffled_sentences[num_heldout:2*num_heldout], shuffled_labels[num_heldout:2*num_heldout]), (shuffled_sentences[:num_heldout], shuffled_labels[:num_heldout])"
      ],
      "metadata": {
        "id": "6PKXFfQruylZ"
      },
      "execution_count": 6,
      "outputs": []
    },
    {
      "cell_type": "code",
      "source": [
        "%%time\n",
        "(cat_training_x, cat_training_y), (cat_dev_x, cat_dev_y), (cat_test_x, cat_test_y) = split_nltk_categorised_corpus(brown, brown.categories(), num_heldout=1000)\n",
        "print(f\"Number of sentences: training={len(cat_training_x)} dev={len(cat_dev_x)} test={len(cat_test_x)}\")"
      ],
      "metadata": {
        "colab": {
          "base_uri": "https://localhost:8080/"
        },
        "id": "DYB1XzeZu6zM",
        "outputId": "719b8df9-659d-4dfc-a304-981e14e14435"
      },
      "execution_count": 7,
      "outputs": [
        {
          "output_type": "stream",
          "name": "stdout",
          "text": [
            "Number of sentences: training=44685 dev=1000 test=1000\n",
            "CPU times: user 6.08 s, sys: 249 ms, total: 6.33 s\n",
            "Wall time: 8.88 s\n"
          ]
        }
      ]
    },
    {
      "cell_type": "code",
      "source": [
        "len(cat_training_x), len(cat_dev_x), len(cat_test_x)"
      ],
      "metadata": {
        "colab": {
          "base_uri": "https://localhost:8080/"
        },
        "id": "CJqjUXDdu-rx",
        "outputId": "6b7e24b8-8438-46ee-d3d6-228c6bb48fe6"
      },
      "execution_count": 8,
      "outputs": [
        {
          "output_type": "execute_result",
          "data": {
            "text/plain": [
              "(44685, 1000, 1000)"
            ]
          },
          "metadata": {},
          "execution_count": 8
        }
      ]
    },
    {
      "cell_type": "code",
      "source": [
        "cat_training_y[0], cat_training_x[0]"
      ],
      "metadata": {
        "colab": {
          "base_uri": "https://localhost:8080/"
        },
        "id": "T7g0ib6QvBON",
        "outputId": "b5553b2e-f295-455e-d647-c2246e342450"
      },
      "execution_count": 9,
      "outputs": [
        {
          "output_type": "execute_result",
          "data": {
            "text/plain": [
              "(1,\n",
              " ['That',\n",
              "  'is',\n",
              "  'why',\n",
              "  'the',\n",
              "  'members',\n",
              "  'of',\n",
              "  'the',\n",
              "  'beat',\n",
              "  'generation',\n",
              "  'proudly',\n",
              "  'assume',\n",
              "  'the',\n",
              "  'title',\n",
              "  'of',\n",
              "  'the',\n",
              "  'holy',\n",
              "  'barbarians',\n",
              "  ';',\n",
              "  ';'])"
            ]
          },
          "metadata": {},
          "execution_count": 9
        }
      ]
    },
    {
      "cell_type": "markdown",
      "source": [
        "### **Age**"
      ],
      "metadata": {
        "id": "xan-U7K_vZwj"
      }
    },
    {
      "cell_type": "code",
      "source": [
        "# Download the data\n",
        "!wget https://surfdrive.surf.nl/files/index.php/s/2xWdFxnewjN9gsq/download -O blog-authorship.json.gz\n",
        "!gzip -d blog-authorship.json.gz"
      ],
      "metadata": {
        "colab": {
          "base_uri": "https://localhost:8080/"
        },
        "id": "ijBoKM6TvbYd",
        "outputId": "44f91ac6-e5d0-4c11-c744-38c8f85a7194"
      },
      "execution_count": 10,
      "outputs": [
        {
          "output_type": "stream",
          "name": "stdout",
          "text": [
            "--2023-05-14 06:08:05--  https://surfdrive.surf.nl/files/index.php/s/2xWdFxnewjN9gsq/download\n",
            "Resolving surfdrive.surf.nl (surfdrive.surf.nl)... 145.107.8.140, 145.107.56.140, 2001:610:10b:2:0:a11:da7a:5afe, ...\n",
            "Connecting to surfdrive.surf.nl (surfdrive.surf.nl)|145.107.8.140|:443... connected.\n",
            "HTTP request sent, awaiting response... 200 OK\n",
            "Length: 25699440 (25M) [application/gzip]\n",
            "Saving to: ‘blog-authorship.json.gz’\n",
            "\n",
            "blog-authorship.jso 100%[===================>]  24.51M  8.05MB/s    in 3.0s    \n",
            "\n",
            "2023-05-14 06:08:09 (8.05 MB/s) - ‘blog-authorship.json.gz’ saved [25699440/25699440]\n",
            "\n"
          ]
        }
      ]
    },
    {
      "cell_type": "code",
      "source": [
        "import json\n",
        "\n",
        "with open(\"blog-authorship.json\") as f:\n",
        "    blog_data = json.load(f)"
      ],
      "metadata": {
        "id": "QxT4I3I7vdp3"
      },
      "execution_count": 11,
      "outputs": []
    },
    {
      "cell_type": "code",
      "source": [
        "blog_data.keys()"
      ],
      "metadata": {
        "colab": {
          "base_uri": "https://localhost:8080/"
        },
        "id": "zs78l-J1vg8c",
        "outputId": "ef0827d7-b006-49d5-fca4-3dbf148fd720"
      },
      "execution_count": 12,
      "outputs": [
        {
          "output_type": "execute_result",
          "data": {
            "text/plain": [
              "dict_keys(['source', 'ack', 'subset', 'format', 'training', 'dev', 'test'])"
            ]
          },
          "metadata": {},
          "execution_count": 12
        }
      ]
    },
    {
      "cell_type": "code",
      "source": [
        "blog_data['source'], blog_data['ack']"
      ],
      "metadata": {
        "colab": {
          "base_uri": "https://localhost:8080/"
        },
        "id": "XOaXVYkVvjSI",
        "outputId": "1c075073-a683-4ccf-c08a-af0f5786d771"
      },
      "execution_count": 13,
      "outputs": [
        {
          "output_type": "execute_result",
          "data": {
            "text/plain": [
              "('[Blog authorship corpus](https://www.kaggle.com/rtatman/blog-authorship-corpus)',\n",
              " '[Schler et al (2006)](http://www.cs.biu.ac.il/~schlerj/schler_springsymp06.pdf)')"
            ]
          },
          "metadata": {},
          "execution_count": 13
        }
      ]
    },
    {
      "cell_type": "code",
      "source": [
        "len(blog_data['training']), len(blog_data['dev']), len(blog_data['test'])"
      ],
      "metadata": {
        "colab": {
          "base_uri": "https://localhost:8080/"
        },
        "id": "jCSQlLwIvlz1",
        "outputId": "86f96971-0ce8-4585-aa73-001443a862db"
      },
      "execution_count": 14,
      "outputs": [
        {
          "output_type": "execute_result",
          "data": {
            "text/plain": [
              "(200000, 40000, 49174)"
            ]
          },
          "metadata": {},
          "execution_count": 14
        }
      ]
    },
    {
      "cell_type": "code",
      "source": [
        "blog_data['training'][0]"
      ],
      "metadata": {
        "colab": {
          "base_uri": "https://localhost:8080/"
        },
        "id": "av3_YNhtvrRp",
        "outputId": "fcb4a53f-2418-4c6c-b671-050066e6c4d0"
      },
      "execution_count": 15,
      "outputs": [
        {
          "output_type": "execute_result",
          "data": {
            "text/plain": [
              "['I hate exams considering I just failed one. Yippee', 16]"
            ]
          },
          "metadata": {},
          "execution_count": 15
        }
      ]
    },
    {
      "cell_type": "code",
      "source": [
        "%%time\n",
        "from nltk.tokenize import word_tokenize\n",
        "\n",
        "# Tokenize and shuffle the data.\n",
        "order = np.random.RandomState(42).permutation(np.arange(len(blog_data[\"training\"])))\n",
        "blog_training_x = [word_tokenize(blog_data[\"training\"][i][0].lower()) for i in order]\n",
        "blog_training_y = [[blog_data[\"training\"][i][1]] for i in order]\n",
        "blog_dev_x = [word_tokenize(x[0].lower()) for x in blog_data[\"dev\"]]\n",
        "blog_dev_y = [[x[1]] for x in blog_data[\"dev\"]]\n",
        "blog_test_x = [word_tokenize(x[0].lower()) for x in blog_data[\"test\"]]\n",
        "blog_test_y = [[x[1]] for x in blog_data[\"test\"]]"
      ],
      "metadata": {
        "colab": {
          "base_uri": "https://localhost:8080/"
        },
        "id": "8Cc_jLLdvt_3",
        "outputId": "7e4c15e9-5b89-4e8d-954f-5f862300d9a2"
      },
      "execution_count": 16,
      "outputs": [
        {
          "output_type": "stream",
          "name": "stdout",
          "text": [
            "CPU times: user 1min 38s, sys: 737 ms, total: 1min 39s\n",
            "Wall time: 1min 39s\n"
          ]
        }
      ]
    },
    {
      "cell_type": "code",
      "source": [
        "# Example pre-processed data point\n",
        "print(f\"input: {blog_training_x[0]}\")\n",
        "print(f\"age of author: {blog_training_y[0]}\")"
      ],
      "metadata": {
        "colab": {
          "base_uri": "https://localhost:8080/"
        },
        "id": "QtI2uk1zvzZx",
        "outputId": "e6e1fed7-a1e3-4594-a08e-f8578a69fc56"
      },
      "execution_count": 17,
      "outputs": [
        {
          "output_type": "stream",
          "name": "stdout",
          "text": [
            "input: ['urllink', 'this', 'is', 'my', 'friend', 'sam', '.', 'he', \"'s\", 'a', 'little', 'weird', '.', 'he', \"'s\", 'nice', 'though', '.', 'but', 'weird', '.']\n",
            "age of author: [17]\n"
          ]
        }
      ]
    },
    {
      "cell_type": "code",
      "source": [
        "example = treebank.tagged_sents(tagset='universal')[0]  # 'universal' here refers to the style of tags\n",
        "example"
      ],
      "metadata": {
        "colab": {
          "base_uri": "https://localhost:8080/"
        },
        "id": "R4gMf18zv1_Z",
        "outputId": "15641f95-90bc-4341-cf87-876c7f921444"
      },
      "execution_count": 18,
      "outputs": [
        {
          "output_type": "execute_result",
          "data": {
            "text/plain": [
              "[('Pierre', 'NOUN'),\n",
              " ('Vinken', 'NOUN'),\n",
              " (',', '.'),\n",
              " ('61', 'NUM'),\n",
              " ('years', 'NOUN'),\n",
              " ('old', 'ADJ'),\n",
              " (',', '.'),\n",
              " ('will', 'VERB'),\n",
              " ('join', 'VERB'),\n",
              " ('the', 'DET'),\n",
              " ('board', 'NOUN'),\n",
              " ('as', 'ADP'),\n",
              " ('a', 'DET'),\n",
              " ('nonexecutive', 'ADJ'),\n",
              " ('director', 'NOUN'),\n",
              " ('Nov.', 'NOUN'),\n",
              " ('29', 'NUM'),\n",
              " ('.', '.')]"
            ]
          },
          "metadata": {},
          "execution_count": 18
        }
      ]
    },
    {
      "cell_type": "code",
      "source": [
        "def split_nltk_tagged_corpus(corpus, max_length=30, num_heldout=100):\n",
        "    \"\"\"\n",
        "    Shuffle and split a corpus.\n",
        "    corpus: a corpus of tagged sequences, each sequence is a pair, each pair is a token and a tag.\n",
        "    max_length: discard sentences longer than this\n",
        "\n",
        "    Return:\n",
        "        (training word sequences, training tag sequences),\n",
        "        (dev word sequences, dev tag sequences),\n",
        "        (test word sequences, test tag sequences),\n",
        "    \"\"\"\n",
        "    tagged_sentences = corpus.tagged_sents(tagset='universal')\n",
        "    # do not change the seed in here\n",
        "    order = np.random.RandomState(42).permutation(np.arange(len(tagged_sentences)))\n",
        "    word_sequences = [[w.lower() for w, t in tagged_sentences[i]] for i in order if len(tagged_sentences[i]) <= max_length]\n",
        "    tag_sequences = [[t for w, t in tagged_sentences[i]] for i in order if len(tagged_sentences[i]) <= max_length]\n",
        "    return (word_sequences[2*num_heldout:], tag_sequences[2*num_heldout:]), (word_sequences[num_heldout:2*num_heldout], tag_sequences[num_heldout:2*num_heldout]), (word_sequences[:num_heldout], tag_sequences[:num_heldout])"
      ],
      "metadata": {
        "id": "u2fkoLUvv6DD"
      },
      "execution_count": 19,
      "outputs": []
    },
    {
      "cell_type": "code",
      "source": [
        "%%time\n",
        "(tagger_training_x, tagger_training_y), (tagger_dev_x, tagger_dev_y), (tagger_test_x, tagger_test_y) = split_nltk_tagged_corpus(treebank, num_heldout=100)\n",
        "print(f\"Number of sentences: training={len(tagger_training_x)} dev={len(tagger_dev_x)} test={len(tagger_test_x)}\")"
      ],
      "metadata": {
        "colab": {
          "base_uri": "https://localhost:8080/"
        },
        "id": "KSwv13RtwBxj",
        "outputId": "8063d4d8-4c98-460b-d6d7-5344f5775891"
      },
      "execution_count": 20,
      "outputs": [
        {
          "output_type": "stream",
          "name": "stdout",
          "text": [
            "Number of sentences: training=2486 dev=100 test=100\n",
            "CPU times: user 2.76 s, sys: 202 ms, total: 2.96 s\n",
            "Wall time: 2.97 s\n"
          ]
        }
      ]
    },
    {
      "cell_type": "code",
      "source": [
        "print(\"# A few training sentences\\n\")\n",
        "for n in range(3):\n",
        "    print(f\"x_{n} = {tagger_training_x[n]}\")\n",
        "    print(f\"y_{n} = {tagger_training_y[n]}\")\n",
        "    print()"
      ],
      "metadata": {
        "colab": {
          "base_uri": "https://localhost:8080/"
        },
        "id": "DvYC47BZwEHE",
        "outputId": "71a93d05-7545-4d7e-9873-b65f8ecd2c52"
      },
      "execution_count": 21,
      "outputs": [
        {
          "output_type": "stream",
          "name": "stdout",
          "text": [
            "# A few training sentences\n",
            "\n",
            "x_0 = ['they', 'know', '0', 'he', 'is', 'generally', 'opposed', 'to', 'cop-killer', 'bullets', ',', 'but', 'that', 'he', 'had', 'some', 'reservations', 'about', 'the', 'language', 'in', 'the', 'legislation', '.', \"''\"]\n",
            "y_0 = ['PRON', 'VERB', 'X', 'PRON', 'VERB', 'ADV', 'VERB', 'PRT', 'ADJ', 'NOUN', '.', 'CONJ', 'ADP', 'PRON', 'VERB', 'DET', 'NOUN', 'ADP', 'DET', 'NOUN', 'ADP', 'DET', 'NOUN', '.', '.']\n",
            "\n",
            "x_1 = ['california', \"'s\", 'education', 'department', 'suspects', 'adult', 'responsibility', 'for', 'erasures', 'at', '40', 'schools', 'that', '*t*-85', 'changed', 'wrong', 'answers', 'to', 'right', 'ones', 'on', 'a', 'statewide', 'test', '.']\n",
            "y_1 = ['NOUN', 'PRT', 'NOUN', 'NOUN', 'VERB', 'NOUN', 'NOUN', 'ADP', 'NOUN', 'ADP', 'NUM', 'NOUN', 'DET', 'X', 'VERB', 'ADJ', 'NOUN', 'PRT', 'ADJ', 'NOUN', 'ADP', 'DET', 'ADJ', 'NOUN', '.']\n",
            "\n",
            "x_2 = ['the', 'loan', 'may', 'be', 'extended', '*-1', 'by', 'the', 'mcalpine', 'group', 'for', 'an', 'additional', 'year', 'with', 'an', 'increase', 'in', 'the', 'conversion', 'price', 'to', '$', '2.50', '*u*', 'a', 'share', '.']\n",
            "y_2 = ['DET', 'NOUN', 'VERB', 'VERB', 'VERB', 'X', 'ADP', 'DET', 'NOUN', 'NOUN', 'ADP', 'DET', 'ADJ', 'NOUN', 'ADP', 'DET', 'NOUN', 'ADP', 'DET', 'NOUN', 'NOUN', 'PRT', '.', 'NUM', 'X', 'DET', 'NOUN', '.']\n",
            "\n"
          ]
        }
      ]
    },
    {
      "cell_type": "code",
      "source": [
        "import numpy as np\n",
        "from itertools import chain\n",
        "from collections import Counter, OrderedDict\n",
        "\n",
        "class Vocab:\n",
        "\n",
        "    def __init__(self, corpus: list, min_freq=1):\n",
        "        \"\"\"\n",
        "        corpus: list of documents, each document is a list of tokens, each token is a string\n",
        "        min_freq: words that occur less than this value are discarded\n",
        "        \"\"\"\n",
        "\n",
        "        # Count word occurrences\n",
        "        counter = Counter(chain(*corpus))\n",
        "\n",
        "        # Sort them by frequency\n",
        "        sorted_by_freq_tuples = sorted(counter.items(), key=lambda pair: pair[1], reverse=True)\n",
        "\n",
        "        # Special tokens\n",
        "        self.pad_token = \"-PAD-\" # used to fill sequences in a batch to maximum sequence length\n",
        "        self.bos_token = \"-BOS-\" # begin of sequence\n",
        "        self.eos_token = \"-EOS-\" # end of sequence\n",
        "        self.unk_token = \"-UNK-\" # unknown symbol\n",
        "        self.pad_id = 0\n",
        "        self.bos_id = 1\n",
        "        self.eos_id = 2\n",
        "        self.unk_id = 3\n",
        "\n",
        "        self.known_symbols = [self.pad_token, self.bos_token, self.eos_token, self.unk_token]\n",
        "        self.counts = [0, 0]\n",
        "\n",
        "        # Vocabulary\n",
        "        self.word2id = OrderedDict()\n",
        "        self.word2id[self.pad_token] = self.pad_id\n",
        "        self.word2id[self.bos_token] = self.bos_id\n",
        "        self.word2id[self.eos_token] = self.eos_id\n",
        "        self.word2id[self.unk_token] = self.unk_id\n",
        "        self.min_freq = min_freq\n",
        "        for w, n in sorted_by_freq_tuples:\n",
        "            if n >= min_freq: # discard infrequent words\n",
        "                self.word2id[w] = len(self.known_symbols)\n",
        "                self.known_symbols.append(w)\n",
        "                self.counts.append(n)\n",
        "\n",
        "        # Store the counts as well\n",
        "        self.counts = np.array(self.counts)\n",
        "\n",
        "    def __len__(self):\n",
        "        return len(self.known_symbols)\n",
        "\n",
        "    def __getitem__(self, word: str):\n",
        "        \"\"\"\n",
        "        Return the id (int) of a word (str)\n",
        "        \"\"\"\n",
        "        return self.word2id.get(word, self.unk_id)\n",
        "\n",
        "    def encode(self, doc: list, add_bos=False, add_eos=False, pad_right=0):\n",
        "        \"\"\"\n",
        "        Transform a document into a numpy array of integer token identifiers.\n",
        "        doc: list of tokens, each token is a string\n",
        "        add_bos: whether to add the BOS token\n",
        "        add_eos: whether to add the EOS token\n",
        "        pad_right: number of suffix padding tokens\n",
        "\n",
        "        Return: a list of codes (possibly with BOS and EOS added as well as padding)\n",
        "        \"\"\"\n",
        "        return [self.word2id.get(w, self.unk_id) for w in chain([self.bos_token] * int(add_bos), doc, [self.eos_token] * int(add_eos), [self.pad_token] * pad_right)]\n",
        "\n",
        "    def batch_encode(self, docs: list, add_bos=False, add_eos=False):\n",
        "        \"\"\"\n",
        "        Transform a batch of documents into a numpy array of integer token identifiers.\n",
        "        This will pad the shorter documents to the length of the longest document.\n",
        "        docs: a list of documents\n",
        "        add_bos: whether to add the BOS token\n",
        "        add_eos: whether to add the EOS token\n",
        "        pad_right: number of suffix padding tokens\n",
        "\n",
        "        Return: numpy array with shape [len(docs), longest_doc + add_bos + add_eos]\n",
        "        \"\"\"\n",
        "        max_len = max(len(doc) for doc in docs)\n",
        "        return np.array([self.encode(doc, add_bos=add_bos, add_eos=add_eos, pad_right=max_len-len(doc)) for doc in docs])\n",
        "\n",
        "    def decode(self, ids, strip_pad=False):\n",
        "        \"\"\"\n",
        "        Transform a np.array document into a list of tokens.\n",
        "        ids: np.array with shape [num_tokens]\n",
        "        strip_pad: whether PAD tokens should be deleted from the output\n",
        "\n",
        "        Return: list of strings with size [num_tokens - num_padding]\n",
        "        \"\"\"\n",
        "        if strip_pad:\n",
        "            return [self.known_symbols[id] for id in ids if id != self.pad_id]\n",
        "        else:\n",
        "            return [self.known_symbols[id] for id in ids]\n",
        "\n",
        "    def batch_decode(self, docs, strip_pad=False):\n",
        "        \"\"\"\n",
        "        Transform a np.array collection of documents into a collection of lists of tokens.\n",
        "        ids: np.array with shape [num_docs, max_length]\n",
        "        strip_pad: whether PAD tokens should be deleted from the output\n",
        "\n",
        "        Return: list of documents, each a list of tokens, each token a string\n",
        "        \"\"\"\n",
        "        return [self.decode(doc, strip_pad=strip_pad) for doc in docs]"
      ],
      "metadata": {
        "id": "_-d5vpzgwUX4"
      },
      "execution_count": 22,
      "outputs": []
    },
    {
      "cell_type": "code",
      "source": [
        "# We get a vocabulary for words\n",
        "word_vocab = Vocab(tagger_training_x, min_freq=2)\n",
        "# and a vocabulary for tags\n",
        "tag_vocab = Vocab(tagger_training_y, min_freq=1)\n",
        "# You can see their sizes V and C:\n",
        "len(word_vocab), len(tag_vocab)"
      ],
      "metadata": {
        "colab": {
          "base_uri": "https://localhost:8080/"
        },
        "id": "JDZmujqmwWiY",
        "outputId": "5ca10904-9de2-41f9-aee3-1e1fae61f4a7"
      },
      "execution_count": 23,
      "outputs": [
        {
          "output_type": "execute_result",
          "data": {
            "text/plain": [
              "(3358, 16)"
            ]
          },
          "metadata": {},
          "execution_count": 23
        }
      ]
    },
    {
      "cell_type": "code",
      "source": [
        "word_vocab.batch_encode(tagger_training_x[:3], add_bos=False, add_eos=True)"
      ],
      "metadata": {
        "colab": {
          "base_uri": "https://localhost:8080/"
        },
        "id": "Xe_7hY-ZwZP1",
        "outputId": "f1454842-fdba-473e-af26-14d872e8fa74"
      },
      "execution_count": 24,
      "outputs": [
        {
          "output_type": "execute_result",
          "data": {
            "text/plain": [
              "array([[  45,  907,   13,   36,   18,  600, 1078,    8, 1651, 1652,    6,\n",
              "          41,   19,   36,   66,   71, 2194,   55,    5, 2195,   10,    5,\n",
              "         487,    4,   21,    2,    0,    0,    0],\n",
              "       [ 488,   14, 1309,  156, 2196,    3,    3,   16,    3,   31,  449,\n",
              "         908,   19,    3,  601,  909,  772,    8,  343,  910,   26,    9,\n",
              "        2197,  344,    4,    2,    0,    0,    0],\n",
              "       [   5,  542,  129,   40, 2198,   12,   34,    5, 1310,  264,   16,\n",
              "          44,  378,   54,   37,   44,  324,   10,    5, 2199,  186,    8,\n",
              "          25, 1311,   23,    9,  111,    4,    2]])"
            ]
          },
          "metadata": {},
          "execution_count": 24
        }
      ]
    },
    {
      "cell_type": "code",
      "source": [
        "word_vocab.batch_decode(word_vocab.batch_encode(tagger_training_x[:3], add_bos=False, add_eos=True), strip_pad=True)"
      ],
      "metadata": {
        "colab": {
          "base_uri": "https://localhost:8080/"
        },
        "id": "LPEDFN-ewbyC",
        "outputId": "4d2c18c5-39e1-451e-d954-806f80e76616"
      },
      "execution_count": 25,
      "outputs": [
        {
          "output_type": "execute_result",
          "data": {
            "text/plain": [
              "[['they',\n",
              "  'know',\n",
              "  '0',\n",
              "  'he',\n",
              "  'is',\n",
              "  'generally',\n",
              "  'opposed',\n",
              "  'to',\n",
              "  'cop-killer',\n",
              "  'bullets',\n",
              "  ',',\n",
              "  'but',\n",
              "  'that',\n",
              "  'he',\n",
              "  'had',\n",
              "  'some',\n",
              "  'reservations',\n",
              "  'about',\n",
              "  'the',\n",
              "  'language',\n",
              "  'in',\n",
              "  'the',\n",
              "  'legislation',\n",
              "  '.',\n",
              "  \"''\",\n",
              "  '-EOS-'],\n",
              " ['california',\n",
              "  \"'s\",\n",
              "  'education',\n",
              "  'department',\n",
              "  'suspects',\n",
              "  '-UNK-',\n",
              "  '-UNK-',\n",
              "  'for',\n",
              "  '-UNK-',\n",
              "  'at',\n",
              "  '40',\n",
              "  'schools',\n",
              "  'that',\n",
              "  '-UNK-',\n",
              "  'changed',\n",
              "  'wrong',\n",
              "  'answers',\n",
              "  'to',\n",
              "  'right',\n",
              "  'ones',\n",
              "  'on',\n",
              "  'a',\n",
              "  'statewide',\n",
              "  'test',\n",
              "  '.',\n",
              "  '-EOS-'],\n",
              " ['the',\n",
              "  'loan',\n",
              "  'may',\n",
              "  'be',\n",
              "  'extended',\n",
              "  '*-1',\n",
              "  'by',\n",
              "  'the',\n",
              "  'mcalpine',\n",
              "  'group',\n",
              "  'for',\n",
              "  'an',\n",
              "  'additional',\n",
              "  'year',\n",
              "  'with',\n",
              "  'an',\n",
              "  'increase',\n",
              "  'in',\n",
              "  'the',\n",
              "  'conversion',\n",
              "  'price',\n",
              "  'to',\n",
              "  '$',\n",
              "  '2.50',\n",
              "  '*u*',\n",
              "  'a',\n",
              "  'share',\n",
              "  '.',\n",
              "  '-EOS-']]"
            ]
          },
          "metadata": {},
          "execution_count": 25
        }
      ]
    },
    {
      "cell_type": "code",
      "source": [
        "import torch\n",
        "from torch.utils.data import Dataset, DataLoader\n",
        "\n",
        "class TextRegressionCorpus(Dataset):\n",
        "    \"\"\"\n",
        "    Use this to give torch access to a corpus of documents annotated with a simple response variable (e.g., category or real number)\n",
        "    This class will also know the vocab objects for tokens\n",
        "    and it will take care of coding strings into integers consistently.\n",
        "    \"\"\"\n",
        "\n",
        "    def __init__(self, corpus_x, corpus_y, vocab_x: Vocab):\n",
        "        \"\"\"\n",
        "        In PyTorch we better always manipulate numerical codes, rather than text.\n",
        "        So, our Corpus object will contain a vocab that converts words to codes.\n",
        "\n",
        "        corpus_x: token sequences\n",
        "        corpus_y: response values\n",
        "        vocab_x: vocabulary of input symbols\n",
        "        \"\"\"\n",
        "        self.corpus_x = list(corpus_x)\n",
        "        self.corpus_y = list(corpus_y)\n",
        "        if len(self.corpus_x) != len(self.corpus_y):\n",
        "            raise ValueError(\"I need pairs\")\n",
        "        self.vocab_x = vocab_x\n",
        "\n",
        "    def __len__(self):\n",
        "        \"\"\"Size of the corpus in number of sequence pairs\"\"\"\n",
        "        return len(self.corpus_x)\n",
        "\n",
        "    def __getitem__(self, idx):\n",
        "        \"\"\"Return corpus_x[idx] and corpus_y[idx] converted to codes and with the EOS code in the end\"\"\"\n",
        "        x = self.vocab_x.encode(self.corpus_x[idx], add_bos=False, add_eos=True)\n",
        "        y = self.corpus_y[idx]\n",
        "        return x, y\n",
        "\n",
        "    def pad_to_longest(self, pairs, pad_id=0):\n",
        "        \"\"\"\n",
        "        Take a list of coded sequences and returns a torch tensor where\n",
        "        every sentence has the same length (by means of using PAD tokens)\n",
        "        \"\"\"\n",
        "        longest = max(len(x) for x, y in pairs)\n",
        "        batch_x = torch.tensor([x + [self.vocab_x.pad_id] * (longest - len(x)) for x, y in pairs])\n",
        "        batch_y = torch.tensor([y for x, y in pairs])\n",
        "        return batch_x, batch_y\n",
        "\n",
        "\n",
        "class ParallelCorpus(Dataset):\n",
        "    \"\"\"\n",
        "    Use this to give torch access to a corpus of sequence pairs.\n",
        "    This class will also know the vocab objects for the two streams.\n",
        "    and it will take care of coding strings into integers consistently.\n",
        "    \"\"\"\n",
        "\n",
        "    def __init__(self, corpus_x, corpus_y, vocab_x: Vocab, vocab_y: Vocab):\n",
        "        \"\"\"\n",
        "        In PyTorch we better always manipulate numerical codes, rather than text.\n",
        "        So, our Corpus object will contain a vocab that converts words to codes.\n",
        "\n",
        "        corpus_x: token sequences\n",
        "        corpus_y: tag sequences\n",
        "        vocab_x: vocabulary for token sequences\n",
        "        vocab_y: vocabulary for tag sequences\n",
        "        \"\"\"\n",
        "        self.corpus_x = list(corpus_x)\n",
        "        self.corpus_y = list(corpus_y)\n",
        "        assert len(self.corpus_x) == len(self.corpus_y), \"I need sequence pairs\"\n",
        "        self.vocab_x = vocab_x\n",
        "        self.vocab_y = vocab_y\n",
        "\n",
        "    def __len__(self):\n",
        "        \"\"\"Size of the corpus in number of sequence pairs\"\"\"\n",
        "        return len(self.corpus_x)\n",
        "\n",
        "    def __getitem__(self, idx):\n",
        "        \"\"\"\n",
        "        Return corpus_x[idx] and corpus_y[idx] converted to codes\n",
        "        the latter has the EOS code in the end\n",
        "        \"\"\"\n",
        "        x = self.vocab_x.encode(self.corpus_x[idx], add_bos=False, add_eos=True)\n",
        "        y = self.vocab_y.encode(self.corpus_y[idx], add_bos=False, add_eos=True)\n",
        "        return x, y\n",
        "\n",
        "    def pad_to_longest(self, pairs, pad_id=0):\n",
        "        \"\"\"\n",
        "        Take a list of coded sequences and returns a torch tensor where\n",
        "        every sentence has the same length (by means of using PAD tokens)\n",
        "        \"\"\"\n",
        "        longest_x = max(len(x) for x, y in pairs)\n",
        "        longest_y = max(len(y) for x, y in pairs)\n",
        "        batch_x = torch.tensor([x + [self.vocab_x.pad_id] * (longest_x - len(x)) for x, y in pairs])\n",
        "        batch_y = torch.tensor([y + [self.vocab_y.pad_id] * (longest_y - len(y)) for x, y in pairs])\n",
        "        return batch_x, batch_y\n",
        "\n",
        "\n",
        "class TaggedCorpus(ParallelCorpus):\n",
        "    \"\"\"\n",
        "    Use this to give torch access to a corpus of tagged sequences.\n",
        "    This class will also know the vocab objects for tokens and tags,\n",
        "    and it will take care of coding strings into integers consistently.\n",
        "    \"\"\"\n",
        "\n",
        "    def __init__(self, corpus_x, corpus_y, vocab_x: Vocab, vocab_y: Vocab):\n",
        "        \"\"\"\n",
        "        In PyTorch we better always manipulate numerical codes, rather than text.\n",
        "        So, our Corpus object will contain a vocab that converts words to codes.\n",
        "\n",
        "        corpus_x: token sequences\n",
        "        corpus_y: tag sequences\n",
        "        vocab_x: vocabulary for token sequences\n",
        "        vocab_y: vocabulary for tag sequences\n",
        "        \"\"\"\n",
        "        super().__init__(corpus_x, corpus_y, vocab_x, vocab_y)\n",
        "        assert all(len(x) == len(y) for x, y in zip(corpus_x, corpus_y)), \"A sequence pair should match in number of steps\""
      ],
      "metadata": {
        "id": "vuOfV5kOwgM4"
      },
      "execution_count": 26,
      "outputs": []
    },
    {
      "cell_type": "code",
      "source": [
        "tagger_training = TaggedCorpus(tagger_training_x, tagger_training_y, word_vocab, tag_vocab)"
      ],
      "metadata": {
        "id": "F9uwGtd2wjgk"
      },
      "execution_count": 27,
      "outputs": []
    },
    {
      "cell_type": "code",
      "source": [
        "batcher = DataLoader(tagger_training, batch_size=3, shuffle=True, collate_fn=tagger_training.pad_to_longest)\n",
        "for batch_x, batch_y in batcher:\n",
        "    print(\"# This is how the tagged sequences in a batch come out of the data loader\\n\")\n",
        "    for x, y in zip(batch_x, batch_y):\n",
        "        print(x)\n",
        "        print(y)\n",
        "        print()\n",
        "\n",
        "    print(\"# And we can always decode them for inspection\\n\")\n",
        "    # stripping padding makes it easier to read the examples\n",
        "    for x, y in zip(word_vocab.batch_decode(batch_x, strip_pad=True), tag_vocab.batch_decode(batch_y, strip_pad=True)):\n",
        "        print(x)\n",
        "        print(y)\n",
        "        print()\n",
        "    break"
      ],
      "metadata": {
        "colab": {
          "base_uri": "https://localhost:8080/"
        },
        "id": "pSgif7p_wliR",
        "outputId": "49354c38-e5da-4de5-de48-f86c15d84714"
      },
      "execution_count": 28,
      "outputs": [
        {
          "output_type": "stream",
          "name": "stdout",
          "text": [
            "# This is how the tagged sequences in a batch come out of the data loader\n",
            "\n",
            "tensor([  77, 2535,    5,  318,    6,   43,  776,    4,    2,    0,    0,    0,\n",
            "           0,    0,    0,    0,    0,    0,    0,    0,    0,    0,    0,    0])\n",
            "tensor([14,  5,  8,  4,  6, 14,  4,  6,  2,  0,  0,  0,  0,  0,  0,  0,  0,  0,\n",
            "         0,  0,  0,  0,  0,  0])\n",
            "\n",
            "tensor([   3,    3,   11,    3,   98,   13,   45,   29,    3,    7,  101,  918,\n",
            "         175,   34, 1491,   15,    8,    3,   49,    3,  748,  213,    4,    2])\n",
            "tensor([ 4,  4, 15,  4,  5, 10, 14,  5,  9,  7,  8,  4, 10,  7,  4, 10, 13,  5,\n",
            "        15,  5,  4,  4,  6,  2])\n",
            "\n",
            "tensor([ 46, 882,  69,   2,   0,   0,   0,   0,   0,   0,   0,   0,   0,   0,\n",
            "          0,   0,   0,   0,   0,   0,   0,   0,   0,   0])\n",
            "tensor([4, 4, 6, 2, 0, 0, 0, 0, 0, 0, 0, 0, 0, 0, 0, 0, 0, 0, 0, 0, 0, 0, 0, 0])\n",
            "\n",
            "# And we can always decode them for inspection\n",
            "\n",
            "['i', 'loved', 'the', 'school', ',', 'its', 'history', '.', '-EOS-']\n",
            "['PRON', 'VERB', 'DET', 'NOUN', '.', 'PRON', 'NOUN', '.', '-EOS-']\n",
            "\n",
            "['-UNK-', '-UNK-', 'and', '-UNK-', 'say', '0', 'they', 'are', '-UNK-', 'of', 'any', 'efforts', '*ich*-1', 'by', 'mcgraw-hill', '*', 'to', '-UNK-', 'or', '-UNK-', 'scoring', 'high', '.', '-EOS-']\n",
            "['NOUN', 'NOUN', 'CONJ', 'NOUN', 'VERB', 'X', 'PRON', 'VERB', 'ADJ', 'ADP', 'DET', 'NOUN', 'X', 'ADP', 'NOUN', 'X', 'PRT', 'VERB', 'CONJ', 'VERB', 'NOUN', 'NOUN', '.', '-EOS-']\n",
            "\n",
            "['new', 'account', ':', '-EOS-']\n",
            "['NOUN', 'NOUN', '.', '-EOS-']\n",
            "\n"
          ]
        }
      ]
    },
    {
      "cell_type": "code",
      "source": [
        "import torch\n",
        "import torch.nn as nn\n",
        "import torch.nn.functional as F\n",
        "\n",
        "\n",
        "class Encoder(nn.Module):\n",
        "\n",
        "    def __init__(self, output_dim):\n",
        "        super().__init__()\n",
        "        self._output_dim = output_dim\n",
        "\n",
        "    @property\n",
        "    def output_dim(self):\n",
        "        return self._output_dim\n",
        "\n",
        "    def forward(self, x):\n",
        "        \"\"\"\n",
        "        x: [batch_size, max_length]\n",
        "\n",
        "        Return a tensor of shape [batch_size, max_length, output_dim] or\n",
        "            [batch_size, output_dim]\n",
        "        \"\"\"\n",
        "        raise NotImplementedError(\"Implement me!\")"
      ],
      "metadata": {
        "id": "_cVdcWsLwoxH"
      },
      "execution_count": 29,
      "outputs": []
    },
    {
      "cell_type": "code",
      "source": [
        "class TextEncoder(Encoder):\n",
        "    \"\"\"\n",
        "    Given a predictor x this NN parameterises the pdf of the random variable Y|X=x.\n",
        "    In other words, it predicts the conditional distribution P(Y|X=x).\n",
        "    When reduce_mean is True the forward will return a single output vector per document.\n",
        "    When reduce_mean is False one vector per word in the document is returned instead.\n",
        "    \"\"\"\n",
        "\n",
        "    def __init__(self, vocab_size: int, word_embed_dim: int, hidden_size: int, reduce_mean=False, pad_id=0, p_drop=0.):\n",
        "        super().__init__(2 * hidden_size)\n",
        "        self.pad_id = pad_id\n",
        "        self.word_embed_dim = word_embed_dim\n",
        "        self.hidden_size = hidden_size\n",
        "        self.vocab_size = vocab_size\n",
        "        self.word_embed = nn.Embedding(self.vocab_size, embedding_dim=word_embed_dim)\n",
        "        self.encoder = nn.LSTM(\n",
        "            input_size=word_embed_dim,\n",
        "            hidden_size=hidden_size,\n",
        "            num_layers=1,\n",
        "            batch_first=True,\n",
        "            bidirectional=True,\n",
        "        )\n",
        "        self.reduce_mean = reduce_mean\n",
        "\n",
        "    def forward(self, x):\n",
        "        \"\"\"\n",
        "        x: [batch_size, max_length]\n",
        "        \"\"\"\n",
        "        # We begin by embedding the tokens\n",
        "        # [batch_size, max_length, embed_dim]\n",
        "        h = self.word_embed(x)\n",
        "        # [batch_size, max_length, 2*hidden_size*num_layers]\n",
        "        h, _ = self.encoder(h)\n",
        "        if self.reduce_mean: # average pooling\n",
        "            h = torch.where((x == self.pad_id).unsqueeze(-1), torch.zeros_like(h), h)\n",
        "            h = torch.sum(h, axis=-2) / torch.sum((x != self.pad_id).float(), -1, keepdims=True)\n",
        "        return h"
      ],
      "metadata": {
        "id": "bQOpDz8Twzi4"
      },
      "execution_count": 30,
      "outputs": []
    },
    {
      "cell_type": "markdown",
      "source": [
        "### **Probabilistic model**"
      ],
      "metadata": {
        "id": "zHiW6rjZyJFw"
      }
    },
    {
      "cell_type": "markdown",
      "source": [
        "A probabilistic model prescribes the probability measure of a random experiment, in this tutorial we will design models by explicitly parameterising a probability density function (pdf using NNs. When our random variables (rvs) are multivariate or structured we will pick a factorisation of the joint pdf, decide on the statistical family of each factor, and parameterise the factors using NNs."
      ],
      "metadata": {
        "id": "pYYKm6f4yPMJ"
      }
    },
    {
      "cell_type": "code",
      "source": [
        "class Model(nn.Module):\n",
        "    \"\"\"\n",
        "    A probabilistic model predicts the probability measure of a random experiment.\n",
        "    We will predict the distribution of the random variable Y conditioned on\n",
        "    an assignment to the random variable X=x.\n",
        "\n",
        "    As a modelling mechanism we will use pmfs and pdfs, hence predicting\n",
        "    the distribution P(Y|X=x) requires mapping from x to the parameters of a\n",
        "    pmf/pdf for Y, or, in case of multivariate/structured data, a joint pdf\n",
        "    whose factorisation we decide upon.\n",
        "\n",
        "    For us, a model needs to satisfy the following desiderata:\n",
        "    * parameterising the pdf is tractable\n",
        "    * assessing the pdf for a given outcome Y=y|X=x is tractable\n",
        "    * drawing samples from P(Y|X=x) is tractable\n",
        "    * the pdf p(y|x) is differentiable with respect to the parameters of the\n",
        "      NN that predicts its parameter(s)\n",
        "\n",
        "\n",
        "    The only aspects of the Model's API that is fixed are:\n",
        "    * log_prob(x, y) -> tensor of floats, one value per instance in the batch\n",
        "    * sample(x, sample_size) -> batch of samples\n",
        "    * forward(...) -> a torch.distribution object\n",
        "        the signature of the forward method may vary in subclasses\n",
        "\n",
        "    \"\"\"\n",
        "\n",
        "    def __init__(self, event_shape=tuple()):\n",
        "        \"\"\"\n",
        "        The event_shape is the shape of the outcome of the rv Y.\n",
        "        \"\"\"\n",
        "        super().__init__()\n",
        "        self._event_shape = event_shape\n",
        "\n",
        "    @property\n",
        "    def event_shape(self):\n",
        "        return self._event_shape\n",
        "\n",
        "    def num_parameters(self):\n",
        "        return sum(np.prod(theta.shape) for theta in self.parameters())\n",
        "\n",
        "    def forward(self, x):\n",
        "        \"\"\"\n",
        "        x: [batch_size, ...]\n",
        "        \"\"\"\n",
        "        raise NotImplementedError(\"Each type of model will have a different implementation here\")\n",
        "\n",
        "    def sample(self, x, sample_size=tuple()):\n",
        "        \"\"\"\n",
        "        x: [batch_size, ...]\n",
        "        Return a batch of samples from Y|X=x\n",
        "        \"\"\"\n",
        "        raise NotImplementedError(\"Each type of model will have a different implementation here\")\n",
        "\n",
        "    def log_prob(self, x, y):\n",
        "        \"\"\"\n",
        "        Computes the log pdf for Y=y|X=x for each pair in the batch.\n",
        "\n",
        "        x: batch_shape + event_shape_x\n",
        "        y: batch_shape + event_shape\n",
        "        \"\"\"\n",
        "\n",
        "        # Predict the conditional probability distribution using the forward function.\n",
        "        # This will return one such probability distribution per batch element.\n",
        "        cpds = self(x=x)\n",
        "\n",
        "        # Computer the log probability of each element in the batch.\n",
        "        logp = cpds.log_prob(y) # [batch_size]\n",
        "\n",
        "        return logp"
      ],
      "metadata": {
        "id": "2N_oV47Ixmmo"
      },
      "execution_count": 31,
      "outputs": []
    },
    {
      "cell_type": "markdown",
      "source": [
        "### **Parameter estimation**"
      ],
      "metadata": {
        "id": "8SYyjDCDx-qb"
      }
    },
    {
      "cell_type": "markdown",
      "source": [
        "We will estimate parameters using maximum likelihood estimation (MLE), via gradient-based search. This means we need to assess the model’s likelihood given a dataset (or batch) of observations and the likelihood function must be tractable and differentiable with respect to the NN parameters."
      ],
      "metadata": {
        "id": "PIRV81-nyCjg"
      }
    },
    {
      "cell_type": "code",
      "source": [
        "def loss(self, x, y):\n",
        "    \"\"\"\n",
        "    No matter the probabilistic model, the loss is the negative log likelihood\n",
        "    of the parameters estimated on a single batch:\n",
        "        - 1/batch_size * \\sum_{s} log P(y[s]|x[s], theta)\n",
        "\n",
        "    x: batch_shape + event_shape_x\n",
        "    y: batch_shape + event_shape\n",
        "    \"\"\"\n",
        "    return -self.log_prob(x=x, y=y).mean(0)"
      ],
      "metadata": {
        "id": "XX-M9gKHxvm-"
      },
      "execution_count": 32,
      "outputs": []
    },
    {
      "cell_type": "code",
      "source": [
        "def distortion(model, dl, device):\n",
        "    \"\"\"\n",
        "    Wrapper for estimating distortion using all data points in a data loader.\n",
        "    \"\"\"\n",
        "    total_log_prob = 0.\n",
        "    data_size = 0\n",
        "    with torch.no_grad():\n",
        "        for batch_x, batch_y in dl:\n",
        "            total_log_prob = total_log_prob + model.log_prob(batch_x.to(device), batch_y.to(device)).sum()\n",
        "            data_size += batch_x.shape[0]\n",
        "    return - total_log_prob / data_size\n"
      ],
      "metadata": {
        "id": "9XnHIT5pyTF1"
      },
      "execution_count": 33,
      "outputs": []
    },
    {
      "cell_type": "code",
      "source": [
        "class DecisionRule:\n",
        "\n",
        "    def __init__(self):\n",
        "        super().__init__()\n",
        "\n",
        "    def __call__(self, model, x):\n",
        "        \"\"\"\n",
        "        This function should map from a model and input, and the resulting predicted probability distribution,\n",
        "        to a single outcome.\n",
        "        \"\"\"\n",
        "        raise NotImplementedError(\"Implement me!\")\n",
        "\n",
        "\n",
        "class ExactMode(DecisionRule):\n",
        "    \"\"\"\n",
        "    This decision rule returns the most probable outcome under the predicted probability distribution, assuming\n",
        "    a unimodal or discrete probability distribution.\n",
        "    \"\"\"\n",
        "\n",
        "    def __call__(self, model, x):\n",
        "        return model.mode(x)"
      ],
      "metadata": {
        "id": "pAqpRcfd2zcf"
      },
      "execution_count": 34,
      "outputs": []
    },
    {
      "cell_type": "code",
      "source": [
        "def predict(model, rule, dl, device, return_targets=False, strip_pad=True):\n",
        "    \"\"\"\n",
        "    Wrapper for predictions using a decision rule.\n",
        "\n",
        "    model: one of our taggers\n",
        "    dl: a data loader for the heldout data\n",
        "    device: the PyTorch device where the model is stored\n",
        "    return_targets: also return the targets from the data loader\n",
        "        you can use this when the actual targets are in the dataloader (e.g., for dev set)\n",
        "\n",
        "    Return\n",
        "        * a list of predictions, each a sequence of tags (already decoded)\n",
        "        * if return_targets=True, additionally return a list of targets, each a sequence of tags (already decoded)\n",
        "    \"\"\"\n",
        "    all_preds = []\n",
        "    all_targets = []\n",
        "    with torch.no_grad():\n",
        "        for batch_x, batch_y in dl:\n",
        "            preds = rule(model, batch_x.to(device))\n",
        "            all_preds.extend(preds.cpu().numpy())\n",
        "            all_targets.extend(batch_y.cpu().numpy())\n",
        "\n",
        "    if return_targets:\n",
        "        return all_preds, all_targets\n",
        "    else:\n",
        "        return all_preds"
      ],
      "metadata": {
        "id": "cUhgHDB-24Tp"
      },
      "execution_count": 35,
      "outputs": []
    },
    {
      "cell_type": "markdown",
      "source": [
        "### **Training Procedure "
      ],
      "metadata": {
        "id": "uPhjAfKl2-aG"
      }
    },
    {
      "cell_type": "code",
      "source": [
        "import torch\n",
        "import torch.nn as nn\n",
        "import torch.nn.functional as F\n",
        "import torch.distributions as td\n",
        "import torch.optim as opt\n",
        "from tqdm.notebook import tqdm\n",
        "import matplotlib.pyplot as plt"
      ],
      "metadata": {
        "id": "Al8kcd1727a3"
      },
      "execution_count": 36,
      "outputs": []
    },
    {
      "cell_type": "code",
      "source": [
        "from sklearn.metrics import classification_report, mean_squared_error, mean_absolute_error, median_absolute_error\n",
        "from collections import defaultdict\n",
        "from itertools import chain\n",
        "\n",
        "\n",
        "def flatten(seq):\n",
        "    \"\"\"flattens a python list\"\"\"\n",
        "    return list(chain.from_iterable(seq))\n",
        "\n",
        "def report_regression(y_true, y_pred):\n",
        "    return {\"MSE\": mean_squared_error(y_true, y_pred), \"MAE\": mean_absolute_error(y_true, y_pred), \"MdAE\": median_absolute_error(y_true, y_pred)}\n",
        "\n",
        "def report_classification(y_true, y_pred):\n",
        "    return classification_report(y_true, y_pred, output_dict=True, zero_division=0)\n",
        "\n",
        "def report_tagging(y_true, y_pred, score_pad=False, pad_id=0):\n",
        "    if not score_pad:\n",
        "        pairs = [(t, p) for t, p in zip(flatten(y_true), flatten(y_pred)) if t != pad_id]\n",
        "        y_true = [t for t, p in pairs]\n",
        "        y_pred = [p for t, p in pairs]\n",
        "    return classification_report(y_true, y_pred, output_dict=True, zero_division=0)"
      ],
      "metadata": {
        "id": "xz3gDuzB29n-"
      },
      "execution_count": 37,
      "outputs": []
    },
    {
      "cell_type": "code",
      "source": [
        "def train_neural_model(model: Model, optimiser, decision_rule: DecisionRule,\n",
        "    training_data, dev_data,\n",
        "    batch_size=200, num_epochs=10, check_every=10,\n",
        "    report_fn=None, report_metrics=[],\n",
        "    device=torch.device('cuda:0')\n",
        "    ):\n",
        "    \"\"\"\n",
        "    model: pytorch model\n",
        "    optimiser: pytorch optimiser\n",
        "    training_corpus: a TaggedCorpus for trianing\n",
        "    dev_corpus: a TaggedCorpus for dev\n",
        "    batch_size: use more if you have more memory\n",
        "    num_epochs: use more for improved convergence\n",
        "    check_every: use less to check performance on dev set more often\n",
        "    device: where we run the experiment\n",
        "\n",
        "    Return a log of quantities computed during training (for plotting)\n",
        "    \"\"\"\n",
        "    # We use the training data in random order for parameter estimation\n",
        "    batcher = DataLoader(training_data, batch_size=batch_size, shuffle=True, collate_fn=training_data.pad_to_longest)\n",
        "    # We use the dev data for evaluation during training (no need for randomisation here)\n",
        "    dev_batcher = DataLoader(dev_data, batch_size=batch_size, shuffle=False, collate_fn=dev_data.pad_to_longest)\n",
        "\n",
        "    total_steps = num_epochs * len(batcher)\n",
        "    log = defaultdict(list)\n",
        "\n",
        "    model.eval()\n",
        "    log['D'].append(distortion(model, dev_batcher, device=device).item())\n",
        "\n",
        "    if report_fn:\n",
        "        preds, targets = predict(\n",
        "            model,\n",
        "            decision_rule,\n",
        "            dev_batcher,\n",
        "            device=device,\n",
        "            return_targets=True\n",
        "        )\n",
        "        report = report_fn(targets, preds)\n",
        "        for metric in report_metrics:\n",
        "            log[metric].append(report[metric])\n",
        "\n",
        "    step = 0\n",
        "\n",
        "    with tqdm(range(total_steps)) as bar:\n",
        "        for epoch in range(num_epochs):\n",
        "            for batch_x, batch_y in batcher:\n",
        "                model.train()\n",
        "                optimiser.zero_grad()\n",
        "\n",
        "                L = loss(model, batch_x.to(device), batch_y.to(device))\n",
        "\n",
        "                L.backward()\n",
        "                optimiser.step()\n",
        "\n",
        "                bar_dict = OrderedDict()\n",
        "                bar_dict['loss'] = f\"{L.item():.2f}\"\n",
        "                bar_dict['D'] =  f\"{log['D'][-1]:.2f}\"\n",
        "                for metric in report_metrics:\n",
        "                    bar_dict[metric] =  \"{:.2f}\".format(log[metric][-1])\n",
        "                bar.set_postfix(bar_dict)\n",
        "                bar.update()\n",
        "\n",
        "                log['loss'].append(L.item())\n",
        "\n",
        "                if step % check_every == 0:\n",
        "                    model.eval()\n",
        "                    log['D'].append(distortion(model, dev_batcher, device=device).item())\n",
        "\n",
        "                    if report_fn:\n",
        "                        preds, targets = predict(\n",
        "                            model,\n",
        "                            decision_rule,\n",
        "                            dev_batcher,\n",
        "                            device=device,\n",
        "                            return_targets=True\n",
        "                        )\n",
        "                        report = report_fn(targets, preds)\n",
        "                        for metric in report_metrics:\n",
        "                            log[metric].append(report[metric])\n",
        "\n",
        "                step += 1\n",
        "\n",
        "    model.eval()\n",
        "    log['D'].append(distortion(model, dev_batcher, device=device).item())\n",
        "\n",
        "    if report_fn:\n",
        "        preds, targets = predict(\n",
        "            model,\n",
        "            decision_rule,\n",
        "            dev_batcher,\n",
        "            device=device,\n",
        "            return_targets=True\n",
        "        )\n",
        "        report = report_fn(targets, preds)\n",
        "        for metric in report_metrics:\n",
        "            log[metric].append(report[metric])\n",
        "\n",
        "    return log"
      ],
      "metadata": {
        "id": "XjtQFccZ3FhM"
      },
      "execution_count": 38,
      "outputs": []
    },
    {
      "cell_type": "markdown",
      "source": [
        "### **Example**"
      ],
      "metadata": {
        "id": "RwewEc2D3WtI"
      }
    },
    {
      "cell_type": "code",
      "source": [
        "class CategoricalModel(Model):\n",
        "    \"\"\"\n",
        "    Given a predictor x this NN parameterises the pdf of the random variable Y|X=x,\n",
        "    where Y is Categorically distributed.\n",
        "    In other words, it predicts the conditional distribution P(Y|X=x).\n",
        "    \"\"\"\n",
        "\n",
        "    def __init__(self, support_size, hidden_size: int, encoder: Encoder, p_drop=0.):\n",
        "        super().__init__(tuple())\n",
        "        self.encoder = encoder\n",
        "        self.support_size = support_size\n",
        "        self.hidden_size = hidden_size\n",
        "\n",
        "        # We have a simple neural network that maps from the text encodings to\n",
        "        # logits for the Categorical distribution.\n",
        "        self.logits_predictor = nn.Sequential(\n",
        "            nn.Dropout(p_drop),\n",
        "            nn.Linear(encoder.output_dim, hidden_size),\n",
        "            nn.ReLU(),\n",
        "            nn.Dropout(p_drop),\n",
        "            nn.Linear(hidden_size, support_size)\n",
        "        )\n",
        "\n",
        "    def forward(self, x):\n",
        "\n",
        "        # We begin by encoding the tokens\n",
        "        h = self.encoder(x) # batch_shape, (enc_dim,)\n",
        "\n",
        "        # We use the logit predictor network to transform those into logits.\n",
        "        logits = self.logits_predictor(h) # batch_shape, (support_size,)\n",
        "\n",
        "        # We return a Categorical distribution with the predicted logits as its parameters.\n",
        "        return td.Categorical(logits=logits)\n",
        "\n",
        "    def sample(self, x, sample_size=tuple()):\n",
        "        with torch.no_grad():\n",
        "            cpd = self(x=x)\n",
        "            return cpd.sample(sample_size)\n",
        "\n",
        "    def mode(self, x):\n",
        "        with torch.no_grad():\n",
        "            # Predict the Categorical distribution of P(Y|X=x)\n",
        "            cpd = self(x=x)\n",
        "\n",
        "            # We can easily obtain the exact mode by taking the argmax over logits.\n",
        "            mode = torch.argmax(cpd.logits, -1)\n",
        "\n",
        "            return mode"
      ],
      "metadata": {
        "id": "0gZJvYOz3Yd-"
      },
      "execution_count": 39,
      "outputs": []
    },
    {
      "cell_type": "code",
      "source": [
        "encoder = TextEncoder(len(word_vocab), 7, 5, True)\n",
        "cat_model = CategoricalModel(3, 12, encoder)\n",
        "for batch_x, batch_y in batcher:\n",
        "    print(batch_x.shape)\n",
        "    print(cat_model(batch_x).logits)\n",
        "    print(cat_model.mode(batch_x))\n",
        "    print(cat_model.sample(batch_x))\n",
        "    break"
      ],
      "metadata": {
        "colab": {
          "base_uri": "https://localhost:8080/"
        },
        "id": "C4KIwUHo3cfp",
        "outputId": "9b8c4b76-f063-4fbc-cd58-08eddc2e9def"
      },
      "execution_count": 40,
      "outputs": [
        {
          "output_type": "stream",
          "name": "stdout",
          "text": [
            "torch.Size([3, 28])\n",
            "tensor([[-1.2122, -1.1352, -0.9647],\n",
            "        [-1.1917, -1.1365, -0.9799],\n",
            "        [-1.2199, -1.1338, -0.9599]], grad_fn=<SubBackward0>)\n",
            "tensor([2, 2, 2])\n",
            "tensor([2, 0, 1])\n"
          ]
        }
      ]
    },
    {
      "cell_type": "code",
      "source": [
        "# We already set up the data at the start of this notebook. We are only left to construct the word vocabulary.\n",
        "cat_vocab = Vocab(cat_training_x, min_freq=2)\n",
        "print(len(cat_vocab))"
      ],
      "metadata": {
        "colab": {
          "base_uri": "https://localhost:8080/"
        },
        "id": "5SLZbC-g3goG",
        "outputId": "cc65ecce-28c6-4687-fd70-d4689a1d5a8b"
      },
      "execution_count": 41,
      "outputs": [
        {
          "output_type": "stream",
          "name": "stdout",
          "text": [
            "22734\n"
          ]
        }
      ]
    },
    {
      "cell_type": "code",
      "source": [
        "# Now let's train a model on this data.\n",
        "\n",
        "# First, reset random number generators\n",
        "seed_all()\n",
        "\n",
        "# Use GPU acceleration\n",
        "my_device = torch.device('cuda:0')\n",
        "\n",
        "# Create the model\n",
        "model = CategoricalModel(\n",
        "    support_size=len(brown.categories()),\n",
        "    hidden_size=32,\n",
        "    encoder=TextEncoder(\n",
        "        vocab_size=len(cat_vocab),\n",
        "        word_embed_dim=100,\n",
        "        hidden_size=64,\n",
        "        reduce_mean=True,\n",
        "        pad_id=cat_vocab.pad_id\n",
        "    ),\n",
        "    p_drop=0.1\n",
        ").to(my_device)\n",
        "\n",
        "# Construct an Adam optimiser\n",
        "optimiser = opt.Adam(model.parameters(), lr=5e-3)\n",
        "\n",
        "print(\"Model\")\n",
        "print(model)\n",
        "\n",
        "# Report number of parameters\n",
        "print(f\"Model size: {model.num_parameters():,} parameters\")\n",
        "\n",
        "# Train the model\n",
        "log = train_neural_model(\n",
        "    model, optimiser,\n",
        "    decision_rule=ExactMode(),\n",
        "    training_data=TextRegressionCorpus(cat_training_x, cat_training_y, cat_vocab),\n",
        "    dev_data=TextRegressionCorpus(cat_dev_x, cat_dev_y, cat_vocab),\n",
        "    report_fn=report_classification,\n",
        "    report_metrics=['accuracy'],\n",
        "    batch_size=500, num_epochs=20, check_every=100,\n",
        "    device=my_device\n",
        ")\n",
        "\n",
        "# Plot loss and validation checks\n",
        "fig, axs = plt.subplots(1, 3, sharey=False, figsize=(12, 4))\n",
        "_ = axs[0].plot(np.arange(len(log['loss'])), log['loss'])\n",
        "_ = axs[0].set_xlabel('steps')\n",
        "_ = axs[0].set_ylabel('training loss')\n",
        "_ = axs[1].plot(np.arange(len(log['D'])), log['D'])\n",
        "_ = axs[1].set_xlabel('steps (in 100s)')\n",
        "_ = axs[1].set_ylabel('D given dev')\n",
        "_ = axs[2].plot(np.arange(len(log['accuracy'])), log['accuracy'])\n",
        "_ = axs[2].set_xlabel('steps (in 10s)')\n",
        "_ = axs[2].set_ylabel('dev acc')\n",
        "_ = fig.tight_layout(h_pad=2, w_pad=2)\n",
        "plt.show()"
      ],
      "metadata": {
        "colab": {
          "base_uri": "https://localhost:8080/",
          "height": 698,
          "referenced_widgets": [
            "e25979eb533e43ae9aabe7c62a04b9c9",
            "4129235dd2b946c2999da538428e9348",
            "74ac51460c5e4a35be1705731002bbad",
            "3e0cea02f4fb4cefaed81f71cedab97f",
            "d1e37ac5c6fc4062a699b909a18b6f81",
            "e6277c849fa24ca9b7d78577e167313b",
            "1bdf45675c5c46aea79eba9094fe8706",
            "e8b955b6d1694f3fa07266f6381dcbce",
            "78f54e7e3d6b4bfd85ec7cd02b49cb98",
            "1e861f2c8f3244daaf8a53919d7dd03a",
            "1d2f39ed78904305a135819960e8ba96"
          ]
        },
        "id": "OmEpoRns3jrY",
        "outputId": "ecc2a5a1-90df-49ee-abdc-6420dc28583b"
      },
      "execution_count": 42,
      "outputs": [
        {
          "output_type": "stream",
          "name": "stdout",
          "text": [
            "Model\n",
            "CategoricalModel(\n",
            "  (encoder): TextEncoder(\n",
            "    (word_embed): Embedding(22734, 100)\n",
            "    (encoder): LSTM(100, 64, batch_first=True, bidirectional=True)\n",
            "  )\n",
            "  (logits_predictor): Sequential(\n",
            "    (0): Dropout(p=0.1, inplace=False)\n",
            "    (1): Linear(in_features=128, out_features=32, bias=True)\n",
            "    (2): ReLU()\n",
            "    (3): Dropout(p=0.1, inplace=False)\n",
            "    (4): Linear(in_features=32, out_features=15, bias=True)\n",
            "  )\n",
            ")\n",
            "Model size: 2,363,015 parameters\n"
          ]
        },
        {
          "output_type": "display_data",
          "data": {
            "text/plain": [
              "  0%|          | 0/1800 [00:00<?, ?it/s]"
            ],
            "application/vnd.jupyter.widget-view+json": {
              "version_major": 2,
              "version_minor": 0,
              "model_id": "e25979eb533e43ae9aabe7c62a04b9c9"
            }
          },
          "metadata": {}
        },
        {
          "output_type": "display_data",
          "data": {
            "text/plain": [
              "<Figure size 1200x400 with 3 Axes>"
            ],
            "image/svg+xml": "<?xml version=\"1.0\" encoding=\"utf-8\" standalone=\"no\"?>\n<!DOCTYPE svg PUBLIC \"-//W3C//DTD SVG 1.1//EN\"\n  \"http://www.w3.org/Graphics/SVG/1.1/DTD/svg11.dtd\">\n<svg xmlns:xlink=\"http://www.w3.org/1999/xlink\" width=\"856.46125pt\" height=\"279.99625pt\" viewBox=\"0 0 856.46125 279.99625\" xmlns=\"http://www.w3.org/2000/svg\" version=\"1.1\">\n <metadata>\n  <rdf:RDF xmlns:dc=\"http://purl.org/dc/elements/1.1/\" xmlns:cc=\"http://creativecommons.org/ns#\" xmlns:rdf=\"http://www.w3.org/1999/02/22-rdf-syntax-ns#\">\n   <cc:Work>\n    <dc:type rdf:resource=\"http://purl.org/dc/dcmitype/StillImage\"/>\n    <dc:date>2023-05-14T06:10:33.653397</dc:date>\n    <dc:format>image/svg+xml</dc:format>\n    <dc:creator>\n     <cc:Agent>\n      <dc:title>Matplotlib v3.7.1, https://matplotlib.org/</dc:title>\n     </cc:Agent>\n    </dc:creator>\n   </cc:Work>\n  </rdf:RDF>\n </metadata>\n <defs>\n  <style type=\"text/css\">*{stroke-linejoin: round; stroke-linecap: butt}</style>\n </defs>\n <g id=\"figure_1\">\n  <g id=\"patch_1\">\n   <path d=\"M 0 279.99625 \nL 856.46125 279.99625 \nL 856.46125 0 \nL 0 0 \nz\n\" style=\"fill: #ffffff\"/>\n  </g>\n  <g id=\"axes_1\">\n   <g id=\"patch_2\">\n    <path d=\"M 43.78125 242.44 \nL 270.127917 242.44 \nL 270.127917 7.2 \nL 43.78125 7.2 \nz\n\" style=\"fill: #ffffff\"/>\n   </g>\n   <g id=\"matplotlib.axis_1\">\n    <g id=\"xtick_1\">\n     <g id=\"line2d_1\">\n      <defs>\n       <path id=\"me238dfddbe\" d=\"M 0 0 \nL 0 3.5 \n\" style=\"stroke: #000000; stroke-width: 0.8\"/>\n      </defs>\n      <g>\n       <use xlink:href=\"#me238dfddbe\" x=\"54.069735\" y=\"242.44\" style=\"stroke: #000000; stroke-width: 0.8\"/>\n      </g>\n     </g>\n     <g id=\"text_1\">\n      <!-- 0 -->\n      <g transform=\"translate(50.888485 257.038438) scale(0.1 -0.1)\">\n       <defs>\n        <path id=\"DejaVuSans-30\" d=\"M 2034 4250 \nQ 1547 4250 1301 3770 \nQ 1056 3291 1056 2328 \nQ 1056 1369 1301 889 \nQ 1547 409 2034 409 \nQ 2525 409 2770 889 \nQ 3016 1369 3016 2328 \nQ 3016 3291 2770 3770 \nQ 2525 4250 2034 4250 \nz\nM 2034 4750 \nQ 2819 4750 3233 4129 \nQ 3647 3509 3647 2328 \nQ 3647 1150 3233 529 \nQ 2819 -91 2034 -91 \nQ 1250 -91 836 529 \nQ 422 1150 422 2328 \nQ 422 3509 836 4129 \nQ 1250 4750 2034 4750 \nz\n\" transform=\"scale(0.015625)\"/>\n       </defs>\n       <use xlink:href=\"#DejaVuSans-30\"/>\n      </g>\n     </g>\n    </g>\n    <g id=\"xtick_2\">\n     <g id=\"line2d_2\">\n      <g>\n       <use xlink:href=\"#me238dfddbe\" x=\"111.259756\" y=\"242.44\" style=\"stroke: #000000; stroke-width: 0.8\"/>\n      </g>\n     </g>\n     <g id=\"text_2\">\n      <!-- 500 -->\n      <g transform=\"translate(101.716006 257.038438) scale(0.1 -0.1)\">\n       <defs>\n        <path id=\"DejaVuSans-35\" d=\"M 691 4666 \nL 3169 4666 \nL 3169 4134 \nL 1269 4134 \nL 1269 2991 \nQ 1406 3038 1543 3061 \nQ 1681 3084 1819 3084 \nQ 2600 3084 3056 2656 \nQ 3513 2228 3513 1497 \nQ 3513 744 3044 326 \nQ 2575 -91 1722 -91 \nQ 1428 -91 1123 -41 \nQ 819 9 494 109 \nL 494 744 \nQ 775 591 1075 516 \nQ 1375 441 1709 441 \nQ 2250 441 2565 725 \nQ 2881 1009 2881 1497 \nQ 2881 1984 2565 2268 \nQ 2250 2553 1709 2553 \nQ 1456 2553 1204 2497 \nQ 953 2441 691 2322 \nL 691 4666 \nz\n\" transform=\"scale(0.015625)\"/>\n       </defs>\n       <use xlink:href=\"#DejaVuSans-35\"/>\n       <use xlink:href=\"#DejaVuSans-30\" x=\"63.623047\"/>\n       <use xlink:href=\"#DejaVuSans-30\" x=\"127.246094\"/>\n      </g>\n     </g>\n    </g>\n    <g id=\"xtick_3\">\n     <g id=\"line2d_3\">\n      <g>\n       <use xlink:href=\"#me238dfddbe\" x=\"168.449778\" y=\"242.44\" style=\"stroke: #000000; stroke-width: 0.8\"/>\n      </g>\n     </g>\n     <g id=\"text_3\">\n      <!-- 1000 -->\n      <g transform=\"translate(155.724778 257.038438) scale(0.1 -0.1)\">\n       <defs>\n        <path id=\"DejaVuSans-31\" d=\"M 794 531 \nL 1825 531 \nL 1825 4091 \nL 703 3866 \nL 703 4441 \nL 1819 4666 \nL 2450 4666 \nL 2450 531 \nL 3481 531 \nL 3481 0 \nL 794 0 \nL 794 531 \nz\n\" transform=\"scale(0.015625)\"/>\n       </defs>\n       <use xlink:href=\"#DejaVuSans-31\"/>\n       <use xlink:href=\"#DejaVuSans-30\" x=\"63.623047\"/>\n       <use xlink:href=\"#DejaVuSans-30\" x=\"127.246094\"/>\n       <use xlink:href=\"#DejaVuSans-30\" x=\"190.869141\"/>\n      </g>\n     </g>\n    </g>\n    <g id=\"xtick_4\">\n     <g id=\"line2d_4\">\n      <g>\n       <use xlink:href=\"#me238dfddbe\" x=\"225.639799\" y=\"242.44\" style=\"stroke: #000000; stroke-width: 0.8\"/>\n      </g>\n     </g>\n     <g id=\"text_4\">\n      <!-- 1500 -->\n      <g transform=\"translate(212.914799 257.038438) scale(0.1 -0.1)\">\n       <use xlink:href=\"#DejaVuSans-31\"/>\n       <use xlink:href=\"#DejaVuSans-35\" x=\"63.623047\"/>\n       <use xlink:href=\"#DejaVuSans-30\" x=\"127.246094\"/>\n       <use xlink:href=\"#DejaVuSans-30\" x=\"190.869141\"/>\n      </g>\n     </g>\n    </g>\n    <g id=\"text_5\">\n     <!-- steps -->\n     <g transform=\"translate(143.534271 270.716563) scale(0.1 -0.1)\">\n      <defs>\n       <path id=\"DejaVuSans-73\" d=\"M 2834 3397 \nL 2834 2853 \nQ 2591 2978 2328 3040 \nQ 2066 3103 1784 3103 \nQ 1356 3103 1142 2972 \nQ 928 2841 928 2578 \nQ 928 2378 1081 2264 \nQ 1234 2150 1697 2047 \nL 1894 2003 \nQ 2506 1872 2764 1633 \nQ 3022 1394 3022 966 \nQ 3022 478 2636 193 \nQ 2250 -91 1575 -91 \nQ 1294 -91 989 -36 \nQ 684 19 347 128 \nL 347 722 \nQ 666 556 975 473 \nQ 1284 391 1588 391 \nQ 1994 391 2212 530 \nQ 2431 669 2431 922 \nQ 2431 1156 2273 1281 \nQ 2116 1406 1581 1522 \nL 1381 1569 \nQ 847 1681 609 1914 \nQ 372 2147 372 2553 \nQ 372 3047 722 3315 \nQ 1072 3584 1716 3584 \nQ 2034 3584 2315 3537 \nQ 2597 3491 2834 3397 \nz\n\" transform=\"scale(0.015625)\"/>\n       <path id=\"DejaVuSans-74\" d=\"M 1172 4494 \nL 1172 3500 \nL 2356 3500 \nL 2356 3053 \nL 1172 3053 \nL 1172 1153 \nQ 1172 725 1289 603 \nQ 1406 481 1766 481 \nL 2356 481 \nL 2356 0 \nL 1766 0 \nQ 1100 0 847 248 \nQ 594 497 594 1153 \nL 594 3053 \nL 172 3053 \nL 172 3500 \nL 594 3500 \nL 594 4494 \nL 1172 4494 \nz\n\" transform=\"scale(0.015625)\"/>\n       <path id=\"DejaVuSans-65\" d=\"M 3597 1894 \nL 3597 1613 \nL 953 1613 \nQ 991 1019 1311 708 \nQ 1631 397 2203 397 \nQ 2534 397 2845 478 \nQ 3156 559 3463 722 \nL 3463 178 \nQ 3153 47 2828 -22 \nQ 2503 -91 2169 -91 \nQ 1331 -91 842 396 \nQ 353 884 353 1716 \nQ 353 2575 817 3079 \nQ 1281 3584 2069 3584 \nQ 2775 3584 3186 3129 \nQ 3597 2675 3597 1894 \nz\nM 3022 2063 \nQ 3016 2534 2758 2815 \nQ 2500 3097 2075 3097 \nQ 1594 3097 1305 2825 \nQ 1016 2553 972 2059 \nL 3022 2063 \nz\n\" transform=\"scale(0.015625)\"/>\n       <path id=\"DejaVuSans-70\" d=\"M 1159 525 \nL 1159 -1331 \nL 581 -1331 \nL 581 3500 \nL 1159 3500 \nL 1159 2969 \nQ 1341 3281 1617 3432 \nQ 1894 3584 2278 3584 \nQ 2916 3584 3314 3078 \nQ 3713 2572 3713 1747 \nQ 3713 922 3314 415 \nQ 2916 -91 2278 -91 \nQ 1894 -91 1617 61 \nQ 1341 213 1159 525 \nz\nM 3116 1747 \nQ 3116 2381 2855 2742 \nQ 2594 3103 2138 3103 \nQ 1681 3103 1420 2742 \nQ 1159 2381 1159 1747 \nQ 1159 1113 1420 752 \nQ 1681 391 2138 391 \nQ 2594 391 2855 752 \nQ 3116 1113 3116 1747 \nz\n\" transform=\"scale(0.015625)\"/>\n      </defs>\n      <use xlink:href=\"#DejaVuSans-73\"/>\n      <use xlink:href=\"#DejaVuSans-74\" x=\"52.099609\"/>\n      <use xlink:href=\"#DejaVuSans-65\" x=\"91.308594\"/>\n      <use xlink:href=\"#DejaVuSans-70\" x=\"152.832031\"/>\n      <use xlink:href=\"#DejaVuSans-73\" x=\"216.308594\"/>\n     </g>\n    </g>\n   </g>\n   <g id=\"matplotlib.axis_2\">\n    <g id=\"ytick_1\">\n     <g id=\"line2d_5\">\n      <defs>\n       <path id=\"mf880cdad30\" d=\"M 0 0 \nL -3.5 0 \n\" style=\"stroke: #000000; stroke-width: 0.8\"/>\n      </defs>\n      <g>\n       <use xlink:href=\"#mf880cdad30\" x=\"43.78125\" y=\"240.66872\" style=\"stroke: #000000; stroke-width: 0.8\"/>\n      </g>\n     </g>\n     <g id=\"text_6\">\n      <!-- 0.0 -->\n      <g transform=\"translate(20.878125 244.467939) scale(0.1 -0.1)\">\n       <defs>\n        <path id=\"DejaVuSans-2e\" d=\"M 684 794 \nL 1344 794 \nL 1344 0 \nL 684 0 \nL 684 794 \nz\n\" transform=\"scale(0.015625)\"/>\n       </defs>\n       <use xlink:href=\"#DejaVuSans-30\"/>\n       <use xlink:href=\"#DejaVuSans-2e\" x=\"63.623047\"/>\n       <use xlink:href=\"#DejaVuSans-30\" x=\"95.410156\"/>\n      </g>\n     </g>\n    </g>\n    <g id=\"ytick_2\">\n     <g id=\"line2d_6\">\n      <g>\n       <use xlink:href=\"#mf880cdad30\" x=\"43.78125\" y=\"199.628188\" style=\"stroke: #000000; stroke-width: 0.8\"/>\n      </g>\n     </g>\n     <g id=\"text_7\">\n      <!-- 0.5 -->\n      <g transform=\"translate(20.878125 203.427406) scale(0.1 -0.1)\">\n       <use xlink:href=\"#DejaVuSans-30\"/>\n       <use xlink:href=\"#DejaVuSans-2e\" x=\"63.623047\"/>\n       <use xlink:href=\"#DejaVuSans-35\" x=\"95.410156\"/>\n      </g>\n     </g>\n    </g>\n    <g id=\"ytick_3\">\n     <g id=\"line2d_7\">\n      <g>\n       <use xlink:href=\"#mf880cdad30\" x=\"43.78125\" y=\"158.587655\" style=\"stroke: #000000; stroke-width: 0.8\"/>\n      </g>\n     </g>\n     <g id=\"text_8\">\n      <!-- 1.0 -->\n      <g transform=\"translate(20.878125 162.386874) scale(0.1 -0.1)\">\n       <use xlink:href=\"#DejaVuSans-31\"/>\n       <use xlink:href=\"#DejaVuSans-2e\" x=\"63.623047\"/>\n       <use xlink:href=\"#DejaVuSans-30\" x=\"95.410156\"/>\n      </g>\n     </g>\n    </g>\n    <g id=\"ytick_4\">\n     <g id=\"line2d_8\">\n      <g>\n       <use xlink:href=\"#mf880cdad30\" x=\"43.78125\" y=\"117.547123\" style=\"stroke: #000000; stroke-width: 0.8\"/>\n      </g>\n     </g>\n     <g id=\"text_9\">\n      <!-- 1.5 -->\n      <g transform=\"translate(20.878125 121.346342) scale(0.1 -0.1)\">\n       <use xlink:href=\"#DejaVuSans-31\"/>\n       <use xlink:href=\"#DejaVuSans-2e\" x=\"63.623047\"/>\n       <use xlink:href=\"#DejaVuSans-35\" x=\"95.410156\"/>\n      </g>\n     </g>\n    </g>\n    <g id=\"ytick_5\">\n     <g id=\"line2d_9\">\n      <g>\n       <use xlink:href=\"#mf880cdad30\" x=\"43.78125\" y=\"76.506591\" style=\"stroke: #000000; stroke-width: 0.8\"/>\n      </g>\n     </g>\n     <g id=\"text_10\">\n      <!-- 2.0 -->\n      <g transform=\"translate(20.878125 80.305809) scale(0.1 -0.1)\">\n       <defs>\n        <path id=\"DejaVuSans-32\" d=\"M 1228 531 \nL 3431 531 \nL 3431 0 \nL 469 0 \nL 469 531 \nQ 828 903 1448 1529 \nQ 2069 2156 2228 2338 \nQ 2531 2678 2651 2914 \nQ 2772 3150 2772 3378 \nQ 2772 3750 2511 3984 \nQ 2250 4219 1831 4219 \nQ 1534 4219 1204 4116 \nQ 875 4013 500 3803 \nL 500 4441 \nQ 881 4594 1212 4672 \nQ 1544 4750 1819 4750 \nQ 2544 4750 2975 4387 \nQ 3406 4025 3406 3419 \nQ 3406 3131 3298 2873 \nQ 3191 2616 2906 2266 \nQ 2828 2175 2409 1742 \nQ 1991 1309 1228 531 \nz\n\" transform=\"scale(0.015625)\"/>\n       </defs>\n       <use xlink:href=\"#DejaVuSans-32\"/>\n       <use xlink:href=\"#DejaVuSans-2e\" x=\"63.623047\"/>\n       <use xlink:href=\"#DejaVuSans-30\" x=\"95.410156\"/>\n      </g>\n     </g>\n    </g>\n    <g id=\"ytick_6\">\n     <g id=\"line2d_10\">\n      <g>\n       <use xlink:href=\"#mf880cdad30\" x=\"43.78125\" y=\"35.466058\" style=\"stroke: #000000; stroke-width: 0.8\"/>\n      </g>\n     </g>\n     <g id=\"text_11\">\n      <!-- 2.5 -->\n      <g transform=\"translate(20.878125 39.265277) scale(0.1 -0.1)\">\n       <use xlink:href=\"#DejaVuSans-32\"/>\n       <use xlink:href=\"#DejaVuSans-2e\" x=\"63.623047\"/>\n       <use xlink:href=\"#DejaVuSans-35\" x=\"95.410156\"/>\n      </g>\n     </g>\n    </g>\n    <g id=\"text_12\">\n     <!-- training loss -->\n     <g transform=\"translate(14.798438 155.436406) rotate(-90) scale(0.1 -0.1)\">\n      <defs>\n       <path id=\"DejaVuSans-72\" d=\"M 2631 2963 \nQ 2534 3019 2420 3045 \nQ 2306 3072 2169 3072 \nQ 1681 3072 1420 2755 \nQ 1159 2438 1159 1844 \nL 1159 0 \nL 581 0 \nL 581 3500 \nL 1159 3500 \nL 1159 2956 \nQ 1341 3275 1631 3429 \nQ 1922 3584 2338 3584 \nQ 2397 3584 2469 3576 \nQ 2541 3569 2628 3553 \nL 2631 2963 \nz\n\" transform=\"scale(0.015625)\"/>\n       <path id=\"DejaVuSans-61\" d=\"M 2194 1759 \nQ 1497 1759 1228 1600 \nQ 959 1441 959 1056 \nQ 959 750 1161 570 \nQ 1363 391 1709 391 \nQ 2188 391 2477 730 \nQ 2766 1069 2766 1631 \nL 2766 1759 \nL 2194 1759 \nz\nM 3341 1997 \nL 3341 0 \nL 2766 0 \nL 2766 531 \nQ 2569 213 2275 61 \nQ 1981 -91 1556 -91 \nQ 1019 -91 701 211 \nQ 384 513 384 1019 \nQ 384 1609 779 1909 \nQ 1175 2209 1959 2209 \nL 2766 2209 \nL 2766 2266 \nQ 2766 2663 2505 2880 \nQ 2244 3097 1772 3097 \nQ 1472 3097 1187 3025 \nQ 903 2953 641 2809 \nL 641 3341 \nQ 956 3463 1253 3523 \nQ 1550 3584 1831 3584 \nQ 2591 3584 2966 3190 \nQ 3341 2797 3341 1997 \nz\n\" transform=\"scale(0.015625)\"/>\n       <path id=\"DejaVuSans-69\" d=\"M 603 3500 \nL 1178 3500 \nL 1178 0 \nL 603 0 \nL 603 3500 \nz\nM 603 4863 \nL 1178 4863 \nL 1178 4134 \nL 603 4134 \nL 603 4863 \nz\n\" transform=\"scale(0.015625)\"/>\n       <path id=\"DejaVuSans-6e\" d=\"M 3513 2113 \nL 3513 0 \nL 2938 0 \nL 2938 2094 \nQ 2938 2591 2744 2837 \nQ 2550 3084 2163 3084 \nQ 1697 3084 1428 2787 \nQ 1159 2491 1159 1978 \nL 1159 0 \nL 581 0 \nL 581 3500 \nL 1159 3500 \nL 1159 2956 \nQ 1366 3272 1645 3428 \nQ 1925 3584 2291 3584 \nQ 2894 3584 3203 3211 \nQ 3513 2838 3513 2113 \nz\n\" transform=\"scale(0.015625)\"/>\n       <path id=\"DejaVuSans-67\" d=\"M 2906 1791 \nQ 2906 2416 2648 2759 \nQ 2391 3103 1925 3103 \nQ 1463 3103 1205 2759 \nQ 947 2416 947 1791 \nQ 947 1169 1205 825 \nQ 1463 481 1925 481 \nQ 2391 481 2648 825 \nQ 2906 1169 2906 1791 \nz\nM 3481 434 \nQ 3481 -459 3084 -895 \nQ 2688 -1331 1869 -1331 \nQ 1566 -1331 1297 -1286 \nQ 1028 -1241 775 -1147 \nL 775 -588 \nQ 1028 -725 1275 -790 \nQ 1522 -856 1778 -856 \nQ 2344 -856 2625 -561 \nQ 2906 -266 2906 331 \nL 2906 616 \nQ 2728 306 2450 153 \nQ 2172 0 1784 0 \nQ 1141 0 747 490 \nQ 353 981 353 1791 \nQ 353 2603 747 3093 \nQ 1141 3584 1784 3584 \nQ 2172 3584 2450 3431 \nQ 2728 3278 2906 2969 \nL 2906 3500 \nL 3481 3500 \nL 3481 434 \nz\n\" transform=\"scale(0.015625)\"/>\n       <path id=\"DejaVuSans-20\" transform=\"scale(0.015625)\"/>\n       <path id=\"DejaVuSans-6c\" d=\"M 603 4863 \nL 1178 4863 \nL 1178 0 \nL 603 0 \nL 603 4863 \nz\n\" transform=\"scale(0.015625)\"/>\n       <path id=\"DejaVuSans-6f\" d=\"M 1959 3097 \nQ 1497 3097 1228 2736 \nQ 959 2375 959 1747 \nQ 959 1119 1226 758 \nQ 1494 397 1959 397 \nQ 2419 397 2687 759 \nQ 2956 1122 2956 1747 \nQ 2956 2369 2687 2733 \nQ 2419 3097 1959 3097 \nz\nM 1959 3584 \nQ 2709 3584 3137 3096 \nQ 3566 2609 3566 1747 \nQ 3566 888 3137 398 \nQ 2709 -91 1959 -91 \nQ 1206 -91 779 398 \nQ 353 888 353 1747 \nQ 353 2609 779 3096 \nQ 1206 3584 1959 3584 \nz\n\" transform=\"scale(0.015625)\"/>\n      </defs>\n      <use xlink:href=\"#DejaVuSans-74\"/>\n      <use xlink:href=\"#DejaVuSans-72\" x=\"39.208984\"/>\n      <use xlink:href=\"#DejaVuSans-61\" x=\"80.322266\"/>\n      <use xlink:href=\"#DejaVuSans-69\" x=\"141.601562\"/>\n      <use xlink:href=\"#DejaVuSans-6e\" x=\"169.384766\"/>\n      <use xlink:href=\"#DejaVuSans-69\" x=\"232.763672\"/>\n      <use xlink:href=\"#DejaVuSans-6e\" x=\"260.546875\"/>\n      <use xlink:href=\"#DejaVuSans-67\" x=\"323.925781\"/>\n      <use xlink:href=\"#DejaVuSans-20\" x=\"387.402344\"/>\n      <use xlink:href=\"#DejaVuSans-6c\" x=\"419.189453\"/>\n      <use xlink:href=\"#DejaVuSans-6f\" x=\"446.972656\"/>\n      <use xlink:href=\"#DejaVuSans-73\" x=\"508.154297\"/>\n      <use xlink:href=\"#DejaVuSans-73\" x=\"560.253906\"/>\n     </g>\n    </g>\n   </g>\n   <g id=\"line2d_11\">\n    <path d=\"M 54.069735 17.892727 \nL 54.870395 29.0578 \nL 54.984775 29.302401 \nL 55.099155 32.941573 \nL 55.213535 32.239806 \nL 55.442295 35.768781 \nL 55.556675 32.000117 \nL 55.785435 35.255117 \nL 55.899816 36.219803 \nL 56.014196 34.338044 \nL 56.242956 41.983515 \nL 56.357336 40.385986 \nL 56.471716 34.714369 \nL 56.700476 44.601269 \nL 56.814856 43.447227 \nL 56.929236 44.004199 \nL 57.043616 47.827874 \nL 57.157996 46.804068 \nL 57.386756 43.869423 \nL 57.958656 51.781472 \nL 58.073036 48.157877 \nL 58.187416 50.964439 \nL 58.416176 44.37794 \nL 58.644937 55.878809 \nL 58.759317 53.004497 \nL 58.873697 54.656136 \nL 59.102457 49.783058 \nL 59.331217 53.097492 \nL 59.445597 53.389001 \nL 59.559977 51.353425 \nL 59.674357 54.009594 \nL 59.903117 50.54604 \nL 60.017497 55.185221 \nL 60.131877 54.333061 \nL 60.246257 54.377504 \nL 60.360637 50.597058 \nL 60.475017 57.160817 \nL 60.589397 56.091061 \nL 60.703777 53.615422 \nL 60.932537 53.695462 \nL 61.161298 55.401133 \nL 61.275678 54.495372 \nL 61.504438 60.146637 \nL 61.618818 54.90651 \nL 61.733198 60.719636 \nL 61.961958 53.999574 \nL 62.076338 54.478816 \nL 62.305098 62.189376 \nL 62.533858 57.309507 \nL 62.762618 63.9281 \nL 62.876998 60.817484 \nL 62.991378 60.840909 \nL 63.334518 55.617358 \nL 63.563278 62.491922 \nL 63.677658 63.207721 \nL 63.792038 62.422098 \nL 63.906419 60.302705 \nL 64.020799 63.684516 \nL 64.135179 55.519471 \nL 64.249559 66.031622 \nL 64.363939 62.741161 \nL 64.478319 65.769956 \nL 64.592699 61.340738 \nL 64.707079 66.289981 \nL 64.821459 63.8026 \nL 64.935839 65.900055 \nL 65.050219 58.816624 \nL 65.164599 67.535334 \nL 65.278979 67.746882 \nL 65.507739 58.753923 \nL 65.736499 70.240017 \nL 65.850879 64.926739 \nL 66.079639 69.035055 \nL 66.194019 65.446255 \nL 66.308399 68.952314 \nL 66.422779 66.444913 \nL 66.53716 67.74974 \nL 66.65154 63.566825 \nL 66.76592 66.628673 \nL 66.8803 74.988495 \nL 66.99468 67.032981 \nL 67.10906 76.087017 \nL 67.33782 66.326145 \nL 67.4522 74.297666 \nL 67.68096 68.201524 \nL 68.0241 76.265904 \nL 68.13848 66.600316 \nL 68.25286 72.103811 \nL 68.36724 70.335145 \nL 68.596 78.971985 \nL 68.71038 72.491388 \nL 68.93914 75.523666 \nL 69.05352 71.099848 \nL 69.1679 73.292647 \nL 69.282281 70.884563 \nL 69.396661 75.145717 \nL 69.625421 70.135202 \nL 69.739801 76.47796 \nL 69.968561 71.245701 \nL 70.082941 68.236965 \nL 70.197321 71.788367 \nL 70.311701 67.781031 \nL 70.426081 80.301185 \nL 70.654841 67.854731 \nL 70.769221 74.729882 \nL 70.883601 71.751185 \nL 71.112361 79.707608 \nL 71.226741 80.872844 \nL 71.341121 71.723807 \nL 71.455501 79.756307 \nL 71.569881 72.819434 \nL 71.798641 76.611063 \nL 71.913022 74.796908 \nL 72.027402 78.168866 \nL 72.141782 77.849108 \nL 72.256162 69.014976 \nL 72.370542 77.807699 \nL 72.484922 73.456641 \nL 72.599302 78.778109 \nL 72.713682 70.911804 \nL 73.056822 82.636128 \nL 73.171202 78.575582 \nL 73.285582 78.720045 \nL 73.399962 79.556345 \nL 73.628722 74.645263 \nL 73.857482 76.634811 \nL 73.971862 83.874926 \nL 74.086242 83.403983 \nL 74.200622 76.548401 \nL 74.315002 77.067095 \nL 74.543763 80.16 \nL 74.772523 94.749537 \nL 74.886903 89.590527 \nL 75.001283 93.321001 \nL 75.115663 93.27602 \nL 75.230043 94.7212 \nL 75.344423 99.500157 \nL 75.458803 89.541299 \nL 75.573183 92.304416 \nL 75.687563 98.260763 \nL 75.801943 94.393741 \nL 75.916323 97.842314 \nL 76.145083 93.290521 \nL 76.259463 89.615057 \nL 76.373843 95.23687 \nL 76.488223 90.272979 \nL 76.602603 94.81803 \nL 76.716983 93.408673 \nL 76.831363 88.120053 \nL 76.945743 88.904992 \nL 77.060123 96.280627 \nL 77.174503 90.436738 \nL 77.403264 95.169658 \nL 77.517644 96.706081 \nL 77.632024 100.217463 \nL 77.746404 86.84737 \nL 77.860784 100.025417 \nL 78.089544 91.371091 \nL 78.203924 91.750918 \nL 78.318304 94.009187 \nL 78.432684 93.921623 \nL 78.547064 94.102574 \nL 78.775824 89.956332 \nL 79.004584 104.057117 \nL 79.118964 92.60574 \nL 79.347724 96.447223 \nL 79.462104 95.616981 \nL 79.576484 95.761297 \nL 79.690864 90.986371 \nL 79.919625 94.784273 \nL 80.034005 93.603509 \nL 80.377145 105.050433 \nL 80.605905 92.444682 \nL 80.720285 91.337363 \nL 80.834665 93.379749 \nL 80.949045 93.320835 \nL 81.063425 94.108963 \nL 81.177805 98.350695 \nL 81.292185 87.943349 \nL 81.406565 96.814419 \nL 81.520945 95.188181 \nL 81.635325 98.685933 \nL 81.749705 93.003894 \nL 81.864085 93.698705 \nL 81.978465 102.610068 \nL 82.092845 92.770761 \nL 82.207225 98.770268 \nL 82.321605 98.860533 \nL 82.435985 92.738373 \nL 82.550366 94.155715 \nL 82.664746 90.348978 \nL 82.779126 103.01017 \nL 82.893506 99.777264 \nL 83.007886 101.134047 \nL 83.351026 95.445805 \nL 83.465406 102.09843 \nL 83.579786 95.851367 \nL 83.808546 108.079972 \nL 83.922926 105.705469 \nL 84.037306 96.294551 \nL 84.151686 102.261592 \nL 84.380446 92.613627 \nL 84.494826 105.35481 \nL 84.609206 99.517222 \nL 84.723586 101.775804 \nL 84.837966 93.94814 \nL 85.066726 122.26201 \nL 85.181106 119.219633 \nL 85.295487 112.35369 \nL 85.409867 119.519636 \nL 85.524247 115.661362 \nL 85.638627 125.721943 \nL 85.753007 111.669457 \nL 86.096147 123.437676 \nL 86.210527 116.276994 \nL 86.324907 116.986541 \nL 86.439287 121.7063 \nL 86.668047 116.722615 \nL 86.782427 119.677006 \nL 86.896807 117.897302 \nL 87.011187 113.900485 \nL 87.125567 116.247033 \nL 87.239947 121.665722 \nL 87.354327 113.767059 \nL 87.468707 117.656488 \nL 87.583087 108.702345 \nL 87.926228 117.81463 \nL 88.040608 123.512011 \nL 88.154988 122.255581 \nL 88.269368 116.295399 \nL 88.383748 121.16107 \nL 88.498128 111.855652 \nL 88.612508 118.600704 \nL 88.726888 118.38626 \nL 88.841268 119.097959 \nL 88.955648 114.605208 \nL 89.070028 115.115858 \nL 89.184408 126.000341 \nL 89.298788 119.127734 \nL 89.413168 119.306748 \nL 89.641928 118.213685 \nL 89.756308 120.549088 \nL 89.870688 115.06348 \nL 89.985068 123.081587 \nL 90.099448 111.668322 \nL 90.213828 113.085164 \nL 90.328208 116.986413 \nL 90.442588 115.694376 \nL 90.671349 122.554302 \nL 90.900109 117.452455 \nL 91.014489 117.543835 \nL 91.128869 114.991943 \nL 91.243249 124.767404 \nL 91.357629 110.48743 \nL 91.586389 120.845089 \nL 91.700769 120.464332 \nL 91.929529 109.020049 \nL 92.158289 120.138321 \nL 92.272669 121.449762 \nL 92.387049 113.32684 \nL 92.501429 115.310625 \nL 92.615809 124.579702 \nL 92.730189 112.435912 \nL 92.958949 121.516054 \nL 93.073329 114.521841 \nL 93.187709 117.336808 \nL 93.41647 113.531069 \nL 93.53085 122.518822 \nL 93.64523 121.986919 \nL 93.75961 118.595117 \nL 93.87399 111.608986 \nL 93.98837 120.086021 \nL 94.10275 116.474295 \nL 94.21713 128.271644 \nL 94.44589 115.357123 \nL 94.67465 117.79601 \nL 94.78903 124.882768 \nL 94.90341 118.420438 \nL 95.01779 119.646917 \nL 95.13217 122.874246 \nL 95.24655 135.709794 \nL 95.36093 135.569137 \nL 95.47531 131.93339 \nL 95.58969 134.119926 \nL 95.70407 142.421529 \nL 95.81845 139.189601 \nL 95.932831 149.03383 \nL 96.047211 134.902712 \nL 96.504731 149.115367 \nL 96.733491 136.548598 \nL 96.847871 136.84321 \nL 97.076631 142.256567 \nL 97.191011 142.863607 \nL 97.305391 142.216224 \nL 97.534151 132.29216 \nL 97.762911 140.697589 \nL 97.877291 138.843111 \nL 97.991671 145.32862 \nL 98.106051 142.635836 \nL 98.220431 132.914074 \nL 98.334811 139.282449 \nL 98.449191 135.354057 \nL 98.563571 136.685332 \nL 98.792332 134.962322 \nL 99.021092 140.617227 \nL 99.135472 134.686194 \nL 99.478612 143.299834 \nL 99.592992 143.443671 \nL 99.707372 135.805001 \nL 99.821752 141.291656 \nL 99.936132 141.232819 \nL 100.050512 143.295666 \nL 100.279272 131.400997 \nL 100.393652 146.427006 \nL 100.508032 144.12948 \nL 100.622412 150.339253 \nL 100.851172 133.90922 \nL 100.965552 140.887591 \nL 101.194312 128.652939 \nL 101.308693 141.839909 \nL 101.423073 137.255395 \nL 101.537453 142.002024 \nL 101.651833 139.808256 \nL 101.766213 140.458497 \nL 101.880593 144.104118 \nL 102.109353 135.050571 \nL 102.223733 141.394768 \nL 102.338113 139.552021 \nL 102.452493 140.343349 \nL 102.566873 137.678129 \nL 102.795633 139.490954 \nL 102.910013 143.188248 \nL 103.024393 126.734477 \nL 103.253153 142.766209 \nL 103.367533 140.27464 \nL 103.596293 144.709094 \nL 103.710673 136.577102 \nL 103.825053 143.445335 \nL 104.053814 134.934327 \nL 104.168194 140.138269 \nL 104.282574 131.479981 \nL 104.625714 137.497374 \nL 104.740094 136.347794 \nL 104.854474 138.900068 \nL 104.968854 137.733648 \nL 105.083234 131.201103 \nL 105.197614 133.62774 \nL 105.311994 141.626306 \nL 105.426374 133.608797 \nL 105.655134 156.065666 \nL 105.769514 155.250071 \nL 105.883894 158.398828 \nL 105.998274 156.48702 \nL 106.227034 164.754923 \nL 106.341414 160.800288 \nL 106.455794 152.995001 \nL 106.684555 164.166801 \nL 106.913315 152.36573 \nL 107.142075 165.413598 \nL 107.370835 163.680226 \nL 107.485215 165.37146 \nL 107.599595 162.205379 \nL 107.713975 155.366667 \nL 107.828355 158.070097 \nL 107.942735 164.251083 \nL 108.057115 157.050723 \nL 108.171495 163.319396 \nL 108.285875 156.023747 \nL 108.400255 164.212418 \nL 108.629015 155.81853 \nL 108.743395 156.369426 \nL 108.972155 161.535236 \nL 109.086535 160.158213 \nL 109.200915 150.468442 \nL 109.429676 157.592715 \nL 109.544056 158.910765 \nL 109.658436 157.466559 \nL 109.772816 151.442668 \nL 109.887196 153.047859 \nL 110.001576 152.030511 \nL 110.115956 152.788209 \nL 110.344716 161.937847 \nL 110.459096 154.207899 \nL 110.687856 156.548106 \nL 110.802236 145.711941 \nL 110.916616 165.090005 \nL 111.145376 154.345777 \nL 111.259756 152.619685 \nL 111.374136 162.547051 \nL 111.602896 156.656013 \nL 111.831656 159.652264 \nL 112.060417 152.217049 \nL 112.174797 163.628944 \nL 112.403557 159.318773 \nL 112.517937 155.612374 \nL 112.632317 158.045263 \nL 112.746697 153.282078 \nL 112.861077 159.162543 \nL 112.975457 158.254472 \nL 113.204217 150.390271 \nL 113.318597 152.446963 \nL 113.432977 159.064338 \nL 113.547357 156.752325 \nL 113.661737 156.853823 \nL 113.776117 152.443127 \nL 113.890497 153.69355 \nL 114.004877 152.323361 \nL 114.233637 160.068716 \nL 114.348017 157.019989 \nL 114.462397 158.95349 \nL 114.576777 157.701375 \nL 114.691158 152.335123 \nL 114.805538 159.641745 \nL 114.919918 156.882914 \nL 115.034298 151.240475 \nL 115.148678 158.219619 \nL 115.377438 154.879706 \nL 115.491818 159.451005 \nL 115.606198 152.151178 \nL 115.834958 172.790173 \nL 115.949338 168.828698 \nL 116.063718 169.022296 \nL 116.178098 172.413301 \nL 116.292478 170.818002 \nL 116.521238 177.337622 \nL 116.635618 179.762071 \nL 116.749998 172.459597 \nL 116.978758 183.34501 \nL 117.207518 172.365037 \nL 117.321899 177.80969 \nL 117.550659 174.406905 \nL 117.665039 174.806791 \nL 117.779419 181.005013 \nL 117.893799 170.813271 \nL 118.122559 182.73656 \nL 118.236939 178.087971 \nL 118.351319 179.24146 \nL 118.465699 176.917031 \nL 118.580079 171.779215 \nL 118.694459 172.926417 \nL 118.808839 175.776423 \nL 118.923219 165.594451 \nL 119.037599 167.212226 \nL 119.151979 177.203883 \nL 119.266359 174.745147 \nL 119.380739 179.287688 \nL 119.609499 173.348671 \nL 119.838259 178.641513 \nL 119.952639 170.907851 \nL 120.06702 180.702564 \nL 120.29578 168.931992 \nL 120.41016 177.045814 \nL 120.52454 168.901752 \nL 120.7533 176.170184 \nL 120.86768 175.901097 \nL 120.98206 183.671461 \nL 121.21082 168.544307 \nL 121.55396 175.105082 \nL 121.78272 169.687723 \nL 121.8971 173.133063 \nL 122.01148 165.613532 \nL 122.12586 171.450572 \nL 122.24024 168.613476 \nL 122.35462 177.535202 \nL 122.469 174.710381 \nL 122.58338 177.805248 \nL 122.812141 170.753232 \nL 122.926521 176.117038 \nL 123.040901 164.43243 \nL 123.269661 172.972376 \nL 123.384041 172.894734 \nL 123.498421 174.669187 \nL 123.612801 172.952386 \nL 123.727181 169.229553 \nL 123.841561 173.903564 \nL 123.955941 166.53607 \nL 124.070321 177.114537 \nL 124.184701 171.604824 \nL 124.299081 174.001329 \nL 124.413461 169.806227 \nL 124.527841 172.776513 \nL 124.642221 169.56732 \nL 124.870981 175.5101 \nL 124.985361 170.770492 \nL 125.099741 174.170518 \nL 125.328502 161.791158 \nL 125.442882 173.673332 \nL 125.557262 166.30438 \nL 125.671642 168.53487 \nL 125.786022 176.93389 \nL 125.900402 169.466693 \nL 126.014782 169.969604 \nL 126.129162 191.328136 \nL 126.243542 186.697404 \nL 126.357922 187.307483 \nL 126.472302 186.44201 \nL 126.586682 184.619983 \nL 126.701062 187.915434 \nL 126.815442 187.951911 \nL 126.929822 190.242886 \nL 127.044202 183.484268 \nL 127.158582 189.080077 \nL 127.272962 187.195045 \nL 127.616102 195.903887 \nL 127.844862 189.587152 \nL 127.959242 186.933918 \nL 128.073623 197.299815 \nL 128.302383 184.914775 \nL 128.531143 193.217718 \nL 128.759903 182.077171 \nL 128.874283 191.996058 \nL 128.988663 191.382775 \nL 129.103043 182.828107 \nL 129.217423 193.00437 \nL 129.560563 182.699065 \nL 129.674943 190.685161 \nL 129.789323 181.028208 \nL 129.903703 192.992325 \nL 130.132463 184.362329 \nL 130.246843 189.430717 \nL 130.361223 186.289964 \nL 130.475603 186.567481 \nL 130.589983 187.780085 \nL 130.704364 187.40266 \nL 130.933124 191.743228 \nL 131.047504 188.909523 \nL 131.161884 190.66973 \nL 131.276264 188.005728 \nL 131.390644 192.094327 \nL 131.505024 181.675196 \nL 131.619404 189.58697 \nL 131.733784 182.24819 \nL 131.848164 183.217675 \nL 132.076924 188.927057 \nL 132.305684 191.946581 \nL 132.534444 181.871225 \nL 132.648824 179.031874 \nL 132.877584 190.697881 \nL 132.991964 190.791845 \nL 133.106344 184.152615 \nL 133.335104 185.556342 \nL 133.449485 184.431547 \nL 133.563865 178.148578 \nL 133.792625 186.938575 \nL 133.907005 184.294075 \nL 134.021385 178.719229 \nL 134.250145 184.929614 \nL 134.478905 177.495642 \nL 134.593285 177.501087 \nL 134.822045 182.579 \nL 135.050805 174.279462 \nL 135.165185 185.886398 \nL 135.279565 182.51716 \nL 135.393945 185.697957 \nL 135.508325 174.379028 \nL 135.965845 187.716503 \nL 136.080226 177.575907 \nL 136.194606 178.824827 \nL 136.423366 194.115319 \nL 136.537746 193.975929 \nL 136.652126 201.763589 \nL 136.880886 195.608806 \nL 136.995266 196.151551 \nL 137.109646 193.396374 \nL 137.338406 198.917511 \nL 137.452786 196.674721 \nL 137.567166 201.363827 \nL 137.681546 201.132091 \nL 137.795926 197.870256 \nL 138.139066 200.539681 \nL 138.253446 193.265189 \nL 138.367826 194.511022 \nL 138.482206 194.298731 \nL 138.596586 202.379849 \nL 138.710967 192.998323 \nL 138.825347 193.690883 \nL 139.168487 201.665657 \nL 139.397247 195.283412 \nL 139.511627 197.109305 \nL 139.626007 203.394673 \nL 139.740387 194.845047 \nL 139.969147 199.11538 \nL 140.083527 193.058446 \nL 140.197907 197.074696 \nL 140.312287 193.792621 \nL 140.426667 200.453291 \nL 140.655427 189.964914 \nL 140.998567 198.854795 \nL 141.227327 194.236416 \nL 141.341707 195.776107 \nL 141.456088 194.93815 \nL 141.570468 198.976934 \nL 141.684848 194.24646 \nL 141.799228 198.79523 \nL 141.913608 195.280844 \nL 142.027988 200.137375 \nL 142.142368 193.49069 \nL 142.371128 200.778993 \nL 142.485508 191.724074 \nL 142.599888 192.286428 \nL 142.714268 189.575698 \nL 142.943028 197.733258 \nL 143.057408 196.431789 \nL 143.400548 189.23186 \nL 143.514928 192.98937 \nL 143.629308 189.28276 \nL 143.743688 192.785033 \nL 143.858068 191.271683 \nL 143.972448 195.720016 \nL 144.315589 187.650353 \nL 144.429969 193.173774 \nL 144.544349 190.130718 \nL 144.658729 197.094955 \nL 144.887489 194.736563 \nL 145.001869 195.12846 \nL 145.230629 191.47645 \nL 145.459389 199.62035 \nL 145.573769 188.848109 \nL 145.688149 192.933474 \nL 145.802529 192.982858 \nL 145.916909 197.035591 \nL 146.031289 189.54879 \nL 146.145669 194.12075 \nL 146.260049 190.3789 \nL 146.374429 196.972743 \nL 146.488809 192.366037 \nL 146.71757 207.198267 \nL 146.83195 206.217181 \nL 146.94633 209.3854 \nL 147.06071 201.131276 \nL 147.17509 207.427611 \nL 147.28947 206.468874 \nL 147.40385 201.59712 \nL 147.63261 205.447174 \nL 147.74699 204.168581 \nL 147.86137 200.358419 \nL 147.97575 204.91489 \nL 148.20451 201.419797 \nL 148.31889 205.647453 \nL 148.43327 205.727179 \nL 148.54765 204.504296 \nL 148.89079 209.546625 \nL 149.00517 201.468797 \nL 149.11955 202.731807 \nL 149.23393 202.761514 \nL 149.34831 206.020399 \nL 149.577071 198.578574 \nL 149.805831 208.232633 \nL 149.920211 200.945771 \nL 150.034591 207.082759 \nL 150.148971 201.588193 \nL 150.263351 205.445951 \nL 150.492111 197.226067 \nL 150.606491 204.51423 \nL 150.835251 202.006094 \nL 150.949631 201.503555 \nL 151.178391 209.413948 \nL 151.407151 200.258047 \nL 151.521531 194.032579 \nL 151.750291 207.765474 \nL 151.979051 200.278071 \nL 152.436572 208.712972 \nL 152.550952 205.521055 \nL 152.665332 193.581792 \nL 152.779712 202.16289 \nL 152.894092 196.669981 \nL 153.122852 211.470405 \nL 153.351612 198.409864 \nL 153.465992 208.392199 \nL 153.580372 199.989749 \nL 153.809132 205.036623 \nL 153.923512 201.260908 \nL 154.037892 201.453236 \nL 154.152272 199.638146 \nL 154.266652 199.686584 \nL 154.381032 204.48695 \nL 154.609792 197.910481 \nL 154.838553 205.001955 \nL 155.296073 193.369887 \nL 155.410453 196.443134 \nL 155.524833 203.23009 \nL 155.639213 197.994601 \nL 155.867973 202.681738 \nL 156.096733 197.742852 \nL 156.211113 202.175956 \nL 156.325493 202.039663 \nL 156.439873 206.392929 \nL 156.554253 197.799252 \nL 156.668633 201.441825 \nL 156.897393 198.052361 \nL 157.126153 211.339934 \nL 157.240533 211.508133 \nL 157.354913 209.052956 \nL 157.469294 211.754294 \nL 157.583674 210.670109 \nL 157.698054 207.852289 \nL 157.926814 212.129239 \nL 158.155574 210.114888 \nL 158.269954 212.211759 \nL 158.384334 206.138937 \nL 158.613094 209.395307 \nL 158.727474 210.626718 \nL 158.841854 213.10528 \nL 158.956234 210.537292 \nL 159.184994 203.766066 \nL 159.299374 212.400156 \nL 159.413754 206.668316 \nL 159.528134 211.957951 \nL 159.642514 204.27778 \nL 159.871274 212.721331 \nL 159.985654 208.455849 \nL 160.214415 210.907765 \nL 160.328795 207.012203 \nL 160.443175 214.09004 \nL 160.557555 205.115684 \nL 160.671935 212.428273 \nL 160.786315 202.568288 \nL 160.900695 209.094583 \nL 161.015075 208.516332 \nL 161.129455 208.898566 \nL 161.243835 205.142994 \nL 161.472595 211.613525 \nL 161.586975 203.717802 \nL 161.815735 213.466636 \nL 161.930115 207.443315 \nL 162.044495 207.465211 \nL 162.158875 205.658911 \nL 162.273255 202.063633 \nL 162.502015 208.804835 \nL 162.616395 210.18165 \nL 162.845156 202.588119 \nL 163.073916 211.161432 \nL 163.188296 201.328612 \nL 163.302676 211.681627 \nL 163.417056 205.357093 \nL 163.531436 205.257293 \nL 163.760196 207.965982 \nL 163.874576 206.952526 \nL 163.988956 197.656144 \nL 164.217716 208.082504 \nL 164.446476 204.13161 \nL 164.675236 208.614405 \nL 164.789616 209.172111 \nL 164.903996 207.975889 \nL 165.018376 209.998412 \nL 165.132756 207.438611 \nL 165.247136 207.700177 \nL 165.361516 205.812691 \nL 165.475897 206.889357 \nL 165.590277 199.289662 \nL 165.704657 209.965606 \nL 165.933417 204.35848 \nL 166.047797 206.828021 \nL 166.162177 198.994322 \nL 166.390937 204.802499 \nL 166.505317 200.854136 \nL 166.619697 210.980327 \nL 166.848457 203.865612 \nL 167.077217 207.49983 \nL 167.191597 197.445193 \nL 167.420357 215.144347 \nL 167.534737 212.658706 \nL 167.649117 215.285173 \nL 167.763497 212.233125 \nL 167.877877 218.102469 \nL 167.992257 212.18296 \nL 168.106638 215.627696 \nL 168.221018 215.156507 \nL 168.335398 216.835667 \nL 168.449778 216.755216 \nL 168.564158 216.465409 \nL 168.678538 218.370106 \nL 168.792918 215.752841 \nL 168.907298 210.045592 \nL 169.021678 210.354379 \nL 169.136058 216.983618 \nL 169.250438 208.958298 \nL 169.479198 212.584231 \nL 169.593578 215.895991 \nL 169.707958 215.921123 \nL 169.936718 212.332394 \nL 170.051098 215.488974 \nL 170.165478 213.876334 \nL 170.279858 205.325838 \nL 170.394238 217.819795 \nL 170.508618 212.269556 \nL 170.737378 219.444157 \nL 170.851759 215.910377 \nL 170.966139 219.132762 \nL 171.080519 213.844898 \nL 171.194899 216.208178 \nL 171.309279 214.245545 \nL 171.423659 215.354234 \nL 171.766799 214.438989 \nL 171.881179 213.088795 \nL 171.995559 209.617993 \nL 172.109939 210.310761 \nL 172.224319 209.680538 \nL 172.338699 213.021439 \nL 172.453079 212.360961 \nL 172.681839 213.953302 \nL 172.796219 208.561589 \nL 172.910599 211.473917 \nL 173.024979 209.47657 \nL 173.139359 210.936594 \nL 173.253739 214.060561 \nL 173.4825 206.894957 \nL 173.59688 214.228551 \nL 173.71126 208.002371 \nL 173.82564 208.21027 \nL 174.0544 212.959868 \nL 174.16878 209.110733 \nL 174.28316 212.714511 \nL 174.39754 209.551495 \nL 174.6263 211.347101 \nL 174.74068 211.051773 \nL 174.85506 209.306782 \nL 174.96944 204.365753 \nL 175.08382 210.945282 \nL 175.1982 210.337956 \nL 175.31258 213.679713 \nL 175.42696 210.786773 \nL 175.54134 217.007173 \nL 175.65572 208.505084 \nL 175.7701 215.06849 \nL 175.88448 209.292511 \nL 175.99886 213.682 \nL 176.11324 208.197821 \nL 176.227621 211.906485 \nL 176.456381 204.5562 \nL 176.685141 206.82308 \nL 176.799521 212.129635 \nL 176.913901 212.161336 \nL 177.028281 213.309154 \nL 177.142661 206.04821 \nL 177.257041 213.393387 \nL 177.485801 205.625266 \nL 177.600181 218.320839 \nL 177.714561 210.469735 \nL 177.828941 216.49992 \nL 177.943321 213.563222 \nL 178.057701 217.576613 \nL 178.172081 215.225021 \nL 178.286461 220.966248 \nL 178.515221 217.180684 \nL 178.629601 212.627076 \nL 178.743981 214.589088 \nL 178.858362 221.608361 \nL 178.972742 220.224196 \nL 179.201502 211.52122 \nL 179.430262 215.046482 \nL 179.659022 216.526478 \nL 179.773402 212.91894 \nL 180.002162 217.669525 \nL 180.116542 213.024069 \nL 180.345302 218.357337 \nL 180.459682 219.550234 \nL 180.688442 213.727033 \nL 180.802822 215.938332 \nL 181.031582 211.169105 \nL 181.145962 217.112186 \nL 181.260342 212.280109 \nL 181.374722 213.614818 \nL 181.489103 212.907147 \nL 181.717863 215.071049 \nL 181.832243 212.936164 \nL 181.946623 219.238607 \nL 182.061003 215.694592 \nL 182.175383 221.389345 \nL 182.289763 218.66377 \nL 182.404143 219.527807 \nL 182.518523 219.01884 \nL 182.632903 210.384492 \nL 182.747283 212.858974 \nL 182.861663 220.540853 \nL 182.976043 218.745104 \nL 183.090423 222.075608 \nL 183.204803 210.871273 \nL 183.433563 214.880742 \nL 183.547943 213.838545 \nL 183.662323 217.016158 \nL 183.776703 212.357976 \nL 183.891083 215.18994 \nL 184.005463 215.193005 \nL 184.119843 216.807173 \nL 184.234224 213.966338 \nL 184.348604 215.133413 \nL 184.691744 212.506339 \nL 184.920504 214.798082 \nL 185.034884 212.206745 \nL 185.149264 219.385076 \nL 185.378024 208.433723 \nL 185.721164 217.552058 \nL 185.835544 214.862256 \nL 186.064304 218.131799 \nL 186.178684 211.629883 \nL 186.407444 214.891632 \nL 186.521824 214.412797 \nL 186.750584 211.806472 \nL 186.864965 210.91505 \nL 186.979345 212.372238 \nL 187.093725 210.071571 \nL 187.208105 210.415309 \nL 187.322485 217.544448 \nL 187.436865 216.753993 \nL 187.665625 210.31423 \nL 187.894385 221.491353 \nL 188.008765 220.705937 \nL 188.123145 218.883626 \nL 188.237525 219.427065 \nL 188.466285 218.379267 \nL 188.580665 217.717759 \nL 188.695045 220.857609 \nL 188.809425 219.930176 \nL 188.923805 220.594011 \nL 189.038185 219.192486 \nL 189.152565 221.388063 \nL 189.266945 221.169461 \nL 189.381325 222.19906 \nL 189.495706 220.852835 \nL 189.610086 221.644892 \nL 189.724466 219.705783 \nL 189.838846 220.12704 \nL 189.953226 220.089916 \nL 190.067606 223.587792 \nL 190.181986 219.302348 \nL 190.525126 224.815564 \nL 190.639506 224.101778 \nL 190.753886 221.880893 \nL 190.982646 216.612964 \nL 191.097026 223.042732 \nL 191.211406 220.966791 \nL 191.325786 221.301392 \nL 191.668926 215.064031 \nL 191.783306 215.594853 \nL 191.897686 217.51817 \nL 192.012066 221.837965 \nL 192.126446 214.310047 \nL 192.355207 220.950472 \nL 192.469587 218.093239 \nL 192.583967 223.31971 \nL 192.812727 216.155592 \nL 192.927107 215.24234 \nL 193.041487 218.97426 \nL 193.155867 216.057472 \nL 193.384627 220.74435 \nL 193.613387 214.660434 \nL 193.727767 220.966382 \nL 193.956527 213.829773 \nL 194.185287 220.311201 \nL 194.414047 213.399167 \nL 194.528427 218.933159 \nL 194.642807 217.813188 \nL 194.757187 219.289723 \nL 194.871568 215.944678 \nL 194.985948 216.306068 \nL 195.214708 217.520154 \nL 195.329088 215.924704 \nL 195.557848 221.529646 \nL 195.786608 213.21843 \nL 195.900988 214.040573 \nL 196.015368 217.853915 \nL 196.129748 215.067101 \nL 196.244128 219.508162 \nL 196.358508 215.56348 \nL 196.472888 215.911994 \nL 196.587268 215.265755 \nL 196.701648 219.066976 \nL 197.044788 215.490319 \nL 197.159168 216.291533 \nL 197.273548 213.898971 \nL 197.387928 214.681819 \nL 197.502309 211.963357 \nL 197.731069 214.69972 \nL 197.845449 215.233017 \nL 198.074209 221.98271 \nL 198.188589 220.582597 \nL 198.302969 224.990487 \nL 198.531729 220.118657 \nL 198.646109 225.086263 \nL 198.760489 225.067014 \nL 198.874869 224.806658 \nL 198.989249 220.451107 \nL 199.103629 222.618359 \nL 199.332389 222.201629 \nL 199.446769 225.811766 \nL 199.561149 225.231345 \nL 199.675529 221.382336 \nL 199.789909 222.193524 \nL 199.904289 219.311966 \nL 200.133049 224.210359 \nL 200.24743 216.117145 \nL 200.47619 222.539672 \nL 200.59057 222.718134 \nL 200.70495 225.754173 \nL 200.81933 219.817683 \nL 200.93371 222.292949 \nL 201.04809 220.195004 \nL 201.16247 224.483612 \nL 201.27685 224.217498 \nL 201.39123 219.979208 \nL 201.50561 220.416081 \nL 201.61999 221.618324 \nL 201.73437 220.885086 \nL 201.96313 224.462191 \nL 202.07751 222.590163 \nL 202.19189 217.976516 \nL 202.30627 222.211442 \nL 202.42065 220.740093 \nL 202.53503 224.739955 \nL 202.76379 220.558274 \nL 202.878171 222.381508 \nL 202.992551 221.172332 \nL 203.106931 218.094081 \nL 203.221311 219.312042 \nL 203.335691 222.477488 \nL 203.450071 217.096029 \nL 203.678831 223.663164 \nL 203.907591 217.753195 \nL 204.021971 221.446324 \nL 204.136351 218.480943 \nL 204.250731 219.020144 \nL 204.479491 213.115373 \nL 204.822631 224.450362 \nL 205.051391 218.501648 \nL 205.165771 221.060289 \nL 205.280151 217.492933 \nL 205.394531 219.197361 \nL 205.508911 218.901735 \nL 205.623292 220.539262 \nL 205.737672 217.894744 \nL 205.966432 222.322101 \nL 206.080812 219.82395 \nL 206.195192 212.785177 \nL 206.309572 219.391348 \nL 206.423952 214.755816 \nL 206.538332 222.898629 \nL 206.652712 222.471927 \nL 206.767092 220.69466 \nL 206.881472 222.311906 \nL 207.110232 219.771865 \nL 207.224612 220.234269 \nL 207.338992 222.519527 \nL 207.453372 218.069756 \nL 207.567752 220.060182 \nL 207.796512 215.756104 \nL 207.910892 219.620411 \nL 208.025272 218.134952 \nL 208.254033 223.711586 \nL 208.368413 212.395389 \nL 208.597173 223.779737 \nL 208.711553 222.622619 \nL 208.825933 225.524335 \nL 209.054693 222.245432 \nL 209.283453 224.410025 \nL 209.512213 222.337829 \nL 209.626593 223.285512 \nL 209.740973 223.295426 \nL 209.855353 218.950224 \nL 210.084113 224.821252 \nL 210.198493 222.305336 \nL 210.312873 223.951473 \nL 210.427253 214.663487 \nL 210.656013 224.266953 \nL 210.770393 217.169031 \nL 210.999154 222.413435 \nL 211.227914 219.343488 \nL 211.456674 221.636628 \nL 211.571054 222.241969 \nL 211.685434 217.819785 \nL 211.914194 225.263262 \nL 212.142954 218.72804 \nL 212.371714 223.315297 \nL 212.600474 219.57906 \nL 212.829234 222.600656 \nL 213.172374 221.374969 \nL 213.286754 223.708133 \nL 213.401134 219.163711 \nL 213.515514 225.394858 \nL 213.744275 220.744077 \nL 213.858655 220.656526 \nL 213.973035 221.173938 \nL 214.201795 224.102224 \nL 214.316175 222.770407 \nL 214.430555 226.069962 \nL 214.659315 220.306371 \nL 214.773695 224.805713 \nL 215.002455 220.999073 \nL 215.116835 221.688545 \nL 215.231215 226.862741 \nL 215.459975 216.653128 \nL 215.574355 222.346243 \nL 215.688735 220.253682 \nL 215.803115 226.534195 \nL 215.917495 221.294368 \nL 216.031875 221.233548 \nL 216.146255 222.741258 \nL 216.375016 220.572885 \nL 216.489396 223.134572 \nL 216.603776 220.169215 \nL 216.718156 221.242098 \nL 217.061296 216.617118 \nL 217.175676 217.002924 \nL 217.404436 223.811936 \nL 217.518816 222.735004 \nL 217.861956 213.972235 \nL 217.976336 219.567803 \nL 218.090716 219.009889 \nL 218.205096 216.283081 \nL 218.433856 219.740427 \nL 218.548236 213.252627 \nL 218.662616 215.297553 \nL 218.891377 226.723675 \nL 219.005757 228.311663 \nL 219.234517 223.142868 \nL 219.348897 226.491497 \nL 219.463277 223.746311 \nL 219.577657 224.338418 \nL 219.806417 223.482229 \nL 219.920797 226.210032 \nL 220.035177 224.462616 \nL 220.149557 227.644092 \nL 220.263937 220.688417 \nL 220.378317 221.934896 \nL 220.492697 228.68692 \nL 220.607077 223.102883 \nL 220.721457 225.847806 \nL 220.835837 224.701285 \nL 220.950217 227.870406 \nL 221.064597 220.530215 \nL 221.293357 224.884286 \nL 221.407737 222.794455 \nL 221.522117 226.981371 \nL 221.636498 222.506704 \nL 221.750878 222.852967 \nL 221.865258 224.953444 \nL 221.979638 221.044312 \nL 222.094018 221.728055 \nL 222.437158 228.174034 \nL 222.551538 222.591141 \nL 222.665918 224.172994 \nL 222.780298 221.32345 \nL 222.894678 227.394641 \nL 223.009058 221.664715 \nL 223.123438 227.477251 \nL 223.237818 224.89797 \nL 223.352198 225.061193 \nL 223.466578 222.729216 \nL 223.580958 228.52867 \nL 223.809718 220.933428 \nL 223.924098 220.367025 \nL 224.038478 226.021535 \nL 224.152858 215.931899 \nL 224.267239 225.402859 \nL 224.495999 219.238705 \nL 224.610379 220.595767 \nL 224.724759 218.309665 \nL 224.953519 226.061829 \nL 225.067899 223.0063 \nL 225.182279 224.937612 \nL 225.296659 224.108594 \nL 225.525419 217.314096 \nL 225.868559 224.720279 \nL 225.982939 224.917968 \nL 226.097319 225.360772 \nL 226.211699 223.400719 \nL 226.326079 218.966643 \nL 226.554839 224.040272 \nL 226.669219 224.305101 \nL 226.783599 222.505231 \nL 227.01236 223.851728 \nL 227.12674 223.546303 \nL 227.24112 220.915381 \nL 227.3555 222.018489 \nL 227.58426 220.396554 \nL 227.81302 222.30225 \nL 227.9274 218.762235 \nL 228.04178 227.564615 \nL 228.27054 219.791092 \nL 228.38492 220.087394 \nL 228.4993 224.886954 \nL 228.84244 215.383256 \nL 228.95682 217.645138 \nL 229.18558 227.244282 \nL 229.29996 227.090351 \nL 229.52872 227.816221 \nL 229.643101 227.659923 \nL 229.757481 223.041529 \nL 230.100621 228.215118 \nL 230.215001 223.669774 \nL 230.443761 226.902054 \nL 230.558141 228.003449 \nL 230.672521 227.349769 \nL 230.786901 227.614627 \nL 230.901281 225.024578 \nL 231.015661 225.27808 \nL 231.130041 228.807748 \nL 231.244421 226.061116 \nL 231.358801 227.625703 \nL 231.473181 226.527303 \nL 231.587561 221.441715 \nL 231.701941 226.941453 \nL 231.816321 227.025071 \nL 231.930701 223.789165 \nL 232.045081 226.134987 \nL 232.273842 225.029698 \nL 232.388222 227.05498 \nL 232.502602 226.38748 \nL 232.616982 224.793493 \nL 232.731362 219.038275 \nL 232.960122 227.79826 \nL 233.188882 224.664378 \nL 233.417642 227.548208 \nL 233.532022 224.570786 \nL 233.760782 228.153835 \nL 233.875162 224.662518 \nL 233.989542 225.5782 \nL 234.103922 221.663953 \nL 234.218302 223.640608 \nL 234.332682 227.711504 \nL 234.447062 220.867076 \nL 234.561442 224.481072 \nL 234.675822 222.897284 \nL 234.790202 227.877821 \nL 235.018963 222.526709 \nL 235.133343 227.25707 \nL 235.247723 222.411438 \nL 235.476483 227.448153 \nL 235.590863 224.118694 \nL 235.705243 226.313596 \nL 235.819623 223.693261 \nL 235.934003 227.094255 \nL 236.048383 224.096668 \nL 236.277143 226.81026 \nL 236.391523 226.179768 \nL 236.734663 221.176339 \nL 236.849043 227.676099 \nL 237.077803 222.56502 \nL 237.192183 226.927663 \nL 237.420943 221.596187 \nL 237.535323 229.422498 \nL 237.649704 224.140402 \nL 237.764084 225.594186 \nL 237.878464 224.402528 \nL 237.992844 225.301616 \nL 238.335984 221.516344 \nL 238.450364 224.052259 \nL 238.564744 229.641908 \nL 238.793504 221.164378 \nL 239.022264 223.234467 \nL 239.136644 227.16044 \nL 239.251024 223.156845 \nL 239.479784 229.675163 \nL 239.594164 230.84828 \nL 239.822924 225.575426 \nL 239.937304 226.799253 \nL 240.051684 224.811102 \nL 240.166064 227.459304 \nL 240.280445 225.664479 \nL 240.394825 226.522991 \nL 240.623585 222.77918 \nL 240.737965 220.6127 \nL 240.966725 229.823328 \nL 241.195485 224.451648 \nL 241.309865 223.381623 \nL 241.424245 227.706696 \nL 241.538625 226.720683 \nL 241.767385 228.320444 \nL 242.110525 223.852021 \nL 242.224905 228.587078 \nL 242.339285 227.280427 \nL 242.453665 228.997457 \nL 242.682425 227.085511 \nL 242.796805 231.622868 \nL 242.911185 223.895914 \nL 243.025566 226.588799 \nL 243.139946 222.373998 \nL 243.254326 227.73186 \nL 243.368706 225.631881 \nL 243.483086 228.167009 \nL 243.597466 226.886758 \nL 243.711846 229.07147 \nL 243.826226 222.659898 \nL 243.940606 227.050971 \nL 244.054986 226.622329 \nL 244.169366 225.370092 \nL 244.398126 231.747273 \nL 244.512506 225.981235 \nL 244.626886 226.651764 \nL 244.741266 223.133162 \nL 244.855646 226.114658 \nL 244.970026 222.440431 \nL 245.084406 223.231814 \nL 245.198786 225.24058 \nL 245.313166 222.24275 \nL 245.541926 229.573462 \nL 245.770687 224.473602 \nL 245.885067 225.06446 \nL 245.999447 227.583226 \nL 246.113827 227.480466 \nL 246.228207 229.467365 \nL 246.342587 223.977477 \nL 246.456967 227.539346 \nL 246.571347 224.242397 \nL 246.800107 225.392894 \nL 246.914487 227.199935 \nL 247.028867 226.301927 \nL 247.143247 229.306787 \nL 247.257627 227.255712 \nL 247.372007 223.064675 \nL 247.486387 225.237394 \nL 247.600767 223.304399 \nL 247.715147 225.159476 \nL 247.829527 223.261539 \nL 247.943907 225.888629 \nL 248.058287 225.727397 \nL 248.287047 221.908622 \nL 248.401428 225.508134 \nL 248.515808 222.444058 \nL 248.858948 229.09975 \nL 249.087708 226.485767 \nL 249.430848 223.279026 \nL 249.545228 230.376373 \nL 249.659608 228.912985 \nL 249.773988 229.029832 \nL 249.888368 230.798582 \nL 250.002748 226.550999 \nL 250.117128 228.608572 \nL 250.231508 228.499325 \nL 250.345888 227.404353 \nL 250.574648 230.158319 \nL 250.689028 230.08731 \nL 250.803408 228.981623 \nL 250.917788 231.078223 \nL 251.032169 228.260152 \nL 251.146549 222.328244 \nL 251.260929 228.220272 \nL 251.375309 226.849839 \nL 251.489689 228.068246 \nL 251.604069 226.640898 \nL 251.832829 229.22879 \nL 252.061589 225.684456 \nL 252.175969 222.526619 \nL 252.290349 225.052314 \nL 252.404729 231.452065 \nL 252.519109 229.291074 \nL 252.633489 223.945554 \nL 252.747869 228.952919 \nL 252.862249 226.430693 \nL 253.091009 229.759365 \nL 253.205389 225.387578 \nL 253.548529 229.410357 \nL 253.66291 228.699555 \nL 253.77729 226.915869 \nL 253.89167 229.257008 \nL 254.00605 227.572864 \nL 254.12043 229.124444 \nL 254.23481 226.037417 \nL 254.34919 228.501995 \nL 254.46357 225.055465 \nL 254.57795 229.391381 \nL 254.69233 227.600573 \nL 254.80671 229.185656 \nL 255.03547 225.114798 \nL 255.26423 229.514957 \nL 255.49299 226.057543 \nL 255.60737 226.792943 \nL 255.72175 226.744665 \nL 255.83613 222.472366 \nL 255.95051 229.820165 \nL 256.17927 219.021802 \nL 256.408031 227.484623 \nL 256.636791 224.070951 \nL 256.751171 224.154426 \nL 256.865551 228.324844 \nL 256.979931 224.145543 \nL 257.094311 224.518383 \nL 257.208691 226.015668 \nL 257.323071 224.824331 \nL 257.437451 229.094893 \nL 257.551831 223.211108 \nL 257.666211 227.833123 \nL 257.780591 226.401602 \nL 257.894971 228.58999 \nL 258.009351 223.679795 \nL 258.123731 227.499398 \nL 258.238111 224.714573 \nL 258.352491 227.136248 \nL 258.466871 225.805717 \nL 258.581251 227.287267 \nL 258.695631 223.223486 \nL 258.810011 225.161847 \nL 258.924391 224.500482 \nL 259.038772 224.496555 \nL 259.153152 224.680318 \nL 259.267532 222.28116 \nL 259.381912 228.095206 \nL 259.496292 224.368324 \nL 259.610672 224.55732 \nL 259.725052 226.300563 \nL 259.839432 222.051484 \nL 259.839432 222.051484 \n\" clip-path=\"url(#pf57cf6decf)\" style=\"fill: none; stroke: #1f77b4; stroke-width: 2; stroke-linecap: square\"/>\n   </g>\n   <g id=\"patch_3\">\n    <path d=\"M 43.78125 242.44 \nL 43.78125 7.2 \n\" style=\"fill: none; stroke: #000000; stroke-width: 0.8; stroke-linejoin: miter; stroke-linecap: square\"/>\n   </g>\n   <g id=\"patch_4\">\n    <path d=\"M 270.127917 242.44 \nL 270.127917 7.2 \n\" style=\"fill: none; stroke: #000000; stroke-width: 0.8; stroke-linejoin: miter; stroke-linecap: square\"/>\n   </g>\n   <g id=\"patch_5\">\n    <path d=\"M 43.78125 242.44 \nL 270.127917 242.44 \n\" style=\"fill: none; stroke: #000000; stroke-width: 0.8; stroke-linejoin: miter; stroke-linecap: square\"/>\n   </g>\n   <g id=\"patch_6\">\n    <path d=\"M 43.78125 7.2 \nL 270.127917 7.2 \n\" style=\"fill: none; stroke: #000000; stroke-width: 0.8; stroke-linejoin: miter; stroke-linecap: square\"/>\n   </g>\n  </g>\n  <g id=\"axes_2\">\n   <g id=\"patch_7\">\n    <path d=\"M 333.347917 242.44 \nL 559.694583 242.44 \nL 559.694583 7.2 \nL 333.347917 7.2 \nz\n\" style=\"fill: #ffffff\"/>\n   </g>\n   <g id=\"matplotlib.axis_3\">\n    <g id=\"xtick_5\">\n     <g id=\"line2d_12\">\n      <g>\n       <use xlink:href=\"#me238dfddbe\" x=\"343.636402\" y=\"242.44\" style=\"stroke: #000000; stroke-width: 0.8\"/>\n      </g>\n     </g>\n     <g id=\"text_13\">\n      <!-- 0 -->\n      <g transform=\"translate(340.455152 257.038438) scale(0.1 -0.1)\">\n       <use xlink:href=\"#DejaVuSans-30\"/>\n      </g>\n     </g>\n    </g>\n    <g id=\"xtick_6\">\n     <g id=\"line2d_13\">\n      <g>\n       <use xlink:href=\"#me238dfddbe\" x=\"397.786322\" y=\"242.44\" style=\"stroke: #000000; stroke-width: 0.8\"/>\n      </g>\n     </g>\n     <g id=\"text_14\">\n      <!-- 5 -->\n      <g transform=\"translate(394.605072 257.038438) scale(0.1 -0.1)\">\n       <use xlink:href=\"#DejaVuSans-35\"/>\n      </g>\n     </g>\n    </g>\n    <g id=\"xtick_7\">\n     <g id=\"line2d_14\">\n      <g>\n       <use xlink:href=\"#me238dfddbe\" x=\"451.936242\" y=\"242.44\" style=\"stroke: #000000; stroke-width: 0.8\"/>\n      </g>\n     </g>\n     <g id=\"text_15\">\n      <!-- 10 -->\n      <g transform=\"translate(445.573742 257.038438) scale(0.1 -0.1)\">\n       <use xlink:href=\"#DejaVuSans-31\"/>\n       <use xlink:href=\"#DejaVuSans-30\" x=\"63.623047\"/>\n      </g>\n     </g>\n    </g>\n    <g id=\"xtick_8\">\n     <g id=\"line2d_15\">\n      <g>\n       <use xlink:href=\"#me238dfddbe\" x=\"506.086162\" y=\"242.44\" style=\"stroke: #000000; stroke-width: 0.8\"/>\n      </g>\n     </g>\n     <g id=\"text_16\">\n      <!-- 15 -->\n      <g transform=\"translate(499.723662 257.038438) scale(0.1 -0.1)\">\n       <use xlink:href=\"#DejaVuSans-31\"/>\n       <use xlink:href=\"#DejaVuSans-35\" x=\"63.623047\"/>\n      </g>\n     </g>\n    </g>\n    <g id=\"text_17\">\n     <!-- steps (in 100s) -->\n     <g transform=\"translate(409.315 270.716563) scale(0.1 -0.1)\">\n      <defs>\n       <path id=\"DejaVuSans-28\" d=\"M 1984 4856 \nQ 1566 4138 1362 3434 \nQ 1159 2731 1159 2009 \nQ 1159 1288 1364 580 \nQ 1569 -128 1984 -844 \nL 1484 -844 \nQ 1016 -109 783 600 \nQ 550 1309 550 2009 \nQ 550 2706 781 3412 \nQ 1013 4119 1484 4856 \nL 1984 4856 \nz\n\" transform=\"scale(0.015625)\"/>\n       <path id=\"DejaVuSans-29\" d=\"M 513 4856 \nL 1013 4856 \nQ 1481 4119 1714 3412 \nQ 1947 2706 1947 2009 \nQ 1947 1309 1714 600 \nQ 1481 -109 1013 -844 \nL 513 -844 \nQ 928 -128 1133 580 \nQ 1338 1288 1338 2009 \nQ 1338 2731 1133 3434 \nQ 928 4138 513 4856 \nz\n\" transform=\"scale(0.015625)\"/>\n      </defs>\n      <use xlink:href=\"#DejaVuSans-73\"/>\n      <use xlink:href=\"#DejaVuSans-74\" x=\"52.099609\"/>\n      <use xlink:href=\"#DejaVuSans-65\" x=\"91.308594\"/>\n      <use xlink:href=\"#DejaVuSans-70\" x=\"152.832031\"/>\n      <use xlink:href=\"#DejaVuSans-73\" x=\"216.308594\"/>\n      <use xlink:href=\"#DejaVuSans-20\" x=\"268.408203\"/>\n      <use xlink:href=\"#DejaVuSans-28\" x=\"300.195312\"/>\n      <use xlink:href=\"#DejaVuSans-69\" x=\"339.208984\"/>\n      <use xlink:href=\"#DejaVuSans-6e\" x=\"366.992188\"/>\n      <use xlink:href=\"#DejaVuSans-20\" x=\"430.371094\"/>\n      <use xlink:href=\"#DejaVuSans-31\" x=\"462.158203\"/>\n      <use xlink:href=\"#DejaVuSans-30\" x=\"525.78125\"/>\n      <use xlink:href=\"#DejaVuSans-30\" x=\"589.404297\"/>\n      <use xlink:href=\"#DejaVuSans-73\" x=\"653.027344\"/>\n      <use xlink:href=\"#DejaVuSans-29\" x=\"705.126953\"/>\n     </g>\n    </g>\n   </g>\n   <g id=\"matplotlib.axis_4\">\n    <g id=\"ytick_7\">\n     <g id=\"line2d_16\">\n      <g>\n       <use xlink:href=\"#mf880cdad30\" x=\"333.347917\" y=\"230.694212\" style=\"stroke: #000000; stroke-width: 0.8\"/>\n      </g>\n     </g>\n     <g id=\"text_18\">\n      <!-- 2.0 -->\n      <g transform=\"translate(310.444792 234.49343) scale(0.1 -0.1)\">\n       <use xlink:href=\"#DejaVuSans-32\"/>\n       <use xlink:href=\"#DejaVuSans-2e\" x=\"63.623047\"/>\n       <use xlink:href=\"#DejaVuSans-30\" x=\"95.410156\"/>\n      </g>\n     </g>\n    </g>\n    <g id=\"ytick_8\">\n     <g id=\"line2d_17\">\n      <g>\n       <use xlink:href=\"#mf880cdad30\" x=\"333.347917\" y=\"197.662578\" style=\"stroke: #000000; stroke-width: 0.8\"/>\n      </g>\n     </g>\n     <g id=\"text_19\">\n      <!-- 2.5 -->\n      <g transform=\"translate(310.444792 201.461797) scale(0.1 -0.1)\">\n       <use xlink:href=\"#DejaVuSans-32\"/>\n       <use xlink:href=\"#DejaVuSans-2e\" x=\"63.623047\"/>\n       <use xlink:href=\"#DejaVuSans-35\" x=\"95.410156\"/>\n      </g>\n     </g>\n    </g>\n    <g id=\"ytick_9\">\n     <g id=\"line2d_18\">\n      <g>\n       <use xlink:href=\"#mf880cdad30\" x=\"333.347917\" y=\"164.630944\" style=\"stroke: #000000; stroke-width: 0.8\"/>\n      </g>\n     </g>\n     <g id=\"text_20\">\n      <!-- 3.0 -->\n      <g transform=\"translate(310.444792 168.430163) scale(0.1 -0.1)\">\n       <defs>\n        <path id=\"DejaVuSans-33\" d=\"M 2597 2516 \nQ 3050 2419 3304 2112 \nQ 3559 1806 3559 1356 \nQ 3559 666 3084 287 \nQ 2609 -91 1734 -91 \nQ 1441 -91 1130 -33 \nQ 819 25 488 141 \nL 488 750 \nQ 750 597 1062 519 \nQ 1375 441 1716 441 \nQ 2309 441 2620 675 \nQ 2931 909 2931 1356 \nQ 2931 1769 2642 2001 \nQ 2353 2234 1838 2234 \nL 1294 2234 \nL 1294 2753 \nL 1863 2753 \nQ 2328 2753 2575 2939 \nQ 2822 3125 2822 3475 \nQ 2822 3834 2567 4026 \nQ 2313 4219 1838 4219 \nQ 1578 4219 1281 4162 \nQ 984 4106 628 3988 \nL 628 4550 \nQ 988 4650 1302 4700 \nQ 1616 4750 1894 4750 \nQ 2613 4750 3031 4423 \nQ 3450 4097 3450 3541 \nQ 3450 3153 3228 2886 \nQ 3006 2619 2597 2516 \nz\n\" transform=\"scale(0.015625)\"/>\n       </defs>\n       <use xlink:href=\"#DejaVuSans-33\"/>\n       <use xlink:href=\"#DejaVuSans-2e\" x=\"63.623047\"/>\n       <use xlink:href=\"#DejaVuSans-30\" x=\"95.410156\"/>\n      </g>\n     </g>\n    </g>\n    <g id=\"ytick_10\">\n     <g id=\"line2d_19\">\n      <g>\n       <use xlink:href=\"#mf880cdad30\" x=\"333.347917\" y=\"131.599311\" style=\"stroke: #000000; stroke-width: 0.8\"/>\n      </g>\n     </g>\n     <g id=\"text_21\">\n      <!-- 3.5 -->\n      <g transform=\"translate(310.444792 135.398529) scale(0.1 -0.1)\">\n       <use xlink:href=\"#DejaVuSans-33\"/>\n       <use xlink:href=\"#DejaVuSans-2e\" x=\"63.623047\"/>\n       <use xlink:href=\"#DejaVuSans-35\" x=\"95.410156\"/>\n      </g>\n     </g>\n    </g>\n    <g id=\"ytick_11\">\n     <g id=\"line2d_20\">\n      <g>\n       <use xlink:href=\"#mf880cdad30\" x=\"333.347917\" y=\"98.567677\" style=\"stroke: #000000; stroke-width: 0.8\"/>\n      </g>\n     </g>\n     <g id=\"text_22\">\n      <!-- 4.0 -->\n      <g transform=\"translate(310.444792 102.366896) scale(0.1 -0.1)\">\n       <defs>\n        <path id=\"DejaVuSans-34\" d=\"M 2419 4116 \nL 825 1625 \nL 2419 1625 \nL 2419 4116 \nz\nM 2253 4666 \nL 3047 4666 \nL 3047 1625 \nL 3713 1625 \nL 3713 1100 \nL 3047 1100 \nL 3047 0 \nL 2419 0 \nL 2419 1100 \nL 313 1100 \nL 313 1709 \nL 2253 4666 \nz\n\" transform=\"scale(0.015625)\"/>\n       </defs>\n       <use xlink:href=\"#DejaVuSans-34\"/>\n       <use xlink:href=\"#DejaVuSans-2e\" x=\"63.623047\"/>\n       <use xlink:href=\"#DejaVuSans-30\" x=\"95.410156\"/>\n      </g>\n     </g>\n    </g>\n    <g id=\"ytick_12\">\n     <g id=\"line2d_21\">\n      <g>\n       <use xlink:href=\"#mf880cdad30\" x=\"333.347917\" y=\"65.536043\" style=\"stroke: #000000; stroke-width: 0.8\"/>\n      </g>\n     </g>\n     <g id=\"text_23\">\n      <!-- 4.5 -->\n      <g transform=\"translate(310.444792 69.335262) scale(0.1 -0.1)\">\n       <use xlink:href=\"#DejaVuSans-34\"/>\n       <use xlink:href=\"#DejaVuSans-2e\" x=\"63.623047\"/>\n       <use xlink:href=\"#DejaVuSans-35\" x=\"95.410156\"/>\n      </g>\n     </g>\n    </g>\n    <g id=\"ytick_13\">\n     <g id=\"line2d_22\">\n      <g>\n       <use xlink:href=\"#mf880cdad30\" x=\"333.347917\" y=\"32.504409\" style=\"stroke: #000000; stroke-width: 0.8\"/>\n      </g>\n     </g>\n     <g id=\"text_24\">\n      <!-- 5.0 -->\n      <g transform=\"translate(310.444792 36.303628) scale(0.1 -0.1)\">\n       <use xlink:href=\"#DejaVuSans-35\"/>\n       <use xlink:href=\"#DejaVuSans-2e\" x=\"63.623047\"/>\n       <use xlink:href=\"#DejaVuSans-30\" x=\"95.410156\"/>\n      </g>\n     </g>\n    </g>\n    <g id=\"text_25\">\n     <!-- D given dev -->\n     <g transform=\"translate(304.365104 154.82625) rotate(-90) scale(0.1 -0.1)\">\n      <defs>\n       <path id=\"DejaVuSans-44\" d=\"M 1259 4147 \nL 1259 519 \nL 2022 519 \nQ 2988 519 3436 956 \nQ 3884 1394 3884 2338 \nQ 3884 3275 3436 3711 \nQ 2988 4147 2022 4147 \nL 1259 4147 \nz\nM 628 4666 \nL 1925 4666 \nQ 3281 4666 3915 4102 \nQ 4550 3538 4550 2338 \nQ 4550 1131 3912 565 \nQ 3275 0 1925 0 \nL 628 0 \nL 628 4666 \nz\n\" transform=\"scale(0.015625)\"/>\n       <path id=\"DejaVuSans-76\" d=\"M 191 3500 \nL 800 3500 \nL 1894 563 \nL 2988 3500 \nL 3597 3500 \nL 2284 0 \nL 1503 0 \nL 191 3500 \nz\n\" transform=\"scale(0.015625)\"/>\n       <path id=\"DejaVuSans-64\" d=\"M 2906 2969 \nL 2906 4863 \nL 3481 4863 \nL 3481 0 \nL 2906 0 \nL 2906 525 \nQ 2725 213 2448 61 \nQ 2172 -91 1784 -91 \nQ 1150 -91 751 415 \nQ 353 922 353 1747 \nQ 353 2572 751 3078 \nQ 1150 3584 1784 3584 \nQ 2172 3584 2448 3432 \nQ 2725 3281 2906 2969 \nz\nM 947 1747 \nQ 947 1113 1208 752 \nQ 1469 391 1925 391 \nQ 2381 391 2643 752 \nQ 2906 1113 2906 1747 \nQ 2906 2381 2643 2742 \nQ 2381 3103 1925 3103 \nQ 1469 3103 1208 2742 \nQ 947 2381 947 1747 \nz\n\" transform=\"scale(0.015625)\"/>\n      </defs>\n      <use xlink:href=\"#DejaVuSans-44\"/>\n      <use xlink:href=\"#DejaVuSans-20\" x=\"77.001953\"/>\n      <use xlink:href=\"#DejaVuSans-67\" x=\"108.789062\"/>\n      <use xlink:href=\"#DejaVuSans-69\" x=\"172.265625\"/>\n      <use xlink:href=\"#DejaVuSans-76\" x=\"200.048828\"/>\n      <use xlink:href=\"#DejaVuSans-65\" x=\"259.228516\"/>\n      <use xlink:href=\"#DejaVuSans-6e\" x=\"320.751953\"/>\n      <use xlink:href=\"#DejaVuSans-20\" x=\"384.130859\"/>\n      <use xlink:href=\"#DejaVuSans-64\" x=\"415.917969\"/>\n      <use xlink:href=\"#DejaVuSans-65\" x=\"479.394531\"/>\n      <use xlink:href=\"#DejaVuSans-76\" x=\"540.917969\"/>\n     </g>\n    </g>\n   </g>\n   <g id=\"line2d_23\">\n    <path d=\"M 343.636402 183.574513 \nL 354.466386 184.774291 \nL 365.29637 216.12419 \nL 376.126354 227.489084 \nL 386.956338 231.747273 \nL 397.786322 226.470281 \nL 408.616306 216.652721 \nL 419.44629 205.011844 \nL 430.276274 181.114567 \nL 441.106258 173.18873 \nL 451.936242 146.369145 \nL 462.766226 123.497555 \nL 473.59621 110.130037 \nL 484.426194 78.349057 \nL 495.256178 72.074289 \nL 506.086162 55.50744 \nL 516.916146 60.702812 \nL 527.74613 34.297911 \nL 538.576114 23.23877 \nL 549.406098 17.892727 \n\" clip-path=\"url(#p6ea104f051)\" style=\"fill: none; stroke: #1f77b4; stroke-width: 2; stroke-linecap: square\"/>\n   </g>\n   <g id=\"patch_8\">\n    <path d=\"M 333.347917 242.44 \nL 333.347917 7.2 \n\" style=\"fill: none; stroke: #000000; stroke-width: 0.8; stroke-linejoin: miter; stroke-linecap: square\"/>\n   </g>\n   <g id=\"patch_9\">\n    <path d=\"M 559.694583 242.44 \nL 559.694583 7.2 \n\" style=\"fill: none; stroke: #000000; stroke-width: 0.8; stroke-linejoin: miter; stroke-linecap: square\"/>\n   </g>\n   <g id=\"patch_10\">\n    <path d=\"M 333.347917 242.44 \nL 559.694583 242.44 \n\" style=\"fill: none; stroke: #000000; stroke-width: 0.8; stroke-linejoin: miter; stroke-linecap: square\"/>\n   </g>\n   <g id=\"patch_11\">\n    <path d=\"M 333.347917 7.2 \nL 559.694583 7.2 \n\" style=\"fill: none; stroke: #000000; stroke-width: 0.8; stroke-linejoin: miter; stroke-linecap: square\"/>\n   </g>\n  </g>\n  <g id=\"axes_3\">\n   <g id=\"patch_12\">\n    <path d=\"M 622.914583 242.44 \nL 849.26125 242.44 \nL 849.26125 7.2 \nL 622.914583 7.2 \nz\n\" style=\"fill: #ffffff\"/>\n   </g>\n   <g id=\"matplotlib.axis_5\">\n    <g id=\"xtick_9\">\n     <g id=\"line2d_24\">\n      <g>\n       <use xlink:href=\"#me238dfddbe\" x=\"633.203068\" y=\"242.44\" style=\"stroke: #000000; stroke-width: 0.8\"/>\n      </g>\n     </g>\n     <g id=\"text_26\">\n      <!-- 0 -->\n      <g transform=\"translate(630.021818 257.038438) scale(0.1 -0.1)\">\n       <use xlink:href=\"#DejaVuSans-30\"/>\n      </g>\n     </g>\n    </g>\n    <g id=\"xtick_10\">\n     <g id=\"line2d_25\">\n      <g>\n       <use xlink:href=\"#me238dfddbe\" x=\"687.352988\" y=\"242.44\" style=\"stroke: #000000; stroke-width: 0.8\"/>\n      </g>\n     </g>\n     <g id=\"text_27\">\n      <!-- 5 -->\n      <g transform=\"translate(684.171738 257.038438) scale(0.1 -0.1)\">\n       <use xlink:href=\"#DejaVuSans-35\"/>\n      </g>\n     </g>\n    </g>\n    <g id=\"xtick_11\">\n     <g id=\"line2d_26\">\n      <g>\n       <use xlink:href=\"#me238dfddbe\" x=\"741.502909\" y=\"242.44\" style=\"stroke: #000000; stroke-width: 0.8\"/>\n      </g>\n     </g>\n     <g id=\"text_28\">\n      <!-- 10 -->\n      <g transform=\"translate(735.140409 257.038438) scale(0.1 -0.1)\">\n       <use xlink:href=\"#DejaVuSans-31\"/>\n       <use xlink:href=\"#DejaVuSans-30\" x=\"63.623047\"/>\n      </g>\n     </g>\n    </g>\n    <g id=\"xtick_12\">\n     <g id=\"line2d_27\">\n      <g>\n       <use xlink:href=\"#me238dfddbe\" x=\"795.652829\" y=\"242.44\" style=\"stroke: #000000; stroke-width: 0.8\"/>\n      </g>\n     </g>\n     <g id=\"text_29\">\n      <!-- 15 -->\n      <g transform=\"translate(789.290329 257.038438) scale(0.1 -0.1)\">\n       <use xlink:href=\"#DejaVuSans-31\"/>\n       <use xlink:href=\"#DejaVuSans-35\" x=\"63.623047\"/>\n      </g>\n     </g>\n    </g>\n    <g id=\"text_30\">\n     <!-- steps (in 10s) -->\n     <g transform=\"translate(702.062917 270.716563) scale(0.1 -0.1)\">\n      <use xlink:href=\"#DejaVuSans-73\"/>\n      <use xlink:href=\"#DejaVuSans-74\" x=\"52.099609\"/>\n      <use xlink:href=\"#DejaVuSans-65\" x=\"91.308594\"/>\n      <use xlink:href=\"#DejaVuSans-70\" x=\"152.832031\"/>\n      <use xlink:href=\"#DejaVuSans-73\" x=\"216.308594\"/>\n      <use xlink:href=\"#DejaVuSans-20\" x=\"268.408203\"/>\n      <use xlink:href=\"#DejaVuSans-28\" x=\"300.195312\"/>\n      <use xlink:href=\"#DejaVuSans-69\" x=\"339.208984\"/>\n      <use xlink:href=\"#DejaVuSans-6e\" x=\"366.992188\"/>\n      <use xlink:href=\"#DejaVuSans-20\" x=\"430.371094\"/>\n      <use xlink:href=\"#DejaVuSans-31\" x=\"462.158203\"/>\n      <use xlink:href=\"#DejaVuSans-30\" x=\"525.78125\"/>\n      <use xlink:href=\"#DejaVuSans-73\" x=\"589.404297\"/>\n      <use xlink:href=\"#DejaVuSans-29\" x=\"641.503906\"/>\n     </g>\n    </g>\n   </g>\n   <g id=\"matplotlib.axis_6\">\n    <g id=\"ytick_14\">\n     <g id=\"line2d_28\">\n      <g>\n       <use xlink:href=\"#mf880cdad30\" x=\"622.914583\" y=\"222.506644\" style=\"stroke: #000000; stroke-width: 0.8\"/>\n      </g>\n     </g>\n     <g id=\"text_31\">\n      <!-- 0.10 -->\n      <g transform=\"translate(593.648958 226.305863) scale(0.1 -0.1)\">\n       <use xlink:href=\"#DejaVuSans-30\"/>\n       <use xlink:href=\"#DejaVuSans-2e\" x=\"63.623047\"/>\n       <use xlink:href=\"#DejaVuSans-31\" x=\"95.410156\"/>\n       <use xlink:href=\"#DejaVuSans-30\" x=\"159.033203\"/>\n      </g>\n     </g>\n    </g>\n    <g id=\"ytick_15\">\n     <g id=\"line2d_29\">\n      <g>\n       <use xlink:href=\"#mf880cdad30\" x=\"622.914583\" y=\"189.5044\" style=\"stroke: #000000; stroke-width: 0.8\"/>\n      </g>\n     </g>\n     <g id=\"text_32\">\n      <!-- 0.15 -->\n      <g transform=\"translate(593.648958 193.303618) scale(0.1 -0.1)\">\n       <use xlink:href=\"#DejaVuSans-30\"/>\n       <use xlink:href=\"#DejaVuSans-2e\" x=\"63.623047\"/>\n       <use xlink:href=\"#DejaVuSans-31\" x=\"95.410156\"/>\n       <use xlink:href=\"#DejaVuSans-35\" x=\"159.033203\"/>\n      </g>\n     </g>\n    </g>\n    <g id=\"ytick_16\">\n     <g id=\"line2d_30\">\n      <g>\n       <use xlink:href=\"#mf880cdad30\" x=\"622.914583\" y=\"156.502155\" style=\"stroke: #000000; stroke-width: 0.8\"/>\n      </g>\n     </g>\n     <g id=\"text_33\">\n      <!-- 0.20 -->\n      <g transform=\"translate(593.648958 160.301374) scale(0.1 -0.1)\">\n       <use xlink:href=\"#DejaVuSans-30\"/>\n       <use xlink:href=\"#DejaVuSans-2e\" x=\"63.623047\"/>\n       <use xlink:href=\"#DejaVuSans-32\" x=\"95.410156\"/>\n       <use xlink:href=\"#DejaVuSans-30\" x=\"159.033203\"/>\n      </g>\n     </g>\n    </g>\n    <g id=\"ytick_17\">\n     <g id=\"line2d_31\">\n      <g>\n       <use xlink:href=\"#mf880cdad30\" x=\"622.914583\" y=\"123.49991\" style=\"stroke: #000000; stroke-width: 0.8\"/>\n      </g>\n     </g>\n     <g id=\"text_34\">\n      <!-- 0.25 -->\n      <g transform=\"translate(593.648958 127.299129) scale(0.1 -0.1)\">\n       <use xlink:href=\"#DejaVuSans-30\"/>\n       <use xlink:href=\"#DejaVuSans-2e\" x=\"63.623047\"/>\n       <use xlink:href=\"#DejaVuSans-32\" x=\"95.410156\"/>\n       <use xlink:href=\"#DejaVuSans-35\" x=\"159.033203\"/>\n      </g>\n     </g>\n    </g>\n    <g id=\"ytick_18\">\n     <g id=\"line2d_32\">\n      <g>\n       <use xlink:href=\"#mf880cdad30\" x=\"622.914583\" y=\"90.497666\" style=\"stroke: #000000; stroke-width: 0.8\"/>\n      </g>\n     </g>\n     <g id=\"text_35\">\n      <!-- 0.30 -->\n      <g transform=\"translate(593.648958 94.296884) scale(0.1 -0.1)\">\n       <use xlink:href=\"#DejaVuSans-30\"/>\n       <use xlink:href=\"#DejaVuSans-2e\" x=\"63.623047\"/>\n       <use xlink:href=\"#DejaVuSans-33\" x=\"95.410156\"/>\n       <use xlink:href=\"#DejaVuSans-30\" x=\"159.033203\"/>\n      </g>\n     </g>\n    </g>\n    <g id=\"ytick_19\">\n     <g id=\"line2d_33\">\n      <g>\n       <use xlink:href=\"#mf880cdad30\" x=\"622.914583\" y=\"57.495421\" style=\"stroke: #000000; stroke-width: 0.8\"/>\n      </g>\n     </g>\n     <g id=\"text_36\">\n      <!-- 0.35 -->\n      <g transform=\"translate(593.648958 61.29464) scale(0.1 -0.1)\">\n       <use xlink:href=\"#DejaVuSans-30\"/>\n       <use xlink:href=\"#DejaVuSans-2e\" x=\"63.623047\"/>\n       <use xlink:href=\"#DejaVuSans-33\" x=\"95.410156\"/>\n       <use xlink:href=\"#DejaVuSans-35\" x=\"159.033203\"/>\n      </g>\n     </g>\n    </g>\n    <g id=\"ytick_20\">\n     <g id=\"line2d_34\">\n      <g>\n       <use xlink:href=\"#mf880cdad30\" x=\"622.914583\" y=\"24.493176\" style=\"stroke: #000000; stroke-width: 0.8\"/>\n      </g>\n     </g>\n     <g id=\"text_37\">\n      <!-- 0.40 -->\n      <g transform=\"translate(593.648958 28.292395) scale(0.1 -0.1)\">\n       <use xlink:href=\"#DejaVuSans-30\"/>\n       <use xlink:href=\"#DejaVuSans-2e\" x=\"63.623047\"/>\n       <use xlink:href=\"#DejaVuSans-34\" x=\"95.410156\"/>\n       <use xlink:href=\"#DejaVuSans-30\" x=\"159.033203\"/>\n      </g>\n     </g>\n    </g>\n    <g id=\"text_38\">\n     <!-- dev acc -->\n     <g transform=\"translate(587.569271 144.181719) rotate(-90) scale(0.1 -0.1)\">\n      <defs>\n       <path id=\"DejaVuSans-63\" d=\"M 3122 3366 \nL 3122 2828 \nQ 2878 2963 2633 3030 \nQ 2388 3097 2138 3097 \nQ 1578 3097 1268 2742 \nQ 959 2388 959 1747 \nQ 959 1106 1268 751 \nQ 1578 397 2138 397 \nQ 2388 397 2633 464 \nQ 2878 531 3122 666 \nL 3122 134 \nQ 2881 22 2623 -34 \nQ 2366 -91 2075 -91 \nQ 1284 -91 818 406 \nQ 353 903 353 1747 \nQ 353 2603 823 3093 \nQ 1294 3584 2113 3584 \nQ 2378 3584 2631 3529 \nQ 2884 3475 3122 3366 \nz\n\" transform=\"scale(0.015625)\"/>\n      </defs>\n      <use xlink:href=\"#DejaVuSans-64\"/>\n      <use xlink:href=\"#DejaVuSans-65\" x=\"63.476562\"/>\n      <use xlink:href=\"#DejaVuSans-76\" x=\"125\"/>\n      <use xlink:href=\"#DejaVuSans-20\" x=\"184.179688\"/>\n      <use xlink:href=\"#DejaVuSans-61\" x=\"215.966797\"/>\n      <use xlink:href=\"#DejaVuSans-63\" x=\"277.246094\"/>\n      <use xlink:href=\"#DejaVuSans-63\" x=\"332.226562\"/>\n     </g>\n    </g>\n   </g>\n   <g id=\"line2d_35\">\n    <path d=\"M 633.203068 229.107093 \nL 644.033052 231.747273 \nL 654.863036 139.340988 \nL 665.69302 87.857486 \nL 676.523004 55.515286 \nL 687.352988 36.373984 \nL 698.182972 31.093625 \nL 709.012957 23.173086 \nL 719.842941 17.892727 \nL 730.672925 30.43358 \nL 741.502909 18.552772 \nL 752.332893 27.793401 \nL 763.162877 24.493176 \nL 773.992861 21.852997 \nL 784.822845 23.833131 \nL 795.652829 31.093625 \nL 806.482813 18.552772 \nL 817.312797 23.833131 \nL 828.142781 28.453446 \nL 838.972765 23.173086 \n\" clip-path=\"url(#p3b792fddc5)\" style=\"fill: none; stroke: #1f77b4; stroke-width: 2; stroke-linecap: square\"/>\n   </g>\n   <g id=\"patch_13\">\n    <path d=\"M 622.914583 242.44 \nL 622.914583 7.2 \n\" style=\"fill: none; stroke: #000000; stroke-width: 0.8; stroke-linejoin: miter; stroke-linecap: square\"/>\n   </g>\n   <g id=\"patch_14\">\n    <path d=\"M 849.26125 242.44 \nL 849.26125 7.2 \n\" style=\"fill: none; stroke: #000000; stroke-width: 0.8; stroke-linejoin: miter; stroke-linecap: square\"/>\n   </g>\n   <g id=\"patch_15\">\n    <path d=\"M 622.914583 242.44 \nL 849.26125 242.44 \n\" style=\"fill: none; stroke: #000000; stroke-width: 0.8; stroke-linejoin: miter; stroke-linecap: square\"/>\n   </g>\n   <g id=\"patch_16\">\n    <path d=\"M 622.914583 7.2 \nL 849.26125 7.2 \n\" style=\"fill: none; stroke: #000000; stroke-width: 0.8; stroke-linejoin: miter; stroke-linecap: square\"/>\n   </g>\n  </g>\n </g>\n <defs>\n  <clipPath id=\"pf57cf6decf\">\n   <rect x=\"43.78125\" y=\"7.2\" width=\"226.346667\" height=\"235.24\"/>\n  </clipPath>\n  <clipPath id=\"p6ea104f051\">\n   <rect x=\"333.347917\" y=\"7.2\" width=\"226.346667\" height=\"235.24\"/>\n  </clipPath>\n  <clipPath id=\"p3b792fddc5\">\n   <rect x=\"622.914583\" y=\"7.2\" width=\"226.346667\" height=\"235.24\"/>\n  </clipPath>\n </defs>\n</svg>\n",
            "application/pdf": "[encoded data removed]"
          },
          "metadata": {}
        }
      ]
    },
    {
      "cell_type": "code",
      "source": [
        "# Set up the test dataloader\n",
        "cat_test_corpus = TextRegressionCorpus(cat_test_x, cat_test_y, cat_vocab)\n",
        "cat_test_dl = DataLoader(cat_test_corpus, batch_size=3, shuffle=True, collate_fn=cat_test_corpus.pad_to_longest)\n",
        "batch_x, batch_y = next(iter(cat_test_dl))\n",
        "\n",
        "# Use the mode to form predictions.\n",
        "decision_rule = ExactMode()\n",
        "predictions = decision_rule(model, batch_x.to(my_device))\n",
        "\n",
        "for x, pred, truth in zip(batch_x, batch_y, predictions):\n",
        "    print(f\"input: {' '.join(cat_vocab.decode(x, strip_pad=True))}\")\n",
        "    print(f\"prediction: {brown.categories()[pred]}\")\n",
        "    print(f\"truth: {brown.categories()[truth]}\")\n",
        "    print()"
      ],
      "metadata": {
        "colab": {
          "base_uri": "https://localhost:8080/"
        },
        "id": "pgO21KyA4vxl",
        "outputId": "845aab2a-8eaa-4b02-b516-a765da447286"
      },
      "execution_count": 43,
      "outputs": [
        {
          "output_type": "stream",
          "name": "stdout",
          "text": [
            "input: Have you examined this problem of increasing consumer sophistication from the standpoint of your own company ? ? -EOS-\n",
            "prediction: hobbies\n",
            "truth: lore\n",
            "\n",
            "input: Some have plenty of money -- some have very little money . -EOS-\n",
            "prediction: lore\n",
            "truth: lore\n",
            "\n",
            "input: Thus far the advances made have been almost entirely along functional lines . -EOS-\n",
            "prediction: belles_lettres\n",
            "truth: lore\n",
            "\n"
          ]
        }
      ]
    },
    {
      "cell_type": "code",
      "source": [
        "# We can also visualize the predicted Categoricals and use them for sampling or input\n",
        "# to any arbitrary decision rule.\n",
        "import seaborn as sns\n",
        "import pandas as pd\n",
        "\n",
        "with torch.no_grad():\n",
        "    batch_x, batch_y = next(iter(cat_test_dl))\n",
        "    cpds = model(batch_x.to(my_device))\n",
        "\n",
        "fig, axes = plt.subplots(3, 1, figsize=(15, 10))\n",
        "for ax, x, y, predicted_probs in zip(axes, batch_x, batch_y, cpds.probs):\n",
        "    sns.barplot(data=pd.DataFrame({\"category\": brown.categories(), \"prob\": predicted_probs.cpu()}),\n",
        "                x=\"category\", y=\"prob\", ax=ax)\n",
        "    ax.set_title(f\"{' '.join(cat_vocab.decode(x, strip_pad=True))}, truth = {brown.categories()[y]}\")\n",
        "\n",
        "plt.tight_layout()\n",
        "plt.show()"
      ],
      "metadata": {
        "colab": {
          "base_uri": "https://localhost:8080/",
          "height": 989
        },
        "id": "b6yu8IEP4xz2",
        "outputId": "1a8f2a3b-9bb7-4e9e-cb33-bb94b740d879"
      },
      "execution_count": 44,
      "outputs": [
        {
          "output_type": "display_data",
          "data": {
            "text/plain": [
              "<Figure size 1500x1000 with 3 Axes>"
            ],
            "image/svg+xml": "<?xml version=\"1.0\" encoding=\"utf-8\" standalone=\"no\"?>\n<!DOCTYPE svg PUBLIC \"-//W3C//DTD SVG 1.1//EN\"\n  \"http://www.w3.org/Graphics/SVG/1.1/DTD/svg11.dtd\">\n<svg xmlns:xlink=\"http://www.w3.org/1999/xlink\" width=\"1066.63226pt\" height=\"711.33125pt\" viewBox=\"0 0 1066.63226 711.33125\" xmlns=\"http://www.w3.org/2000/svg\" version=\"1.1\">\n <metadata>\n  <rdf:RDF xmlns:dc=\"http://purl.org/dc/elements/1.1/\" xmlns:cc=\"http://creativecommons.org/ns#\" xmlns:rdf=\"http://www.w3.org/1999/02/22-rdf-syntax-ns#\">\n   <cc:Work>\n    <dc:type rdf:resource=\"http://purl.org/dc/dcmitype/StillImage\"/>\n    <dc:date>2023-05-14T06:12:01.397494</dc:date>\n    <dc:format>image/svg+xml</dc:format>\n    <dc:creator>\n     <cc:Agent>\n      <dc:title>Matplotlib v3.7.1, https://matplotlib.org/</dc:title>\n     </cc:Agent>\n    </dc:creator>\n   </cc:Work>\n  </rdf:RDF>\n </metadata>\n <defs>\n  <style type=\"text/css\">*{stroke-linejoin: round; stroke-linecap: butt}</style>\n </defs>\n <g id=\"figure_1\">\n  <g id=\"patch_1\">\n   <path d=\"M 0 711.33125 \nL 1066.63226 711.33125 \nL 1066.63226 0 \nL 0 0 \nz\n\" style=\"fill: #ffffff\"/>\n  </g>\n  <g id=\"axes_1\">\n   <g id=\"patch_2\">\n    <path d=\"M 43.78125 200.696875 \nL 1056.39625 200.696875 \nL 1056.39625 22.798125 \nL 43.78125 22.798125 \nz\n\" style=\"fill: #ffffff\"/>\n   </g>\n   <g id=\"patch_3\">\n    <path d=\"M 50.532017 200.696875 \nL 104.53815 200.696875 \nL 104.53815 31.269494 \nL 50.532017 31.269494 \nz\n\" clip-path=\"url(#p9aac3ac436)\" style=\"fill: #ea96a3\"/>\n   </g>\n   <g id=\"patch_4\">\n    <path d=\"M 118.039683 200.696875 \nL 172.045817 200.696875 \nL 172.045817 200.696869 \nL 118.039683 200.696869 \nz\n\" clip-path=\"url(#p9aac3ac436)\" style=\"fill: #e59471\"/>\n   </g>\n   <g id=\"patch_5\">\n    <path d=\"M 185.54735 200.696875 \nL 239.553483 200.696875 \nL 239.553483 200.696854 \nL 185.54735 200.696854 \nz\n\" clip-path=\"url(#p9aac3ac436)\" style=\"fill: #c6994b\"/>\n   </g>\n   <g id=\"patch_6\">\n    <path d=\"M 253.055017 200.696875 \nL 307.06115 200.696875 \nL 307.06115 200.619964 \nL 253.055017 200.619964 \nz\n\" clip-path=\"url(#p9aac3ac436)\" style=\"fill: #ab9e47\"/>\n   </g>\n   <g id=\"patch_7\">\n    <path d=\"M 320.562683 200.696875 \nL 374.568817 200.696875 \nL 374.568817 200.696875 \nL 320.562683 200.696875 \nz\n\" clip-path=\"url(#p9aac3ac436)\" style=\"fill: #91a446\"/>\n   </g>\n   <g id=\"patch_8\">\n    <path d=\"M 388.07035 200.696875 \nL 442.076483 200.696875 \nL 442.076483 200.696875 \nL 388.07035 200.696875 \nz\n\" clip-path=\"url(#p9aac3ac436)\" style=\"fill: #60ae47\"/>\n   </g>\n   <g id=\"patch_9\">\n    <path d=\"M 455.578017 200.696875 \nL 509.58415 200.696875 \nL 509.58415 200.696872 \nL 455.578017 200.696872 \nz\n\" clip-path=\"url(#p9aac3ac436)\" style=\"fill: #49ae83\"/>\n   </g>\n   <g id=\"patch_10\">\n    <path d=\"M 523.085683 200.696875 \nL 577.091817 200.696875 \nL 577.091817 200.694965 \nL 523.085683 200.694965 \nz\n\" clip-path=\"url(#p9aac3ac436)\" style=\"fill: #4aac9b\"/>\n   </g>\n   <g id=\"patch_11\">\n    <path d=\"M 590.59335 200.696875 \nL 644.599483 200.696875 \nL 644.599483 200.69645 \nL 590.59335 200.69645 \nz\n\" clip-path=\"url(#p9aac3ac436)\" style=\"fill: #4cabad\"/>\n   </g>\n   <g id=\"patch_12\">\n    <path d=\"M 658.101017 200.696875 \nL 712.10715 200.696875 \nL 712.10715 195.948442 \nL 658.101017 195.948442 \nz\n\" clip-path=\"url(#p9aac3ac436)\" style=\"fill: #50acc3\"/>\n   </g>\n   <g id=\"patch_13\">\n    <path d=\"M 725.608683 200.696875 \nL 779.614817 200.696875 \nL 779.614817 200.696779 \nL 725.608683 200.696779 \nz\n\" clip-path=\"url(#p9aac3ac436)\" style=\"fill: #6daee2\"/>\n   </g>\n   <g id=\"patch_14\">\n    <path d=\"M 793.11635 200.696875 \nL 847.122483 200.696875 \nL 847.122483 200.696875 \nL 793.11635 200.696875 \nz\n\" clip-path=\"url(#p9aac3ac436)\" style=\"fill: #adabeb\"/>\n   </g>\n   <g id=\"patch_15\">\n    <path d=\"M 860.624017 200.696875 \nL 914.63015 200.696875 \nL 914.63015 200.696875 \nL 860.624017 200.696875 \nz\n\" clip-path=\"url(#p9aac3ac436)\" style=\"fill: #ce9be9\"/>\n   </g>\n   <g id=\"patch_16\">\n    <path d=\"M 928.131683 200.696875 \nL 982.137817 200.696875 \nL 982.137817 200.67266 \nL 928.131683 200.67266 \nz\n\" clip-path=\"url(#p9aac3ac436)\" style=\"fill: #e78bdb\"/>\n   </g>\n   <g id=\"patch_17\">\n    <path d=\"M 995.63935 200.696875 \nL 1049.645483 200.696875 \nL 1049.645483 200.696854 \nL 995.63935 200.696854 \nz\n\" clip-path=\"url(#p9aac3ac436)\" style=\"fill: #e891bf\"/>\n   </g>\n   <g id=\"matplotlib.axis_1\">\n    <g id=\"xtick_1\">\n     <g id=\"line2d_1\">\n      <defs>\n       <path id=\"m5b17d57451\" d=\"M 0 0 \nL 0 3.5 \n\" style=\"stroke: #000000; stroke-width: 0.8\"/>\n      </defs>\n      <g>\n       <use xlink:href=\"#m5b17d57451\" x=\"77.535083\" y=\"200.696875\" style=\"stroke: #000000; stroke-width: 0.8\"/>\n      </g>\n     </g>\n     <g id=\"text_1\">\n      <!-- adventure -->\n      <g transform=\"translate(51.943677 215.295313) scale(0.1 -0.1)\">\n       <defs>\n        <path id=\"DejaVuSans-61\" d=\"M 2194 1759 \nQ 1497 1759 1228 1600 \nQ 959 1441 959 1056 \nQ 959 750 1161 570 \nQ 1363 391 1709 391 \nQ 2188 391 2477 730 \nQ 2766 1069 2766 1631 \nL 2766 1759 \nL 2194 1759 \nz\nM 3341 1997 \nL 3341 0 \nL 2766 0 \nL 2766 531 \nQ 2569 213 2275 61 \nQ 1981 -91 1556 -91 \nQ 1019 -91 701 211 \nQ 384 513 384 1019 \nQ 384 1609 779 1909 \nQ 1175 2209 1959 2209 \nL 2766 2209 \nL 2766 2266 \nQ 2766 2663 2505 2880 \nQ 2244 3097 1772 3097 \nQ 1472 3097 1187 3025 \nQ 903 2953 641 2809 \nL 641 3341 \nQ 956 3463 1253 3523 \nQ 1550 3584 1831 3584 \nQ 2591 3584 2966 3190 \nQ 3341 2797 3341 1997 \nz\n\" transform=\"scale(0.015625)\"/>\n        <path id=\"DejaVuSans-64\" d=\"M 2906 2969 \nL 2906 4863 \nL 3481 4863 \nL 3481 0 \nL 2906 0 \nL 2906 525 \nQ 2725 213 2448 61 \nQ 2172 -91 1784 -91 \nQ 1150 -91 751 415 \nQ 353 922 353 1747 \nQ 353 2572 751 3078 \nQ 1150 3584 1784 3584 \nQ 2172 3584 2448 3432 \nQ 2725 3281 2906 2969 \nz\nM 947 1747 \nQ 947 1113 1208 752 \nQ 1469 391 1925 391 \nQ 2381 391 2643 752 \nQ 2906 1113 2906 1747 \nQ 2906 2381 2643 2742 \nQ 2381 3103 1925 3103 \nQ 1469 3103 1208 2742 \nQ 947 2381 947 1747 \nz\n\" transform=\"scale(0.015625)\"/>\n        <path id=\"DejaVuSans-76\" d=\"M 191 3500 \nL 800 3500 \nL 1894 563 \nL 2988 3500 \nL 3597 3500 \nL 2284 0 \nL 1503 0 \nL 191 3500 \nz\n\" transform=\"scale(0.015625)\"/>\n        <path id=\"DejaVuSans-65\" d=\"M 3597 1894 \nL 3597 1613 \nL 953 1613 \nQ 991 1019 1311 708 \nQ 1631 397 2203 397 \nQ 2534 397 2845 478 \nQ 3156 559 3463 722 \nL 3463 178 \nQ 3153 47 2828 -22 \nQ 2503 -91 2169 -91 \nQ 1331 -91 842 396 \nQ 353 884 353 1716 \nQ 353 2575 817 3079 \nQ 1281 3584 2069 3584 \nQ 2775 3584 3186 3129 \nQ 3597 2675 3597 1894 \nz\nM 3022 2063 \nQ 3016 2534 2758 2815 \nQ 2500 3097 2075 3097 \nQ 1594 3097 1305 2825 \nQ 1016 2553 972 2059 \nL 3022 2063 \nz\n\" transform=\"scale(0.015625)\"/>\n        <path id=\"DejaVuSans-6e\" d=\"M 3513 2113 \nL 3513 0 \nL 2938 0 \nL 2938 2094 \nQ 2938 2591 2744 2837 \nQ 2550 3084 2163 3084 \nQ 1697 3084 1428 2787 \nQ 1159 2491 1159 1978 \nL 1159 0 \nL 581 0 \nL 581 3500 \nL 1159 3500 \nL 1159 2956 \nQ 1366 3272 1645 3428 \nQ 1925 3584 2291 3584 \nQ 2894 3584 3203 3211 \nQ 3513 2838 3513 2113 \nz\n\" transform=\"scale(0.015625)\"/>\n        <path id=\"DejaVuSans-74\" d=\"M 1172 4494 \nL 1172 3500 \nL 2356 3500 \nL 2356 3053 \nL 1172 3053 \nL 1172 1153 \nQ 1172 725 1289 603 \nQ 1406 481 1766 481 \nL 2356 481 \nL 2356 0 \nL 1766 0 \nQ 1100 0 847 248 \nQ 594 497 594 1153 \nL 594 3053 \nL 172 3053 \nL 172 3500 \nL 594 3500 \nL 594 4494 \nL 1172 4494 \nz\n\" transform=\"scale(0.015625)\"/>\n        <path id=\"DejaVuSans-75\" d=\"M 544 1381 \nL 544 3500 \nL 1119 3500 \nL 1119 1403 \nQ 1119 906 1312 657 \nQ 1506 409 1894 409 \nQ 2359 409 2629 706 \nQ 2900 1003 2900 1516 \nL 2900 3500 \nL 3475 3500 \nL 3475 0 \nL 2900 0 \nL 2900 538 \nQ 2691 219 2414 64 \nQ 2138 -91 1772 -91 \nQ 1169 -91 856 284 \nQ 544 659 544 1381 \nz\nM 1991 3584 \nL 1991 3584 \nz\n\" transform=\"scale(0.015625)\"/>\n        <path id=\"DejaVuSans-72\" d=\"M 2631 2963 \nQ 2534 3019 2420 3045 \nQ 2306 3072 2169 3072 \nQ 1681 3072 1420 2755 \nQ 1159 2438 1159 1844 \nL 1159 0 \nL 581 0 \nL 581 3500 \nL 1159 3500 \nL 1159 2956 \nQ 1341 3275 1631 3429 \nQ 1922 3584 2338 3584 \nQ 2397 3584 2469 3576 \nQ 2541 3569 2628 3553 \nL 2631 2963 \nz\n\" transform=\"scale(0.015625)\"/>\n       </defs>\n       <use xlink:href=\"#DejaVuSans-61\"/>\n       <use xlink:href=\"#DejaVuSans-64\" x=\"61.279297\"/>\n       <use xlink:href=\"#DejaVuSans-76\" x=\"124.755859\"/>\n       <use xlink:href=\"#DejaVuSans-65\" x=\"183.935547\"/>\n       <use xlink:href=\"#DejaVuSans-6e\" x=\"245.458984\"/>\n       <use xlink:href=\"#DejaVuSans-74\" x=\"308.837891\"/>\n       <use xlink:href=\"#DejaVuSans-75\" x=\"348.046875\"/>\n       <use xlink:href=\"#DejaVuSans-72\" x=\"411.425781\"/>\n       <use xlink:href=\"#DejaVuSans-65\" x=\"450.289062\"/>\n      </g>\n     </g>\n    </g>\n    <g id=\"xtick_2\">\n     <g id=\"line2d_2\">\n      <g>\n       <use xlink:href=\"#m5b17d57451\" x=\"145.04275\" y=\"200.696875\" style=\"stroke: #000000; stroke-width: 0.8\"/>\n      </g>\n     </g>\n     <g id=\"text_2\">\n      <!-- belles_lettres -->\n      <g transform=\"translate(111.822438 215.295313) scale(0.1 -0.1)\">\n       <defs>\n        <path id=\"DejaVuSans-62\" d=\"M 3116 1747 \nQ 3116 2381 2855 2742 \nQ 2594 3103 2138 3103 \nQ 1681 3103 1420 2742 \nQ 1159 2381 1159 1747 \nQ 1159 1113 1420 752 \nQ 1681 391 2138 391 \nQ 2594 391 2855 752 \nQ 3116 1113 3116 1747 \nz\nM 1159 2969 \nQ 1341 3281 1617 3432 \nQ 1894 3584 2278 3584 \nQ 2916 3584 3314 3078 \nQ 3713 2572 3713 1747 \nQ 3713 922 3314 415 \nQ 2916 -91 2278 -91 \nQ 1894 -91 1617 61 \nQ 1341 213 1159 525 \nL 1159 0 \nL 581 0 \nL 581 4863 \nL 1159 4863 \nL 1159 2969 \nz\n\" transform=\"scale(0.015625)\"/>\n        <path id=\"DejaVuSans-6c\" d=\"M 603 4863 \nL 1178 4863 \nL 1178 0 \nL 603 0 \nL 603 4863 \nz\n\" transform=\"scale(0.015625)\"/>\n        <path id=\"DejaVuSans-73\" d=\"M 2834 3397 \nL 2834 2853 \nQ 2591 2978 2328 3040 \nQ 2066 3103 1784 3103 \nQ 1356 3103 1142 2972 \nQ 928 2841 928 2578 \nQ 928 2378 1081 2264 \nQ 1234 2150 1697 2047 \nL 1894 2003 \nQ 2506 1872 2764 1633 \nQ 3022 1394 3022 966 \nQ 3022 478 2636 193 \nQ 2250 -91 1575 -91 \nQ 1294 -91 989 -36 \nQ 684 19 347 128 \nL 347 722 \nQ 666 556 975 473 \nQ 1284 391 1588 391 \nQ 1994 391 2212 530 \nQ 2431 669 2431 922 \nQ 2431 1156 2273 1281 \nQ 2116 1406 1581 1522 \nL 1381 1569 \nQ 847 1681 609 1914 \nQ 372 2147 372 2553 \nQ 372 3047 722 3315 \nQ 1072 3584 1716 3584 \nQ 2034 3584 2315 3537 \nQ 2597 3491 2834 3397 \nz\n\" transform=\"scale(0.015625)\"/>\n        <path id=\"DejaVuSans-5f\" d=\"M 3263 -1063 \nL 3263 -1509 \nL -63 -1509 \nL -63 -1063 \nL 3263 -1063 \nz\n\" transform=\"scale(0.015625)\"/>\n       </defs>\n       <use xlink:href=\"#DejaVuSans-62\"/>\n       <use xlink:href=\"#DejaVuSans-65\" x=\"63.476562\"/>\n       <use xlink:href=\"#DejaVuSans-6c\" x=\"125\"/>\n       <use xlink:href=\"#DejaVuSans-6c\" x=\"152.783203\"/>\n       <use xlink:href=\"#DejaVuSans-65\" x=\"180.566406\"/>\n       <use xlink:href=\"#DejaVuSans-73\" x=\"242.089844\"/>\n       <use xlink:href=\"#DejaVuSans-5f\" x=\"294.189453\"/>\n       <use xlink:href=\"#DejaVuSans-6c\" x=\"344.189453\"/>\n       <use xlink:href=\"#DejaVuSans-65\" x=\"371.972656\"/>\n       <use xlink:href=\"#DejaVuSans-74\" x=\"433.496094\"/>\n       <use xlink:href=\"#DejaVuSans-74\" x=\"472.705078\"/>\n       <use xlink:href=\"#DejaVuSans-72\" x=\"511.914062\"/>\n       <use xlink:href=\"#DejaVuSans-65\" x=\"550.777344\"/>\n       <use xlink:href=\"#DejaVuSans-73\" x=\"612.300781\"/>\n      </g>\n     </g>\n    </g>\n    <g id=\"xtick_3\">\n     <g id=\"line2d_3\">\n      <g>\n       <use xlink:href=\"#m5b17d57451\" x=\"212.550417\" y=\"200.696875\" style=\"stroke: #000000; stroke-width: 0.8\"/>\n      </g>\n     </g>\n     <g id=\"text_3\">\n      <!-- editorial -->\n      <g transform=\"translate(191.993385 215.295313) scale(0.1 -0.1)\">\n       <defs>\n        <path id=\"DejaVuSans-69\" d=\"M 603 3500 \nL 1178 3500 \nL 1178 0 \nL 603 0 \nL 603 3500 \nz\nM 603 4863 \nL 1178 4863 \nL 1178 4134 \nL 603 4134 \nL 603 4863 \nz\n\" transform=\"scale(0.015625)\"/>\n        <path id=\"DejaVuSans-6f\" d=\"M 1959 3097 \nQ 1497 3097 1228 2736 \nQ 959 2375 959 1747 \nQ 959 1119 1226 758 \nQ 1494 397 1959 397 \nQ 2419 397 2687 759 \nQ 2956 1122 2956 1747 \nQ 2956 2369 2687 2733 \nQ 2419 3097 1959 3097 \nz\nM 1959 3584 \nQ 2709 3584 3137 3096 \nQ 3566 2609 3566 1747 \nQ 3566 888 3137 398 \nQ 2709 -91 1959 -91 \nQ 1206 -91 779 398 \nQ 353 888 353 1747 \nQ 353 2609 779 3096 \nQ 1206 3584 1959 3584 \nz\n\" transform=\"scale(0.015625)\"/>\n       </defs>\n       <use xlink:href=\"#DejaVuSans-65\"/>\n       <use xlink:href=\"#DejaVuSans-64\" x=\"61.523438\"/>\n       <use xlink:href=\"#DejaVuSans-69\" x=\"125\"/>\n       <use xlink:href=\"#DejaVuSans-74\" x=\"152.783203\"/>\n       <use xlink:href=\"#DejaVuSans-6f\" x=\"191.992188\"/>\n       <use xlink:href=\"#DejaVuSans-72\" x=\"253.173828\"/>\n       <use xlink:href=\"#DejaVuSans-69\" x=\"294.287109\"/>\n       <use xlink:href=\"#DejaVuSans-61\" x=\"322.070312\"/>\n       <use xlink:href=\"#DejaVuSans-6c\" x=\"383.349609\"/>\n      </g>\n     </g>\n    </g>\n    <g id=\"xtick_4\">\n     <g id=\"line2d_4\">\n      <g>\n       <use xlink:href=\"#m5b17d57451\" x=\"280.058083\" y=\"200.696875\" style=\"stroke: #000000; stroke-width: 0.8\"/>\n      </g>\n     </g>\n     <g id=\"text_4\">\n      <!-- fiction -->\n      <g transform=\"translate(264.582302 215.295313) scale(0.1 -0.1)\">\n       <defs>\n        <path id=\"DejaVuSans-66\" d=\"M 2375 4863 \nL 2375 4384 \nL 1825 4384 \nQ 1516 4384 1395 4259 \nQ 1275 4134 1275 3809 \nL 1275 3500 \nL 2222 3500 \nL 2222 3053 \nL 1275 3053 \nL 1275 0 \nL 697 0 \nL 697 3053 \nL 147 3053 \nL 147 3500 \nL 697 3500 \nL 697 3744 \nQ 697 4328 969 4595 \nQ 1241 4863 1831 4863 \nL 2375 4863 \nz\n\" transform=\"scale(0.015625)\"/>\n        <path id=\"DejaVuSans-63\" d=\"M 3122 3366 \nL 3122 2828 \nQ 2878 2963 2633 3030 \nQ 2388 3097 2138 3097 \nQ 1578 3097 1268 2742 \nQ 959 2388 959 1747 \nQ 959 1106 1268 751 \nQ 1578 397 2138 397 \nQ 2388 397 2633 464 \nQ 2878 531 3122 666 \nL 3122 134 \nQ 2881 22 2623 -34 \nQ 2366 -91 2075 -91 \nQ 1284 -91 818 406 \nQ 353 903 353 1747 \nQ 353 2603 823 3093 \nQ 1294 3584 2113 3584 \nQ 2378 3584 2631 3529 \nQ 2884 3475 3122 3366 \nz\n\" transform=\"scale(0.015625)\"/>\n       </defs>\n       <use xlink:href=\"#DejaVuSans-66\"/>\n       <use xlink:href=\"#DejaVuSans-69\" x=\"35.205078\"/>\n       <use xlink:href=\"#DejaVuSans-63\" x=\"62.988281\"/>\n       <use xlink:href=\"#DejaVuSans-74\" x=\"117.96875\"/>\n       <use xlink:href=\"#DejaVuSans-69\" x=\"157.177734\"/>\n       <use xlink:href=\"#DejaVuSans-6f\" x=\"184.960938\"/>\n       <use xlink:href=\"#DejaVuSans-6e\" x=\"246.142578\"/>\n      </g>\n     </g>\n    </g>\n    <g id=\"xtick_5\">\n     <g id=\"line2d_5\">\n      <g>\n       <use xlink:href=\"#m5b17d57451\" x=\"347.56575\" y=\"200.696875\" style=\"stroke: #000000; stroke-width: 0.8\"/>\n      </g>\n     </g>\n     <g id=\"text_5\">\n      <!-- government -->\n      <g transform=\"translate(317.083719 215.295313) scale(0.1 -0.1)\">\n       <defs>\n        <path id=\"DejaVuSans-67\" d=\"M 2906 1791 \nQ 2906 2416 2648 2759 \nQ 2391 3103 1925 3103 \nQ 1463 3103 1205 2759 \nQ 947 2416 947 1791 \nQ 947 1169 1205 825 \nQ 1463 481 1925 481 \nQ 2391 481 2648 825 \nQ 2906 1169 2906 1791 \nz\nM 3481 434 \nQ 3481 -459 3084 -895 \nQ 2688 -1331 1869 -1331 \nQ 1566 -1331 1297 -1286 \nQ 1028 -1241 775 -1147 \nL 775 -588 \nQ 1028 -725 1275 -790 \nQ 1522 -856 1778 -856 \nQ 2344 -856 2625 -561 \nQ 2906 -266 2906 331 \nL 2906 616 \nQ 2728 306 2450 153 \nQ 2172 0 1784 0 \nQ 1141 0 747 490 \nQ 353 981 353 1791 \nQ 353 2603 747 3093 \nQ 1141 3584 1784 3584 \nQ 2172 3584 2450 3431 \nQ 2728 3278 2906 2969 \nL 2906 3500 \nL 3481 3500 \nL 3481 434 \nz\n\" transform=\"scale(0.015625)\"/>\n        <path id=\"DejaVuSans-6d\" d=\"M 3328 2828 \nQ 3544 3216 3844 3400 \nQ 4144 3584 4550 3584 \nQ 5097 3584 5394 3201 \nQ 5691 2819 5691 2113 \nL 5691 0 \nL 5113 0 \nL 5113 2094 \nQ 5113 2597 4934 2840 \nQ 4756 3084 4391 3084 \nQ 3944 3084 3684 2787 \nQ 3425 2491 3425 1978 \nL 3425 0 \nL 2847 0 \nL 2847 2094 \nQ 2847 2600 2669 2842 \nQ 2491 3084 2119 3084 \nQ 1678 3084 1418 2786 \nQ 1159 2488 1159 1978 \nL 1159 0 \nL 581 0 \nL 581 3500 \nL 1159 3500 \nL 1159 2956 \nQ 1356 3278 1631 3431 \nQ 1906 3584 2284 3584 \nQ 2666 3584 2933 3390 \nQ 3200 3197 3328 2828 \nz\n\" transform=\"scale(0.015625)\"/>\n       </defs>\n       <use xlink:href=\"#DejaVuSans-67\"/>\n       <use xlink:href=\"#DejaVuSans-6f\" x=\"63.476562\"/>\n       <use xlink:href=\"#DejaVuSans-76\" x=\"124.658203\"/>\n       <use xlink:href=\"#DejaVuSans-65\" x=\"183.837891\"/>\n       <use xlink:href=\"#DejaVuSans-72\" x=\"245.361328\"/>\n       <use xlink:href=\"#DejaVuSans-6e\" x=\"284.724609\"/>\n       <use xlink:href=\"#DejaVuSans-6d\" x=\"348.103516\"/>\n       <use xlink:href=\"#DejaVuSans-65\" x=\"445.515625\"/>\n       <use xlink:href=\"#DejaVuSans-6e\" x=\"507.039062\"/>\n       <use xlink:href=\"#DejaVuSans-74\" x=\"570.417969\"/>\n      </g>\n     </g>\n    </g>\n    <g id=\"xtick_6\">\n     <g id=\"line2d_6\">\n      <g>\n       <use xlink:href=\"#m5b17d57451\" x=\"415.073417\" y=\"200.696875\" style=\"stroke: #000000; stroke-width: 0.8\"/>\n      </g>\n     </g>\n     <g id=\"text_6\">\n      <!-- hobbies -->\n      <g transform=\"translate(395.426542 215.295313) scale(0.1 -0.1)\">\n       <defs>\n        <path id=\"DejaVuSans-68\" d=\"M 3513 2113 \nL 3513 0 \nL 2938 0 \nL 2938 2094 \nQ 2938 2591 2744 2837 \nQ 2550 3084 2163 3084 \nQ 1697 3084 1428 2787 \nQ 1159 2491 1159 1978 \nL 1159 0 \nL 581 0 \nL 581 4863 \nL 1159 4863 \nL 1159 2956 \nQ 1366 3272 1645 3428 \nQ 1925 3584 2291 3584 \nQ 2894 3584 3203 3211 \nQ 3513 2838 3513 2113 \nz\n\" transform=\"scale(0.015625)\"/>\n       </defs>\n       <use xlink:href=\"#DejaVuSans-68\"/>\n       <use xlink:href=\"#DejaVuSans-6f\" x=\"63.378906\"/>\n       <use xlink:href=\"#DejaVuSans-62\" x=\"124.560547\"/>\n       <use xlink:href=\"#DejaVuSans-62\" x=\"188.037109\"/>\n       <use xlink:href=\"#DejaVuSans-69\" x=\"251.513672\"/>\n       <use xlink:href=\"#DejaVuSans-65\" x=\"279.296875\"/>\n       <use xlink:href=\"#DejaVuSans-73\" x=\"340.820312\"/>\n      </g>\n     </g>\n    </g>\n    <g id=\"xtick_7\">\n     <g id=\"line2d_7\">\n      <g>\n       <use xlink:href=\"#m5b17d57451\" x=\"482.581083\" y=\"200.696875\" style=\"stroke: #000000; stroke-width: 0.8\"/>\n      </g>\n     </g>\n     <g id=\"text_7\">\n      <!-- humor -->\n      <g transform=\"translate(466.258427 215.295313) scale(0.1 -0.1)\">\n       <use xlink:href=\"#DejaVuSans-68\"/>\n       <use xlink:href=\"#DejaVuSans-75\" x=\"63.378906\"/>\n       <use xlink:href=\"#DejaVuSans-6d\" x=\"126.757812\"/>\n       <use xlink:href=\"#DejaVuSans-6f\" x=\"224.169922\"/>\n       <use xlink:href=\"#DejaVuSans-72\" x=\"285.351562\"/>\n      </g>\n     </g>\n    </g>\n    <g id=\"xtick_8\">\n     <g id=\"line2d_8\">\n      <g>\n       <use xlink:href=\"#m5b17d57451\" x=\"550.08875\" y=\"200.696875\" style=\"stroke: #000000; stroke-width: 0.8\"/>\n      </g>\n     </g>\n     <g id=\"text_8\">\n      <!-- learned -->\n      <g transform=\"translate(531.171563 215.295313) scale(0.1 -0.1)\">\n       <use xlink:href=\"#DejaVuSans-6c\"/>\n       <use xlink:href=\"#DejaVuSans-65\" x=\"27.783203\"/>\n       <use xlink:href=\"#DejaVuSans-61\" x=\"89.306641\"/>\n       <use xlink:href=\"#DejaVuSans-72\" x=\"150.585938\"/>\n       <use xlink:href=\"#DejaVuSans-6e\" x=\"189.949219\"/>\n       <use xlink:href=\"#DejaVuSans-65\" x=\"253.328125\"/>\n       <use xlink:href=\"#DejaVuSans-64\" x=\"314.851562\"/>\n      </g>\n     </g>\n    </g>\n    <g id=\"xtick_9\">\n     <g id=\"line2d_9\">\n      <g>\n       <use xlink:href=\"#m5b17d57451\" x=\"617.596417\" y=\"200.696875\" style=\"stroke: #000000; stroke-width: 0.8\"/>\n      </g>\n     </g>\n     <g id=\"text_9\">\n      <!-- lore -->\n      <g transform=\"translate(608.128448 215.295313) scale(0.1 -0.1)\">\n       <use xlink:href=\"#DejaVuSans-6c\"/>\n       <use xlink:href=\"#DejaVuSans-6f\" x=\"27.783203\"/>\n       <use xlink:href=\"#DejaVuSans-72\" x=\"88.964844\"/>\n       <use xlink:href=\"#DejaVuSans-65\" x=\"127.828125\"/>\n      </g>\n     </g>\n    </g>\n    <g id=\"xtick_10\">\n     <g id=\"line2d_10\">\n      <g>\n       <use xlink:href=\"#m5b17d57451\" x=\"685.104083\" y=\"200.696875\" style=\"stroke: #000000; stroke-width: 0.8\"/>\n      </g>\n     </g>\n     <g id=\"text_10\">\n      <!-- mystery -->\n      <g transform=\"translate(664.618146 215.295313) scale(0.1 -0.1)\">\n       <defs>\n        <path id=\"DejaVuSans-79\" d=\"M 2059 -325 \nQ 1816 -950 1584 -1140 \nQ 1353 -1331 966 -1331 \nL 506 -1331 \nL 506 -850 \nL 844 -850 \nQ 1081 -850 1212 -737 \nQ 1344 -625 1503 -206 \nL 1606 56 \nL 191 3500 \nL 800 3500 \nL 1894 763 \nL 2988 3500 \nL 3597 3500 \nL 2059 -325 \nz\n\" transform=\"scale(0.015625)\"/>\n       </defs>\n       <use xlink:href=\"#DejaVuSans-6d\"/>\n       <use xlink:href=\"#DejaVuSans-79\" x=\"97.412109\"/>\n       <use xlink:href=\"#DejaVuSans-73\" x=\"156.591797\"/>\n       <use xlink:href=\"#DejaVuSans-74\" x=\"208.691406\"/>\n       <use xlink:href=\"#DejaVuSans-65\" x=\"247.900391\"/>\n       <use xlink:href=\"#DejaVuSans-72\" x=\"309.423828\"/>\n       <use xlink:href=\"#DejaVuSans-79\" x=\"350.537109\"/>\n      </g>\n     </g>\n    </g>\n    <g id=\"xtick_11\">\n     <g id=\"line2d_11\">\n      <g>\n       <use xlink:href=\"#m5b17d57451\" x=\"752.61175\" y=\"200.696875\" style=\"stroke: #000000; stroke-width: 0.8\"/>\n      </g>\n     </g>\n     <g id=\"text_11\">\n      <!-- news -->\n      <g transform=\"translate(739.672687 215.295313) scale(0.1 -0.1)\">\n       <defs>\n        <path id=\"DejaVuSans-77\" d=\"M 269 3500 \nL 844 3500 \nL 1563 769 \nL 2278 3500 \nL 2956 3500 \nL 3675 769 \nL 4391 3500 \nL 4966 3500 \nL 4050 0 \nL 3372 0 \nL 2619 2869 \nL 1863 0 \nL 1184 0 \nL 269 3500 \nz\n\" transform=\"scale(0.015625)\"/>\n       </defs>\n       <use xlink:href=\"#DejaVuSans-6e\"/>\n       <use xlink:href=\"#DejaVuSans-65\" x=\"63.378906\"/>\n       <use xlink:href=\"#DejaVuSans-77\" x=\"124.902344\"/>\n       <use xlink:href=\"#DejaVuSans-73\" x=\"206.689453\"/>\n      </g>\n     </g>\n    </g>\n    <g id=\"xtick_12\">\n     <g id=\"line2d_12\">\n      <g>\n       <use xlink:href=\"#m5b17d57451\" x=\"820.119417\" y=\"200.696875\" style=\"stroke: #000000; stroke-width: 0.8\"/>\n      </g>\n     </g>\n     <g id=\"text_12\">\n      <!-- religion -->\n      <g transform=\"translate(801.530354 215.295313) scale(0.1 -0.1)\">\n       <use xlink:href=\"#DejaVuSans-72\"/>\n       <use xlink:href=\"#DejaVuSans-65\" x=\"38.863281\"/>\n       <use xlink:href=\"#DejaVuSans-6c\" x=\"100.386719\"/>\n       <use xlink:href=\"#DejaVuSans-69\" x=\"128.169922\"/>\n       <use xlink:href=\"#DejaVuSans-67\" x=\"155.953125\"/>\n       <use xlink:href=\"#DejaVuSans-69\" x=\"219.429688\"/>\n       <use xlink:href=\"#DejaVuSans-6f\" x=\"247.212891\"/>\n       <use xlink:href=\"#DejaVuSans-6e\" x=\"308.394531\"/>\n      </g>\n     </g>\n    </g>\n    <g id=\"xtick_13\">\n     <g id=\"line2d_13\">\n      <g>\n       <use xlink:href=\"#m5b17d57451\" x=\"887.627083\" y=\"200.696875\" style=\"stroke: #000000; stroke-width: 0.8\"/>\n      </g>\n     </g>\n     <g id=\"text_13\">\n      <!-- reviews -->\n      <g transform=\"translate(868.488802 215.295313) scale(0.1 -0.1)\">\n       <use xlink:href=\"#DejaVuSans-72\"/>\n       <use xlink:href=\"#DejaVuSans-65\" x=\"38.863281\"/>\n       <use xlink:href=\"#DejaVuSans-76\" x=\"100.386719\"/>\n       <use xlink:href=\"#DejaVuSans-69\" x=\"159.566406\"/>\n       <use xlink:href=\"#DejaVuSans-65\" x=\"187.349609\"/>\n       <use xlink:href=\"#DejaVuSans-77\" x=\"248.873047\"/>\n       <use xlink:href=\"#DejaVuSans-73\" x=\"330.660156\"/>\n      </g>\n     </g>\n    </g>\n    <g id=\"xtick_14\">\n     <g id=\"line2d_14\">\n      <g>\n       <use xlink:href=\"#m5b17d57451\" x=\"955.13475\" y=\"200.696875\" style=\"stroke: #000000; stroke-width: 0.8\"/>\n      </g>\n     </g>\n     <g id=\"text_14\">\n      <!-- romance -->\n      <g transform=\"translate(933.2035 215.295313) scale(0.1 -0.1)\">\n       <use xlink:href=\"#DejaVuSans-72\"/>\n       <use xlink:href=\"#DejaVuSans-6f\" x=\"38.863281\"/>\n       <use xlink:href=\"#DejaVuSans-6d\" x=\"100.044922\"/>\n       <use xlink:href=\"#DejaVuSans-61\" x=\"197.457031\"/>\n       <use xlink:href=\"#DejaVuSans-6e\" x=\"258.736328\"/>\n       <use xlink:href=\"#DejaVuSans-63\" x=\"322.115234\"/>\n       <use xlink:href=\"#DejaVuSans-65\" x=\"377.095703\"/>\n      </g>\n     </g>\n    </g>\n    <g id=\"xtick_15\">\n     <g id=\"line2d_15\">\n      <g>\n       <use xlink:href=\"#m5b17d57451\" x=\"1022.642417\" y=\"200.696875\" style=\"stroke: #000000; stroke-width: 0.8\"/>\n      </g>\n     </g>\n     <g id=\"text_15\">\n      <!-- science_fiction -->\n      <g transform=\"translate(985.852573 215.295313) scale(0.1 -0.1)\">\n       <use xlink:href=\"#DejaVuSans-73\"/>\n       <use xlink:href=\"#DejaVuSans-63\" x=\"52.099609\"/>\n       <use xlink:href=\"#DejaVuSans-69\" x=\"107.080078\"/>\n       <use xlink:href=\"#DejaVuSans-65\" x=\"134.863281\"/>\n       <use xlink:href=\"#DejaVuSans-6e\" x=\"196.386719\"/>\n       <use xlink:href=\"#DejaVuSans-63\" x=\"259.765625\"/>\n       <use xlink:href=\"#DejaVuSans-65\" x=\"314.746094\"/>\n       <use xlink:href=\"#DejaVuSans-5f\" x=\"376.269531\"/>\n       <use xlink:href=\"#DejaVuSans-66\" x=\"426.269531\"/>\n       <use xlink:href=\"#DejaVuSans-69\" x=\"461.474609\"/>\n       <use xlink:href=\"#DejaVuSans-63\" x=\"489.257812\"/>\n       <use xlink:href=\"#DejaVuSans-74\" x=\"544.238281\"/>\n       <use xlink:href=\"#DejaVuSans-69\" x=\"583.447266\"/>\n       <use xlink:href=\"#DejaVuSans-6f\" x=\"611.230469\"/>\n       <use xlink:href=\"#DejaVuSans-6e\" x=\"672.412109\"/>\n      </g>\n     </g>\n    </g>\n    <g id=\"text_16\">\n     <!-- category -->\n     <g transform=\"translate(527.990312 229.251563) scale(0.1 -0.1)\">\n      <use xlink:href=\"#DejaVuSans-63\"/>\n      <use xlink:href=\"#DejaVuSans-61\" x=\"54.980469\"/>\n      <use xlink:href=\"#DejaVuSans-74\" x=\"116.259766\"/>\n      <use xlink:href=\"#DejaVuSans-65\" x=\"155.46875\"/>\n      <use xlink:href=\"#DejaVuSans-67\" x=\"216.992188\"/>\n      <use xlink:href=\"#DejaVuSans-6f\" x=\"280.46875\"/>\n      <use xlink:href=\"#DejaVuSans-72\" x=\"341.650391\"/>\n      <use xlink:href=\"#DejaVuSans-79\" x=\"382.763672\"/>\n     </g>\n    </g>\n   </g>\n   <g id=\"matplotlib.axis_2\">\n    <g id=\"ytick_1\">\n     <g id=\"line2d_16\">\n      <defs>\n       <path id=\"m51b4070612\" d=\"M 0 0 \nL -3.5 0 \n\" style=\"stroke: #000000; stroke-width: 0.8\"/>\n      </defs>\n      <g>\n       <use xlink:href=\"#m51b4070612\" x=\"43.78125\" y=\"200.696875\" style=\"stroke: #000000; stroke-width: 0.8\"/>\n      </g>\n     </g>\n     <g id=\"text_17\">\n      <!-- 0.0 -->\n      <g transform=\"translate(20.878125 204.496094) scale(0.1 -0.1)\">\n       <defs>\n        <path id=\"DejaVuSans-30\" d=\"M 2034 4250 \nQ 1547 4250 1301 3770 \nQ 1056 3291 1056 2328 \nQ 1056 1369 1301 889 \nQ 1547 409 2034 409 \nQ 2525 409 2770 889 \nQ 3016 1369 3016 2328 \nQ 3016 3291 2770 3770 \nQ 2525 4250 2034 4250 \nz\nM 2034 4750 \nQ 2819 4750 3233 4129 \nQ 3647 3509 3647 2328 \nQ 3647 1150 3233 529 \nQ 2819 -91 2034 -91 \nQ 1250 -91 836 529 \nQ 422 1150 422 2328 \nQ 422 3509 836 4129 \nQ 1250 4750 2034 4750 \nz\n\" transform=\"scale(0.015625)\"/>\n        <path id=\"DejaVuSans-2e\" d=\"M 684 794 \nL 1344 794 \nL 1344 0 \nL 684 0 \nL 684 794 \nz\n\" transform=\"scale(0.015625)\"/>\n       </defs>\n       <use xlink:href=\"#DejaVuSans-30\"/>\n       <use xlink:href=\"#DejaVuSans-2e\" x=\"63.623047\"/>\n       <use xlink:href=\"#DejaVuSans-30\" x=\"95.410156\"/>\n      </g>\n     </g>\n    </g>\n    <g id=\"ytick_2\">\n     <g id=\"line2d_17\">\n      <g>\n       <use xlink:href=\"#m51b4070612\" x=\"43.78125\" y=\"165.84099\" style=\"stroke: #000000; stroke-width: 0.8\"/>\n      </g>\n     </g>\n     <g id=\"text_18\">\n      <!-- 0.2 -->\n      <g transform=\"translate(20.878125 169.640208) scale(0.1 -0.1)\">\n       <defs>\n        <path id=\"DejaVuSans-32\" d=\"M 1228 531 \nL 3431 531 \nL 3431 0 \nL 469 0 \nL 469 531 \nQ 828 903 1448 1529 \nQ 2069 2156 2228 2338 \nQ 2531 2678 2651 2914 \nQ 2772 3150 2772 3378 \nQ 2772 3750 2511 3984 \nQ 2250 4219 1831 4219 \nQ 1534 4219 1204 4116 \nQ 875 4013 500 3803 \nL 500 4441 \nQ 881 4594 1212 4672 \nQ 1544 4750 1819 4750 \nQ 2544 4750 2975 4387 \nQ 3406 4025 3406 3419 \nQ 3406 3131 3298 2873 \nQ 3191 2616 2906 2266 \nQ 2828 2175 2409 1742 \nQ 1991 1309 1228 531 \nz\n\" transform=\"scale(0.015625)\"/>\n       </defs>\n       <use xlink:href=\"#DejaVuSans-30\"/>\n       <use xlink:href=\"#DejaVuSans-2e\" x=\"63.623047\"/>\n       <use xlink:href=\"#DejaVuSans-32\" x=\"95.410156\"/>\n      </g>\n     </g>\n    </g>\n    <g id=\"ytick_3\">\n     <g id=\"line2d_18\">\n      <g>\n       <use xlink:href=\"#m51b4070612\" x=\"43.78125\" y=\"130.985104\" style=\"stroke: #000000; stroke-width: 0.8\"/>\n      </g>\n     </g>\n     <g id=\"text_19\">\n      <!-- 0.4 -->\n      <g transform=\"translate(20.878125 134.784323) scale(0.1 -0.1)\">\n       <defs>\n        <path id=\"DejaVuSans-34\" d=\"M 2419 4116 \nL 825 1625 \nL 2419 1625 \nL 2419 4116 \nz\nM 2253 4666 \nL 3047 4666 \nL 3047 1625 \nL 3713 1625 \nL 3713 1100 \nL 3047 1100 \nL 3047 0 \nL 2419 0 \nL 2419 1100 \nL 313 1100 \nL 313 1709 \nL 2253 4666 \nz\n\" transform=\"scale(0.015625)\"/>\n       </defs>\n       <use xlink:href=\"#DejaVuSans-30\"/>\n       <use xlink:href=\"#DejaVuSans-2e\" x=\"63.623047\"/>\n       <use xlink:href=\"#DejaVuSans-34\" x=\"95.410156\"/>\n      </g>\n     </g>\n    </g>\n    <g id=\"ytick_4\">\n     <g id=\"line2d_19\">\n      <g>\n       <use xlink:href=\"#m51b4070612\" x=\"43.78125\" y=\"96.129219\" style=\"stroke: #000000; stroke-width: 0.8\"/>\n      </g>\n     </g>\n     <g id=\"text_20\">\n      <!-- 0.6 -->\n      <g transform=\"translate(20.878125 99.928437) scale(0.1 -0.1)\">\n       <defs>\n        <path id=\"DejaVuSans-36\" d=\"M 2113 2584 \nQ 1688 2584 1439 2293 \nQ 1191 2003 1191 1497 \nQ 1191 994 1439 701 \nQ 1688 409 2113 409 \nQ 2538 409 2786 701 \nQ 3034 994 3034 1497 \nQ 3034 2003 2786 2293 \nQ 2538 2584 2113 2584 \nz\nM 3366 4563 \nL 3366 3988 \nQ 3128 4100 2886 4159 \nQ 2644 4219 2406 4219 \nQ 1781 4219 1451 3797 \nQ 1122 3375 1075 2522 \nQ 1259 2794 1537 2939 \nQ 1816 3084 2150 3084 \nQ 2853 3084 3261 2657 \nQ 3669 2231 3669 1497 \nQ 3669 778 3244 343 \nQ 2819 -91 2113 -91 \nQ 1303 -91 875 529 \nQ 447 1150 447 2328 \nQ 447 3434 972 4092 \nQ 1497 4750 2381 4750 \nQ 2619 4750 2861 4703 \nQ 3103 4656 3366 4563 \nz\n\" transform=\"scale(0.015625)\"/>\n       </defs>\n       <use xlink:href=\"#DejaVuSans-30\"/>\n       <use xlink:href=\"#DejaVuSans-2e\" x=\"63.623047\"/>\n       <use xlink:href=\"#DejaVuSans-36\" x=\"95.410156\"/>\n      </g>\n     </g>\n    </g>\n    <g id=\"ytick_5\">\n     <g id=\"line2d_20\">\n      <g>\n       <use xlink:href=\"#m51b4070612\" x=\"43.78125\" y=\"61.273333\" style=\"stroke: #000000; stroke-width: 0.8\"/>\n      </g>\n     </g>\n     <g id=\"text_21\">\n      <!-- 0.8 -->\n      <g transform=\"translate(20.878125 65.072552) scale(0.1 -0.1)\">\n       <defs>\n        <path id=\"DejaVuSans-38\" d=\"M 2034 2216 \nQ 1584 2216 1326 1975 \nQ 1069 1734 1069 1313 \nQ 1069 891 1326 650 \nQ 1584 409 2034 409 \nQ 2484 409 2743 651 \nQ 3003 894 3003 1313 \nQ 3003 1734 2745 1975 \nQ 2488 2216 2034 2216 \nz\nM 1403 2484 \nQ 997 2584 770 2862 \nQ 544 3141 544 3541 \nQ 544 4100 942 4425 \nQ 1341 4750 2034 4750 \nQ 2731 4750 3128 4425 \nQ 3525 4100 3525 3541 \nQ 3525 3141 3298 2862 \nQ 3072 2584 2669 2484 \nQ 3125 2378 3379 2068 \nQ 3634 1759 3634 1313 \nQ 3634 634 3220 271 \nQ 2806 -91 2034 -91 \nQ 1263 -91 848 271 \nQ 434 634 434 1313 \nQ 434 1759 690 2068 \nQ 947 2378 1403 2484 \nz\nM 1172 3481 \nQ 1172 3119 1398 2916 \nQ 1625 2713 2034 2713 \nQ 2441 2713 2670 2916 \nQ 2900 3119 2900 3481 \nQ 2900 3844 2670 4047 \nQ 2441 4250 2034 4250 \nQ 1625 4250 1398 4047 \nQ 1172 3844 1172 3481 \nz\n\" transform=\"scale(0.015625)\"/>\n       </defs>\n       <use xlink:href=\"#DejaVuSans-30\"/>\n       <use xlink:href=\"#DejaVuSans-2e\" x=\"63.623047\"/>\n       <use xlink:href=\"#DejaVuSans-38\" x=\"95.410156\"/>\n      </g>\n     </g>\n    </g>\n    <g id=\"ytick_6\">\n     <g id=\"line2d_21\">\n      <g>\n       <use xlink:href=\"#m51b4070612\" x=\"43.78125\" y=\"26.417448\" style=\"stroke: #000000; stroke-width: 0.8\"/>\n      </g>\n     </g>\n     <g id=\"text_22\">\n      <!-- 1.0 -->\n      <g transform=\"translate(20.878125 30.216666) scale(0.1 -0.1)\">\n       <defs>\n        <path id=\"DejaVuSans-31\" d=\"M 794 531 \nL 1825 531 \nL 1825 4091 \nL 703 3866 \nL 703 4441 \nL 1819 4666 \nL 2450 4666 \nL 2450 531 \nL 3481 531 \nL 3481 0 \nL 794 0 \nL 794 531 \nz\n\" transform=\"scale(0.015625)\"/>\n       </defs>\n       <use xlink:href=\"#DejaVuSans-31\"/>\n       <use xlink:href=\"#DejaVuSans-2e\" x=\"63.623047\"/>\n       <use xlink:href=\"#DejaVuSans-30\" x=\"95.410156\"/>\n      </g>\n     </g>\n    </g>\n    <g id=\"text_23\">\n     <!-- prob -->\n     <g transform=\"translate(14.798438 123.098281) rotate(-90) scale(0.1 -0.1)\">\n      <defs>\n       <path id=\"DejaVuSans-70\" d=\"M 1159 525 \nL 1159 -1331 \nL 581 -1331 \nL 581 3500 \nL 1159 3500 \nL 1159 2969 \nQ 1341 3281 1617 3432 \nQ 1894 3584 2278 3584 \nQ 2916 3584 3314 3078 \nQ 3713 2572 3713 1747 \nQ 3713 922 3314 415 \nQ 2916 -91 2278 -91 \nQ 1894 -91 1617 61 \nQ 1341 213 1159 525 \nz\nM 3116 1747 \nQ 3116 2381 2855 2742 \nQ 2594 3103 2138 3103 \nQ 1681 3103 1420 2742 \nQ 1159 2381 1159 1747 \nQ 1159 1113 1420 752 \nQ 1681 391 2138 391 \nQ 2594 391 2855 752 \nQ 3116 1113 3116 1747 \nz\n\" transform=\"scale(0.015625)\"/>\n      </defs>\n      <use xlink:href=\"#DejaVuSans-70\"/>\n      <use xlink:href=\"#DejaVuSans-72\" x=\"63.476562\"/>\n      <use xlink:href=\"#DejaVuSans-6f\" x=\"102.339844\"/>\n      <use xlink:href=\"#DejaVuSans-62\" x=\"163.521484\"/>\n     </g>\n    </g>\n   </g>\n   <g id=\"line2d_22\">\n    <path clip-path=\"url(#p9aac3ac436)\" style=\"fill: none; stroke: #424242; stroke-width: 3.6; stroke-linecap: square\"/>\n   </g>\n   <g id=\"line2d_23\">\n    <path clip-path=\"url(#p9aac3ac436)\" style=\"fill: none; stroke: #424242; stroke-width: 3.6; stroke-linecap: square\"/>\n   </g>\n   <g id=\"line2d_24\">\n    <path clip-path=\"url(#p9aac3ac436)\" style=\"fill: none; stroke: #424242; stroke-width: 3.6; stroke-linecap: square\"/>\n   </g>\n   <g id=\"line2d_25\">\n    <path clip-path=\"url(#p9aac3ac436)\" style=\"fill: none; stroke: #424242; stroke-width: 3.6; stroke-linecap: square\"/>\n   </g>\n   <g id=\"line2d_26\">\n    <path clip-path=\"url(#p9aac3ac436)\" style=\"fill: none; stroke: #424242; stroke-width: 3.6; stroke-linecap: square\"/>\n   </g>\n   <g id=\"line2d_27\">\n    <path clip-path=\"url(#p9aac3ac436)\" style=\"fill: none; stroke: #424242; stroke-width: 3.6; stroke-linecap: square\"/>\n   </g>\n   <g id=\"line2d_28\">\n    <path clip-path=\"url(#p9aac3ac436)\" style=\"fill: none; stroke: #424242; stroke-width: 3.6; stroke-linecap: square\"/>\n   </g>\n   <g id=\"line2d_29\">\n    <path clip-path=\"url(#p9aac3ac436)\" style=\"fill: none; stroke: #424242; stroke-width: 3.6; stroke-linecap: square\"/>\n   </g>\n   <g id=\"line2d_30\">\n    <path clip-path=\"url(#p9aac3ac436)\" style=\"fill: none; stroke: #424242; stroke-width: 3.6; stroke-linecap: square\"/>\n   </g>\n   <g id=\"line2d_31\">\n    <path clip-path=\"url(#p9aac3ac436)\" style=\"fill: none; stroke: #424242; stroke-width: 3.6; stroke-linecap: square\"/>\n   </g>\n   <g id=\"line2d_32\">\n    <path clip-path=\"url(#p9aac3ac436)\" style=\"fill: none; stroke: #424242; stroke-width: 3.6; stroke-linecap: square\"/>\n   </g>\n   <g id=\"line2d_33\">\n    <path clip-path=\"url(#p9aac3ac436)\" style=\"fill: none; stroke: #424242; stroke-width: 3.6; stroke-linecap: square\"/>\n   </g>\n   <g id=\"line2d_34\">\n    <path clip-path=\"url(#p9aac3ac436)\" style=\"fill: none; stroke: #424242; stroke-width: 3.6; stroke-linecap: square\"/>\n   </g>\n   <g id=\"line2d_35\">\n    <path clip-path=\"url(#p9aac3ac436)\" style=\"fill: none; stroke: #424242; stroke-width: 3.6; stroke-linecap: square\"/>\n   </g>\n   <g id=\"line2d_36\">\n    <path clip-path=\"url(#p9aac3ac436)\" style=\"fill: none; stroke: #424242; stroke-width: 3.6; stroke-linecap: square\"/>\n   </g>\n   <g id=\"patch_18\">\n    <path d=\"M 43.78125 200.696875 \nL 43.78125 22.798125 \n\" style=\"fill: none; stroke: #000000; stroke-width: 0.8; stroke-linejoin: miter; stroke-linecap: square\"/>\n   </g>\n   <g id=\"patch_19\">\n    <path d=\"M 1056.39625 200.696875 \nL 1056.39625 22.798125 \n\" style=\"fill: none; stroke: #000000; stroke-width: 0.8; stroke-linejoin: miter; stroke-linecap: square\"/>\n   </g>\n   <g id=\"patch_20\">\n    <path d=\"M 43.78125 200.696875 \nL 1056.39625 200.696875 \n\" style=\"fill: none; stroke: #000000; stroke-width: 0.8; stroke-linejoin: miter; stroke-linecap: square\"/>\n   </g>\n   <g id=\"patch_21\">\n    <path d=\"M 43.78125 22.798125 \nL 1056.39625 22.798125 \n\" style=\"fill: none; stroke: #000000; stroke-width: 0.8; stroke-linejoin: miter; stroke-linecap: square\"/>\n   </g>\n   <g id=\"text_24\">\n    <!-- `` Got the upstairs guy '' , he -UNK- . -EOS-, truth = mystery -->\n    <g transform=\"translate(369.525313 16.798125) scale(0.12 -0.12)\">\n     <defs>\n      <path id=\"DejaVuSans-60\" d=\"M 1147 5119 \nL 2028 3950 \nL 1550 3950 \nL 531 5119 \nL 1147 5119 \nz\n\" transform=\"scale(0.015625)\"/>\n      <path id=\"DejaVuSans-20\" transform=\"scale(0.015625)\"/>\n      <path id=\"DejaVuSans-47\" d=\"M 3809 666 \nL 3809 1919 \nL 2778 1919 \nL 2778 2438 \nL 4434 2438 \nL 4434 434 \nQ 4069 175 3628 42 \nQ 3188 -91 2688 -91 \nQ 1594 -91 976 548 \nQ 359 1188 359 2328 \nQ 359 3472 976 4111 \nQ 1594 4750 2688 4750 \nQ 3144 4750 3555 4637 \nQ 3966 4525 4313 4306 \nL 4313 3634 \nQ 3963 3931 3569 4081 \nQ 3175 4231 2741 4231 \nQ 1884 4231 1454 3753 \nQ 1025 3275 1025 2328 \nQ 1025 1384 1454 906 \nQ 1884 428 2741 428 \nQ 3075 428 3337 486 \nQ 3600 544 3809 666 \nz\n\" transform=\"scale(0.015625)\"/>\n      <path id=\"DejaVuSans-27\" d=\"M 1147 4666 \nL 1147 2931 \nL 616 2931 \nL 616 4666 \nL 1147 4666 \nz\n\" transform=\"scale(0.015625)\"/>\n      <path id=\"DejaVuSans-2c\" d=\"M 750 794 \nL 1409 794 \nL 1409 256 \nL 897 -744 \nL 494 -744 \nL 750 256 \nL 750 794 \nz\n\" transform=\"scale(0.015625)\"/>\n      <path id=\"DejaVuSans-2d\" d=\"M 313 2009 \nL 1997 2009 \nL 1997 1497 \nL 313 1497 \nL 313 2009 \nz\n\" transform=\"scale(0.015625)\"/>\n      <path id=\"DejaVuSans-55\" d=\"M 556 4666 \nL 1191 4666 \nL 1191 1831 \nQ 1191 1081 1462 751 \nQ 1734 422 2344 422 \nQ 2950 422 3222 751 \nQ 3494 1081 3494 1831 \nL 3494 4666 \nL 4128 4666 \nL 4128 1753 \nQ 4128 841 3676 375 \nQ 3225 -91 2344 -91 \nQ 1459 -91 1007 375 \nQ 556 841 556 1753 \nL 556 4666 \nz\n\" transform=\"scale(0.015625)\"/>\n      <path id=\"DejaVuSans-4e\" d=\"M 628 4666 \nL 1478 4666 \nL 3547 763 \nL 3547 4666 \nL 4159 4666 \nL 4159 0 \nL 3309 0 \nL 1241 3903 \nL 1241 0 \nL 628 0 \nL 628 4666 \nz\n\" transform=\"scale(0.015625)\"/>\n      <path id=\"DejaVuSans-4b\" d=\"M 628 4666 \nL 1259 4666 \nL 1259 2694 \nL 3353 4666 \nL 4166 4666 \nL 1850 2491 \nL 4331 0 \nL 3500 0 \nL 1259 2247 \nL 1259 0 \nL 628 0 \nL 628 4666 \nz\n\" transform=\"scale(0.015625)\"/>\n      <path id=\"DejaVuSans-45\" d=\"M 628 4666 \nL 3578 4666 \nL 3578 4134 \nL 1259 4134 \nL 1259 2753 \nL 3481 2753 \nL 3481 2222 \nL 1259 2222 \nL 1259 531 \nL 3634 531 \nL 3634 0 \nL 628 0 \nL 628 4666 \nz\n\" transform=\"scale(0.015625)\"/>\n      <path id=\"DejaVuSans-4f\" d=\"M 2522 4238 \nQ 1834 4238 1429 3725 \nQ 1025 3213 1025 2328 \nQ 1025 1447 1429 934 \nQ 1834 422 2522 422 \nQ 3209 422 3611 934 \nQ 4013 1447 4013 2328 \nQ 4013 3213 3611 3725 \nQ 3209 4238 2522 4238 \nz\nM 2522 4750 \nQ 3503 4750 4090 4092 \nQ 4678 3434 4678 2328 \nQ 4678 1225 4090 567 \nQ 3503 -91 2522 -91 \nQ 1538 -91 948 565 \nQ 359 1222 359 2328 \nQ 359 3434 948 4092 \nQ 1538 4750 2522 4750 \nz\n\" transform=\"scale(0.015625)\"/>\n      <path id=\"DejaVuSans-53\" d=\"M 3425 4513 \nL 3425 3897 \nQ 3066 4069 2747 4153 \nQ 2428 4238 2131 4238 \nQ 1616 4238 1336 4038 \nQ 1056 3838 1056 3469 \nQ 1056 3159 1242 3001 \nQ 1428 2844 1947 2747 \nL 2328 2669 \nQ 3034 2534 3370 2195 \nQ 3706 1856 3706 1288 \nQ 3706 609 3251 259 \nQ 2797 -91 1919 -91 \nQ 1588 -91 1214 -16 \nQ 841 59 441 206 \nL 441 856 \nQ 825 641 1194 531 \nQ 1563 422 1919 422 \nQ 2459 422 2753 634 \nQ 3047 847 3047 1241 \nQ 3047 1584 2836 1778 \nQ 2625 1972 2144 2069 \nL 1759 2144 \nQ 1053 2284 737 2584 \nQ 422 2884 422 3419 \nQ 422 4038 858 4394 \nQ 1294 4750 2059 4750 \nQ 2388 4750 2728 4690 \nQ 3069 4631 3425 4513 \nz\n\" transform=\"scale(0.015625)\"/>\n      <path id=\"DejaVuSans-3d\" d=\"M 678 2906 \nL 4684 2906 \nL 4684 2381 \nL 678 2381 \nL 678 2906 \nz\nM 678 1631 \nL 4684 1631 \nL 4684 1100 \nL 678 1100 \nL 678 1631 \nz\n\" transform=\"scale(0.015625)\"/>\n     </defs>\n     <use xlink:href=\"#DejaVuSans-60\"/>\n     <use xlink:href=\"#DejaVuSans-60\" x=\"50\"/>\n     <use xlink:href=\"#DejaVuSans-20\" x=\"100\"/>\n     <use xlink:href=\"#DejaVuSans-47\" x=\"131.787109\"/>\n     <use xlink:href=\"#DejaVuSans-6f\" x=\"209.277344\"/>\n     <use xlink:href=\"#DejaVuSans-74\" x=\"270.458984\"/>\n     <use xlink:href=\"#DejaVuSans-20\" x=\"309.667969\"/>\n     <use xlink:href=\"#DejaVuSans-74\" x=\"341.455078\"/>\n     <use xlink:href=\"#DejaVuSans-68\" x=\"380.664062\"/>\n     <use xlink:href=\"#DejaVuSans-65\" x=\"444.042969\"/>\n     <use xlink:href=\"#DejaVuSans-20\" x=\"505.566406\"/>\n     <use xlink:href=\"#DejaVuSans-75\" x=\"537.353516\"/>\n     <use xlink:href=\"#DejaVuSans-70\" x=\"600.732422\"/>\n     <use xlink:href=\"#DejaVuSans-73\" x=\"664.208984\"/>\n     <use xlink:href=\"#DejaVuSans-74\" x=\"716.308594\"/>\n     <use xlink:href=\"#DejaVuSans-61\" x=\"755.517578\"/>\n     <use xlink:href=\"#DejaVuSans-69\" x=\"816.796875\"/>\n     <use xlink:href=\"#DejaVuSans-72\" x=\"844.580078\"/>\n     <use xlink:href=\"#DejaVuSans-73\" x=\"885.693359\"/>\n     <use xlink:href=\"#DejaVuSans-20\" x=\"937.792969\"/>\n     <use xlink:href=\"#DejaVuSans-67\" x=\"969.580078\"/>\n     <use xlink:href=\"#DejaVuSans-75\" x=\"1033.056641\"/>\n     <use xlink:href=\"#DejaVuSans-79\" x=\"1096.435547\"/>\n     <use xlink:href=\"#DejaVuSans-20\" x=\"1155.615234\"/>\n     <use xlink:href=\"#DejaVuSans-27\" x=\"1187.402344\"/>\n     <use xlink:href=\"#DejaVuSans-27\" x=\"1214.892578\"/>\n     <use xlink:href=\"#DejaVuSans-20\" x=\"1242.382812\"/>\n     <use xlink:href=\"#DejaVuSans-2c\" x=\"1274.169922\"/>\n     <use xlink:href=\"#DejaVuSans-20\" x=\"1305.957031\"/>\n     <use xlink:href=\"#DejaVuSans-68\" x=\"1337.744141\"/>\n     <use xlink:href=\"#DejaVuSans-65\" x=\"1401.123047\"/>\n     <use xlink:href=\"#DejaVuSans-20\" x=\"1462.646484\"/>\n     <use xlink:href=\"#DejaVuSans-2d\" x=\"1494.433594\"/>\n     <use xlink:href=\"#DejaVuSans-55\" x=\"1530.517578\"/>\n     <use xlink:href=\"#DejaVuSans-4e\" x=\"1603.710938\"/>\n     <use xlink:href=\"#DejaVuSans-4b\" x=\"1678.515625\"/>\n     <use xlink:href=\"#DejaVuSans-2d\" x=\"1733.591797\"/>\n     <use xlink:href=\"#DejaVuSans-20\" x=\"1769.675781\"/>\n     <use xlink:href=\"#DejaVuSans-2e\" x=\"1801.462891\"/>\n     <use xlink:href=\"#DejaVuSans-20\" x=\"1833.25\"/>\n     <use xlink:href=\"#DejaVuSans-2d\" x=\"1865.037109\"/>\n     <use xlink:href=\"#DejaVuSans-45\" x=\"1901.121094\"/>\n     <use xlink:href=\"#DejaVuSans-4f\" x=\"1964.304688\"/>\n     <use xlink:href=\"#DejaVuSans-53\" x=\"2043.015625\"/>\n     <use xlink:href=\"#DejaVuSans-2d\" x=\"2106.492188\"/>\n     <use xlink:href=\"#DejaVuSans-2c\" x=\"2142.576172\"/>\n     <use xlink:href=\"#DejaVuSans-20\" x=\"2174.363281\"/>\n     <use xlink:href=\"#DejaVuSans-74\" x=\"2206.150391\"/>\n     <use xlink:href=\"#DejaVuSans-72\" x=\"2245.359375\"/>\n     <use xlink:href=\"#DejaVuSans-75\" x=\"2286.472656\"/>\n     <use xlink:href=\"#DejaVuSans-74\" x=\"2349.851562\"/>\n     <use xlink:href=\"#DejaVuSans-68\" x=\"2389.060547\"/>\n     <use xlink:href=\"#DejaVuSans-20\" x=\"2452.439453\"/>\n     <use xlink:href=\"#DejaVuSans-3d\" x=\"2484.226562\"/>\n     <use xlink:href=\"#DejaVuSans-20\" x=\"2568.015625\"/>\n     <use xlink:href=\"#DejaVuSans-6d\" x=\"2599.802734\"/>\n     <use xlink:href=\"#DejaVuSans-79\" x=\"2697.214844\"/>\n     <use xlink:href=\"#DejaVuSans-73\" x=\"2756.394531\"/>\n     <use xlink:href=\"#DejaVuSans-74\" x=\"2808.494141\"/>\n     <use xlink:href=\"#DejaVuSans-65\" x=\"2847.703125\"/>\n     <use xlink:href=\"#DejaVuSans-72\" x=\"2909.226562\"/>\n     <use xlink:href=\"#DejaVuSans-79\" x=\"2950.339844\"/>\n    </g>\n   </g>\n  </g>\n  <g id=\"axes_2\">\n   <g id=\"patch_22\">\n    <path d=\"M 43.78125 437.096875 \nL 1056.39625 437.096875 \nL 1056.39625 259.198125 \nL 43.78125 259.198125 \nz\n\" style=\"fill: #ffffff\"/>\n   </g>\n   <g id=\"patch_23\">\n    <path d=\"M 50.532017 437.096875 \nL 104.53815 437.096875 \nL 104.53815 437.096875 \nL 50.532017 437.096875 \nz\n\" clip-path=\"url(#pefa5b48c3c)\" style=\"fill: #ea96a3\"/>\n   </g>\n   <g id=\"patch_24\">\n    <path d=\"M 118.039683 437.096875 \nL 172.045817 437.096875 \nL 172.045817 267.669494 \nL 118.039683 267.669494 \nz\n\" clip-path=\"url(#pefa5b48c3c)\" style=\"fill: #e59471\"/>\n   </g>\n   <g id=\"patch_25\">\n    <path d=\"M 185.54735 437.096875 \nL 239.553483 437.096875 \nL 239.553483 437.096875 \nL 185.54735 437.096875 \nz\n\" clip-path=\"url(#pefa5b48c3c)\" style=\"fill: #c6994b\"/>\n   </g>\n   <g id=\"patch_26\">\n    <path d=\"M 253.055017 437.096875 \nL 307.06115 437.096875 \nL 307.06115 437.096875 \nL 253.055017 437.096875 \nz\n\" clip-path=\"url(#pefa5b48c3c)\" style=\"fill: #ab9e47\"/>\n   </g>\n   <g id=\"patch_27\">\n    <path d=\"M 320.562683 437.096875 \nL 374.568817 437.096875 \nL 374.568817 437.096875 \nL 320.562683 437.096875 \nz\n\" clip-path=\"url(#pefa5b48c3c)\" style=\"fill: #91a446\"/>\n   </g>\n   <g id=\"patch_28\">\n    <path d=\"M 388.07035 437.096875 \nL 442.076483 437.096875 \nL 442.076483 437.096875 \nL 388.07035 437.096875 \nz\n\" clip-path=\"url(#pefa5b48c3c)\" style=\"fill: #60ae47\"/>\n   </g>\n   <g id=\"patch_29\">\n    <path d=\"M 455.578017 437.096875 \nL 509.58415 437.096875 \nL 509.58415 437.096875 \nL 455.578017 437.096875 \nz\n\" clip-path=\"url(#pefa5b48c3c)\" style=\"fill: #49ae83\"/>\n   </g>\n   <g id=\"patch_30\">\n    <path d=\"M 523.085683 437.096875 \nL 577.091817 437.096875 \nL 577.091817 437.096875 \nL 523.085683 437.096875 \nz\n\" clip-path=\"url(#pefa5b48c3c)\" style=\"fill: #4aac9b\"/>\n   </g>\n   <g id=\"patch_31\">\n    <path d=\"M 590.59335 437.096875 \nL 644.599483 437.096875 \nL 644.599483 437.096853 \nL 590.59335 437.096853 \nz\n\" clip-path=\"url(#pefa5b48c3c)\" style=\"fill: #4cabad\"/>\n   </g>\n   <g id=\"patch_32\">\n    <path d=\"M 658.101017 437.096875 \nL 712.10715 437.096875 \nL 712.10715 437.096875 \nL 658.101017 437.096875 \nz\n\" clip-path=\"url(#pefa5b48c3c)\" style=\"fill: #50acc3\"/>\n   </g>\n   <g id=\"patch_33\">\n    <path d=\"M 725.608683 437.096875 \nL 779.614817 437.096875 \nL 779.614817 437.096875 \nL 725.608683 437.096875 \nz\n\" clip-path=\"url(#pefa5b48c3c)\" style=\"fill: #6daee2\"/>\n   </g>\n   <g id=\"patch_34\">\n    <path d=\"M 793.11635 437.096875 \nL 847.122483 437.096875 \nL 847.122483 437.096875 \nL 793.11635 437.096875 \nz\n\" clip-path=\"url(#pefa5b48c3c)\" style=\"fill: #adabeb\"/>\n   </g>\n   <g id=\"patch_35\">\n    <path d=\"M 860.624017 437.096875 \nL 914.63015 437.096875 \nL 914.63015 437.096875 \nL 860.624017 437.096875 \nz\n\" clip-path=\"url(#pefa5b48c3c)\" style=\"fill: #ce9be9\"/>\n   </g>\n   <g id=\"patch_36\">\n    <path d=\"M 928.131683 437.096875 \nL 982.137817 437.096875 \nL 982.137817 437.096875 \nL 928.131683 437.096875 \nz\n\" clip-path=\"url(#pefa5b48c3c)\" style=\"fill: #e78bdb\"/>\n   </g>\n   <g id=\"patch_37\">\n    <path d=\"M 995.63935 437.096875 \nL 1049.645483 437.096875 \nL 1049.645483 437.096875 \nL 995.63935 437.096875 \nz\n\" clip-path=\"url(#pefa5b48c3c)\" style=\"fill: #e891bf\"/>\n   </g>\n   <g id=\"matplotlib.axis_3\">\n    <g id=\"xtick_16\">\n     <g id=\"line2d_37\">\n      <g>\n       <use xlink:href=\"#m5b17d57451\" x=\"77.535083\" y=\"437.096875\" style=\"stroke: #000000; stroke-width: 0.8\"/>\n      </g>\n     </g>\n     <g id=\"text_25\">\n      <!-- adventure -->\n      <g transform=\"translate(51.943677 451.695312) scale(0.1 -0.1)\">\n       <use xlink:href=\"#DejaVuSans-61\"/>\n       <use xlink:href=\"#DejaVuSans-64\" x=\"61.279297\"/>\n       <use xlink:href=\"#DejaVuSans-76\" x=\"124.755859\"/>\n       <use xlink:href=\"#DejaVuSans-65\" x=\"183.935547\"/>\n       <use xlink:href=\"#DejaVuSans-6e\" x=\"245.458984\"/>\n       <use xlink:href=\"#DejaVuSans-74\" x=\"308.837891\"/>\n       <use xlink:href=\"#DejaVuSans-75\" x=\"348.046875\"/>\n       <use xlink:href=\"#DejaVuSans-72\" x=\"411.425781\"/>\n       <use xlink:href=\"#DejaVuSans-65\" x=\"450.289062\"/>\n      </g>\n     </g>\n    </g>\n    <g id=\"xtick_17\">\n     <g id=\"line2d_38\">\n      <g>\n       <use xlink:href=\"#m5b17d57451\" x=\"145.04275\" y=\"437.096875\" style=\"stroke: #000000; stroke-width: 0.8\"/>\n      </g>\n     </g>\n     <g id=\"text_26\">\n      <!-- belles_lettres -->\n      <g transform=\"translate(111.822438 451.695312) scale(0.1 -0.1)\">\n       <use xlink:href=\"#DejaVuSans-62\"/>\n       <use xlink:href=\"#DejaVuSans-65\" x=\"63.476562\"/>\n       <use xlink:href=\"#DejaVuSans-6c\" x=\"125\"/>\n       <use xlink:href=\"#DejaVuSans-6c\" x=\"152.783203\"/>\n       <use xlink:href=\"#DejaVuSans-65\" x=\"180.566406\"/>\n       <use xlink:href=\"#DejaVuSans-73\" x=\"242.089844\"/>\n       <use xlink:href=\"#DejaVuSans-5f\" x=\"294.189453\"/>\n       <use xlink:href=\"#DejaVuSans-6c\" x=\"344.189453\"/>\n       <use xlink:href=\"#DejaVuSans-65\" x=\"371.972656\"/>\n       <use xlink:href=\"#DejaVuSans-74\" x=\"433.496094\"/>\n       <use xlink:href=\"#DejaVuSans-74\" x=\"472.705078\"/>\n       <use xlink:href=\"#DejaVuSans-72\" x=\"511.914062\"/>\n       <use xlink:href=\"#DejaVuSans-65\" x=\"550.777344\"/>\n       <use xlink:href=\"#DejaVuSans-73\" x=\"612.300781\"/>\n      </g>\n     </g>\n    </g>\n    <g id=\"xtick_18\">\n     <g id=\"line2d_39\">\n      <g>\n       <use xlink:href=\"#m5b17d57451\" x=\"212.550417\" y=\"437.096875\" style=\"stroke: #000000; stroke-width: 0.8\"/>\n      </g>\n     </g>\n     <g id=\"text_27\">\n      <!-- editorial -->\n      <g transform=\"translate(191.993385 451.695312) scale(0.1 -0.1)\">\n       <use xlink:href=\"#DejaVuSans-65\"/>\n       <use xlink:href=\"#DejaVuSans-64\" x=\"61.523438\"/>\n       <use xlink:href=\"#DejaVuSans-69\" x=\"125\"/>\n       <use xlink:href=\"#DejaVuSans-74\" x=\"152.783203\"/>\n       <use xlink:href=\"#DejaVuSans-6f\" x=\"191.992188\"/>\n       <use xlink:href=\"#DejaVuSans-72\" x=\"253.173828\"/>\n       <use xlink:href=\"#DejaVuSans-69\" x=\"294.287109\"/>\n       <use xlink:href=\"#DejaVuSans-61\" x=\"322.070312\"/>\n       <use xlink:href=\"#DejaVuSans-6c\" x=\"383.349609\"/>\n      </g>\n     </g>\n    </g>\n    <g id=\"xtick_19\">\n     <g id=\"line2d_40\">\n      <g>\n       <use xlink:href=\"#m5b17d57451\" x=\"280.058083\" y=\"437.096875\" style=\"stroke: #000000; stroke-width: 0.8\"/>\n      </g>\n     </g>\n     <g id=\"text_28\">\n      <!-- fiction -->\n      <g transform=\"translate(264.582302 451.695312) scale(0.1 -0.1)\">\n       <use xlink:href=\"#DejaVuSans-66\"/>\n       <use xlink:href=\"#DejaVuSans-69\" x=\"35.205078\"/>\n       <use xlink:href=\"#DejaVuSans-63\" x=\"62.988281\"/>\n       <use xlink:href=\"#DejaVuSans-74\" x=\"117.96875\"/>\n       <use xlink:href=\"#DejaVuSans-69\" x=\"157.177734\"/>\n       <use xlink:href=\"#DejaVuSans-6f\" x=\"184.960938\"/>\n       <use xlink:href=\"#DejaVuSans-6e\" x=\"246.142578\"/>\n      </g>\n     </g>\n    </g>\n    <g id=\"xtick_20\">\n     <g id=\"line2d_41\">\n      <g>\n       <use xlink:href=\"#m5b17d57451\" x=\"347.56575\" y=\"437.096875\" style=\"stroke: #000000; stroke-width: 0.8\"/>\n      </g>\n     </g>\n     <g id=\"text_29\">\n      <!-- government -->\n      <g transform=\"translate(317.083719 451.695312) scale(0.1 -0.1)\">\n       <use xlink:href=\"#DejaVuSans-67\"/>\n       <use xlink:href=\"#DejaVuSans-6f\" x=\"63.476562\"/>\n       <use xlink:href=\"#DejaVuSans-76\" x=\"124.658203\"/>\n       <use xlink:href=\"#DejaVuSans-65\" x=\"183.837891\"/>\n       <use xlink:href=\"#DejaVuSans-72\" x=\"245.361328\"/>\n       <use xlink:href=\"#DejaVuSans-6e\" x=\"284.724609\"/>\n       <use xlink:href=\"#DejaVuSans-6d\" x=\"348.103516\"/>\n       <use xlink:href=\"#DejaVuSans-65\" x=\"445.515625\"/>\n       <use xlink:href=\"#DejaVuSans-6e\" x=\"507.039062\"/>\n       <use xlink:href=\"#DejaVuSans-74\" x=\"570.417969\"/>\n      </g>\n     </g>\n    </g>\n    <g id=\"xtick_21\">\n     <g id=\"line2d_42\">\n      <g>\n       <use xlink:href=\"#m5b17d57451\" x=\"415.073417\" y=\"437.096875\" style=\"stroke: #000000; stroke-width: 0.8\"/>\n      </g>\n     </g>\n     <g id=\"text_30\">\n      <!-- hobbies -->\n      <g transform=\"translate(395.426542 451.695312) scale(0.1 -0.1)\">\n       <use xlink:href=\"#DejaVuSans-68\"/>\n       <use xlink:href=\"#DejaVuSans-6f\" x=\"63.378906\"/>\n       <use xlink:href=\"#DejaVuSans-62\" x=\"124.560547\"/>\n       <use xlink:href=\"#DejaVuSans-62\" x=\"188.037109\"/>\n       <use xlink:href=\"#DejaVuSans-69\" x=\"251.513672\"/>\n       <use xlink:href=\"#DejaVuSans-65\" x=\"279.296875\"/>\n       <use xlink:href=\"#DejaVuSans-73\" x=\"340.820312\"/>\n      </g>\n     </g>\n    </g>\n    <g id=\"xtick_22\">\n     <g id=\"line2d_43\">\n      <g>\n       <use xlink:href=\"#m5b17d57451\" x=\"482.581083\" y=\"437.096875\" style=\"stroke: #000000; stroke-width: 0.8\"/>\n      </g>\n     </g>\n     <g id=\"text_31\">\n      <!-- humor -->\n      <g transform=\"translate(466.258427 451.695312) scale(0.1 -0.1)\">\n       <use xlink:href=\"#DejaVuSans-68\"/>\n       <use xlink:href=\"#DejaVuSans-75\" x=\"63.378906\"/>\n       <use xlink:href=\"#DejaVuSans-6d\" x=\"126.757812\"/>\n       <use xlink:href=\"#DejaVuSans-6f\" x=\"224.169922\"/>\n       <use xlink:href=\"#DejaVuSans-72\" x=\"285.351562\"/>\n      </g>\n     </g>\n    </g>\n    <g id=\"xtick_23\">\n     <g id=\"line2d_44\">\n      <g>\n       <use xlink:href=\"#m5b17d57451\" x=\"550.08875\" y=\"437.096875\" style=\"stroke: #000000; stroke-width: 0.8\"/>\n      </g>\n     </g>\n     <g id=\"text_32\">\n      <!-- learned -->\n      <g transform=\"translate(531.171563 451.695312) scale(0.1 -0.1)\">\n       <use xlink:href=\"#DejaVuSans-6c\"/>\n       <use xlink:href=\"#DejaVuSans-65\" x=\"27.783203\"/>\n       <use xlink:href=\"#DejaVuSans-61\" x=\"89.306641\"/>\n       <use xlink:href=\"#DejaVuSans-72\" x=\"150.585938\"/>\n       <use xlink:href=\"#DejaVuSans-6e\" x=\"189.949219\"/>\n       <use xlink:href=\"#DejaVuSans-65\" x=\"253.328125\"/>\n       <use xlink:href=\"#DejaVuSans-64\" x=\"314.851562\"/>\n      </g>\n     </g>\n    </g>\n    <g id=\"xtick_24\">\n     <g id=\"line2d_45\">\n      <g>\n       <use xlink:href=\"#m5b17d57451\" x=\"617.596417\" y=\"437.096875\" style=\"stroke: #000000; stroke-width: 0.8\"/>\n      </g>\n     </g>\n     <g id=\"text_33\">\n      <!-- lore -->\n      <g transform=\"translate(608.128448 451.695312) scale(0.1 -0.1)\">\n       <use xlink:href=\"#DejaVuSans-6c\"/>\n       <use xlink:href=\"#DejaVuSans-6f\" x=\"27.783203\"/>\n       <use xlink:href=\"#DejaVuSans-72\" x=\"88.964844\"/>\n       <use xlink:href=\"#DejaVuSans-65\" x=\"127.828125\"/>\n      </g>\n     </g>\n    </g>\n    <g id=\"xtick_25\">\n     <g id=\"line2d_46\">\n      <g>\n       <use xlink:href=\"#m5b17d57451\" x=\"685.104083\" y=\"437.096875\" style=\"stroke: #000000; stroke-width: 0.8\"/>\n      </g>\n     </g>\n     <g id=\"text_34\">\n      <!-- mystery -->\n      <g transform=\"translate(664.618146 451.695312) scale(0.1 -0.1)\">\n       <use xlink:href=\"#DejaVuSans-6d\"/>\n       <use xlink:href=\"#DejaVuSans-79\" x=\"97.412109\"/>\n       <use xlink:href=\"#DejaVuSans-73\" x=\"156.591797\"/>\n       <use xlink:href=\"#DejaVuSans-74\" x=\"208.691406\"/>\n       <use xlink:href=\"#DejaVuSans-65\" x=\"247.900391\"/>\n       <use xlink:href=\"#DejaVuSans-72\" x=\"309.423828\"/>\n       <use xlink:href=\"#DejaVuSans-79\" x=\"350.537109\"/>\n      </g>\n     </g>\n    </g>\n    <g id=\"xtick_26\">\n     <g id=\"line2d_47\">\n      <g>\n       <use xlink:href=\"#m5b17d57451\" x=\"752.61175\" y=\"437.096875\" style=\"stroke: #000000; stroke-width: 0.8\"/>\n      </g>\n     </g>\n     <g id=\"text_35\">\n      <!-- news -->\n      <g transform=\"translate(739.672687 451.695312) scale(0.1 -0.1)\">\n       <use xlink:href=\"#DejaVuSans-6e\"/>\n       <use xlink:href=\"#DejaVuSans-65\" x=\"63.378906\"/>\n       <use xlink:href=\"#DejaVuSans-77\" x=\"124.902344\"/>\n       <use xlink:href=\"#DejaVuSans-73\" x=\"206.689453\"/>\n      </g>\n     </g>\n    </g>\n    <g id=\"xtick_27\">\n     <g id=\"line2d_48\">\n      <g>\n       <use xlink:href=\"#m5b17d57451\" x=\"820.119417\" y=\"437.096875\" style=\"stroke: #000000; stroke-width: 0.8\"/>\n      </g>\n     </g>\n     <g id=\"text_36\">\n      <!-- religion -->\n      <g transform=\"translate(801.530354 451.695312) scale(0.1 -0.1)\">\n       <use xlink:href=\"#DejaVuSans-72\"/>\n       <use xlink:href=\"#DejaVuSans-65\" x=\"38.863281\"/>\n       <use xlink:href=\"#DejaVuSans-6c\" x=\"100.386719\"/>\n       <use xlink:href=\"#DejaVuSans-69\" x=\"128.169922\"/>\n       <use xlink:href=\"#DejaVuSans-67\" x=\"155.953125\"/>\n       <use xlink:href=\"#DejaVuSans-69\" x=\"219.429688\"/>\n       <use xlink:href=\"#DejaVuSans-6f\" x=\"247.212891\"/>\n       <use xlink:href=\"#DejaVuSans-6e\" x=\"308.394531\"/>\n      </g>\n     </g>\n    </g>\n    <g id=\"xtick_28\">\n     <g id=\"line2d_49\">\n      <g>\n       <use xlink:href=\"#m5b17d57451\" x=\"887.627083\" y=\"437.096875\" style=\"stroke: #000000; stroke-width: 0.8\"/>\n      </g>\n     </g>\n     <g id=\"text_37\">\n      <!-- reviews -->\n      <g transform=\"translate(868.488802 451.695312) scale(0.1 -0.1)\">\n       <use xlink:href=\"#DejaVuSans-72\"/>\n       <use xlink:href=\"#DejaVuSans-65\" x=\"38.863281\"/>\n       <use xlink:href=\"#DejaVuSans-76\" x=\"100.386719\"/>\n       <use xlink:href=\"#DejaVuSans-69\" x=\"159.566406\"/>\n       <use xlink:href=\"#DejaVuSans-65\" x=\"187.349609\"/>\n       <use xlink:href=\"#DejaVuSans-77\" x=\"248.873047\"/>\n       <use xlink:href=\"#DejaVuSans-73\" x=\"330.660156\"/>\n      </g>\n     </g>\n    </g>\n    <g id=\"xtick_29\">\n     <g id=\"line2d_50\">\n      <g>\n       <use xlink:href=\"#m5b17d57451\" x=\"955.13475\" y=\"437.096875\" style=\"stroke: #000000; stroke-width: 0.8\"/>\n      </g>\n     </g>\n     <g id=\"text_38\">\n      <!-- romance -->\n      <g transform=\"translate(933.2035 451.695312) scale(0.1 -0.1)\">\n       <use xlink:href=\"#DejaVuSans-72\"/>\n       <use xlink:href=\"#DejaVuSans-6f\" x=\"38.863281\"/>\n       <use xlink:href=\"#DejaVuSans-6d\" x=\"100.044922\"/>\n       <use xlink:href=\"#DejaVuSans-61\" x=\"197.457031\"/>\n       <use xlink:href=\"#DejaVuSans-6e\" x=\"258.736328\"/>\n       <use xlink:href=\"#DejaVuSans-63\" x=\"322.115234\"/>\n       <use xlink:href=\"#DejaVuSans-65\" x=\"377.095703\"/>\n      </g>\n     </g>\n    </g>\n    <g id=\"xtick_30\">\n     <g id=\"line2d_51\">\n      <g>\n       <use xlink:href=\"#m5b17d57451\" x=\"1022.642417\" y=\"437.096875\" style=\"stroke: #000000; stroke-width: 0.8\"/>\n      </g>\n     </g>\n     <g id=\"text_39\">\n      <!-- science_fiction -->\n      <g transform=\"translate(985.852573 451.695312) scale(0.1 -0.1)\">\n       <use xlink:href=\"#DejaVuSans-73\"/>\n       <use xlink:href=\"#DejaVuSans-63\" x=\"52.099609\"/>\n       <use xlink:href=\"#DejaVuSans-69\" x=\"107.080078\"/>\n       <use xlink:href=\"#DejaVuSans-65\" x=\"134.863281\"/>\n       <use xlink:href=\"#DejaVuSans-6e\" x=\"196.386719\"/>\n       <use xlink:href=\"#DejaVuSans-63\" x=\"259.765625\"/>\n       <use xlink:href=\"#DejaVuSans-65\" x=\"314.746094\"/>\n       <use xlink:href=\"#DejaVuSans-5f\" x=\"376.269531\"/>\n       <use xlink:href=\"#DejaVuSans-66\" x=\"426.269531\"/>\n       <use xlink:href=\"#DejaVuSans-69\" x=\"461.474609\"/>\n       <use xlink:href=\"#DejaVuSans-63\" x=\"489.257812\"/>\n       <use xlink:href=\"#DejaVuSans-74\" x=\"544.238281\"/>\n       <use xlink:href=\"#DejaVuSans-69\" x=\"583.447266\"/>\n       <use xlink:href=\"#DejaVuSans-6f\" x=\"611.230469\"/>\n       <use xlink:href=\"#DejaVuSans-6e\" x=\"672.412109\"/>\n      </g>\n     </g>\n    </g>\n    <g id=\"text_40\">\n     <!-- category -->\n     <g transform=\"translate(527.990312 465.651563) scale(0.1 -0.1)\">\n      <use xlink:href=\"#DejaVuSans-63\"/>\n      <use xlink:href=\"#DejaVuSans-61\" x=\"54.980469\"/>\n      <use xlink:href=\"#DejaVuSans-74\" x=\"116.259766\"/>\n      <use xlink:href=\"#DejaVuSans-65\" x=\"155.46875\"/>\n      <use xlink:href=\"#DejaVuSans-67\" x=\"216.992188\"/>\n      <use xlink:href=\"#DejaVuSans-6f\" x=\"280.46875\"/>\n      <use xlink:href=\"#DejaVuSans-72\" x=\"341.650391\"/>\n      <use xlink:href=\"#DejaVuSans-79\" x=\"382.763672\"/>\n     </g>\n    </g>\n   </g>\n   <g id=\"matplotlib.axis_4\">\n    <g id=\"ytick_7\">\n     <g id=\"line2d_52\">\n      <g>\n       <use xlink:href=\"#m51b4070612\" x=\"43.78125\" y=\"437.096875\" style=\"stroke: #000000; stroke-width: 0.8\"/>\n      </g>\n     </g>\n     <g id=\"text_41\">\n      <!-- 0.0 -->\n      <g transform=\"translate(20.878125 440.896094) scale(0.1 -0.1)\">\n       <use xlink:href=\"#DejaVuSans-30\"/>\n       <use xlink:href=\"#DejaVuSans-2e\" x=\"63.623047\"/>\n       <use xlink:href=\"#DejaVuSans-30\" x=\"95.410156\"/>\n      </g>\n     </g>\n    </g>\n    <g id=\"ytick_8\">\n     <g id=\"line2d_53\">\n      <g>\n       <use xlink:href=\"#m51b4070612\" x=\"43.78125\" y=\"403.211395\" style=\"stroke: #000000; stroke-width: 0.8\"/>\n      </g>\n     </g>\n     <g id=\"text_42\">\n      <!-- 0.2 -->\n      <g transform=\"translate(20.878125 407.010614) scale(0.1 -0.1)\">\n       <use xlink:href=\"#DejaVuSans-30\"/>\n       <use xlink:href=\"#DejaVuSans-2e\" x=\"63.623047\"/>\n       <use xlink:href=\"#DejaVuSans-32\" x=\"95.410156\"/>\n      </g>\n     </g>\n    </g>\n    <g id=\"ytick_9\">\n     <g id=\"line2d_54\">\n      <g>\n       <use xlink:href=\"#m51b4070612\" x=\"43.78125\" y=\"369.325915\" style=\"stroke: #000000; stroke-width: 0.8\"/>\n      </g>\n     </g>\n     <g id=\"text_43\">\n      <!-- 0.4 -->\n      <g transform=\"translate(20.878125 373.125133) scale(0.1 -0.1)\">\n       <use xlink:href=\"#DejaVuSans-30\"/>\n       <use xlink:href=\"#DejaVuSans-2e\" x=\"63.623047\"/>\n       <use xlink:href=\"#DejaVuSans-34\" x=\"95.410156\"/>\n      </g>\n     </g>\n    </g>\n    <g id=\"ytick_10\">\n     <g id=\"line2d_55\">\n      <g>\n       <use xlink:href=\"#m51b4070612\" x=\"43.78125\" y=\"335.440434\" style=\"stroke: #000000; stroke-width: 0.8\"/>\n      </g>\n     </g>\n     <g id=\"text_44\">\n      <!-- 0.6 -->\n      <g transform=\"translate(20.878125 339.239653) scale(0.1 -0.1)\">\n       <use xlink:href=\"#DejaVuSans-30\"/>\n       <use xlink:href=\"#DejaVuSans-2e\" x=\"63.623047\"/>\n       <use xlink:href=\"#DejaVuSans-36\" x=\"95.410156\"/>\n      </g>\n     </g>\n    </g>\n    <g id=\"ytick_11\">\n     <g id=\"line2d_56\">\n      <g>\n       <use xlink:href=\"#m51b4070612\" x=\"43.78125\" y=\"301.554954\" style=\"stroke: #000000; stroke-width: 0.8\"/>\n      </g>\n     </g>\n     <g id=\"text_45\">\n      <!-- 0.8 -->\n      <g transform=\"translate(20.878125 305.354173) scale(0.1 -0.1)\">\n       <use xlink:href=\"#DejaVuSans-30\"/>\n       <use xlink:href=\"#DejaVuSans-2e\" x=\"63.623047\"/>\n       <use xlink:href=\"#DejaVuSans-38\" x=\"95.410156\"/>\n      </g>\n     </g>\n    </g>\n    <g id=\"ytick_12\">\n     <g id=\"line2d_57\">\n      <g>\n       <use xlink:href=\"#m51b4070612\" x=\"43.78125\" y=\"267.669474\" style=\"stroke: #000000; stroke-width: 0.8\"/>\n      </g>\n     </g>\n     <g id=\"text_46\">\n      <!-- 1.0 -->\n      <g transform=\"translate(20.878125 271.468693) scale(0.1 -0.1)\">\n       <use xlink:href=\"#DejaVuSans-31\"/>\n       <use xlink:href=\"#DejaVuSans-2e\" x=\"63.623047\"/>\n       <use xlink:href=\"#DejaVuSans-30\" x=\"95.410156\"/>\n      </g>\n     </g>\n    </g>\n    <g id=\"text_47\">\n     <!-- prob -->\n     <g transform=\"translate(14.798438 359.498281) rotate(-90) scale(0.1 -0.1)\">\n      <use xlink:href=\"#DejaVuSans-70\"/>\n      <use xlink:href=\"#DejaVuSans-72\" x=\"63.476562\"/>\n      <use xlink:href=\"#DejaVuSans-6f\" x=\"102.339844\"/>\n      <use xlink:href=\"#DejaVuSans-62\" x=\"163.521484\"/>\n     </g>\n    </g>\n   </g>\n   <g id=\"line2d_58\">\n    <path clip-path=\"url(#pefa5b48c3c)\" style=\"fill: none; stroke: #424242; stroke-width: 3.6; stroke-linecap: square\"/>\n   </g>\n   <g id=\"line2d_59\">\n    <path clip-path=\"url(#pefa5b48c3c)\" style=\"fill: none; stroke: #424242; stroke-width: 3.6; stroke-linecap: square\"/>\n   </g>\n   <g id=\"line2d_60\">\n    <path clip-path=\"url(#pefa5b48c3c)\" style=\"fill: none; stroke: #424242; stroke-width: 3.6; stroke-linecap: square\"/>\n   </g>\n   <g id=\"line2d_61\">\n    <path clip-path=\"url(#pefa5b48c3c)\" style=\"fill: none; stroke: #424242; stroke-width: 3.6; stroke-linecap: square\"/>\n   </g>\n   <g id=\"line2d_62\">\n    <path clip-path=\"url(#pefa5b48c3c)\" style=\"fill: none; stroke: #424242; stroke-width: 3.6; stroke-linecap: square\"/>\n   </g>\n   <g id=\"line2d_63\">\n    <path clip-path=\"url(#pefa5b48c3c)\" style=\"fill: none; stroke: #424242; stroke-width: 3.6; stroke-linecap: square\"/>\n   </g>\n   <g id=\"line2d_64\">\n    <path clip-path=\"url(#pefa5b48c3c)\" style=\"fill: none; stroke: #424242; stroke-width: 3.6; stroke-linecap: square\"/>\n   </g>\n   <g id=\"line2d_65\">\n    <path clip-path=\"url(#pefa5b48c3c)\" style=\"fill: none; stroke: #424242; stroke-width: 3.6; stroke-linecap: square\"/>\n   </g>\n   <g id=\"line2d_66\">\n    <path clip-path=\"url(#pefa5b48c3c)\" style=\"fill: none; stroke: #424242; stroke-width: 3.6; stroke-linecap: square\"/>\n   </g>\n   <g id=\"line2d_67\">\n    <path clip-path=\"url(#pefa5b48c3c)\" style=\"fill: none; stroke: #424242; stroke-width: 3.6; stroke-linecap: square\"/>\n   </g>\n   <g id=\"line2d_68\">\n    <path clip-path=\"url(#pefa5b48c3c)\" style=\"fill: none; stroke: #424242; stroke-width: 3.6; stroke-linecap: square\"/>\n   </g>\n   <g id=\"line2d_69\">\n    <path clip-path=\"url(#pefa5b48c3c)\" style=\"fill: none; stroke: #424242; stroke-width: 3.6; stroke-linecap: square\"/>\n   </g>\n   <g id=\"line2d_70\">\n    <path clip-path=\"url(#pefa5b48c3c)\" style=\"fill: none; stroke: #424242; stroke-width: 3.6; stroke-linecap: square\"/>\n   </g>\n   <g id=\"line2d_71\">\n    <path clip-path=\"url(#pefa5b48c3c)\" style=\"fill: none; stroke: #424242; stroke-width: 3.6; stroke-linecap: square\"/>\n   </g>\n   <g id=\"line2d_72\">\n    <path clip-path=\"url(#pefa5b48c3c)\" style=\"fill: none; stroke: #424242; stroke-width: 3.6; stroke-linecap: square\"/>\n   </g>\n   <g id=\"patch_38\">\n    <path d=\"M 43.78125 437.096875 \nL 43.78125 259.198125 \n\" style=\"fill: none; stroke: #000000; stroke-width: 0.8; stroke-linejoin: miter; stroke-linecap: square\"/>\n   </g>\n   <g id=\"patch_39\">\n    <path d=\"M 1056.39625 437.096875 \nL 1056.39625 259.198125 \n\" style=\"fill: none; stroke: #000000; stroke-width: 0.8; stroke-linejoin: miter; stroke-linecap: square\"/>\n   </g>\n   <g id=\"patch_40\">\n    <path d=\"M 43.78125 437.096875 \nL 1056.39625 437.096875 \n\" style=\"fill: none; stroke: #000000; stroke-width: 0.8; stroke-linejoin: miter; stroke-linecap: square\"/>\n   </g>\n   <g id=\"patch_41\">\n    <path d=\"M 43.78125 259.198125 \nL 1056.39625 259.198125 \n\" style=\"fill: none; stroke: #000000; stroke-width: 0.8; stroke-linejoin: miter; stroke-linecap: square\"/>\n   </g>\n   <g id=\"text_48\">\n    <!-- `` The case was that Bang-Jensen came up to Shann claiming he had found further errors in the report . -EOS-, truth = belles_lettres -->\n    <g transform=\"translate(151.024063 253.198125) scale(0.12 -0.12)\">\n     <defs>\n      <path id=\"DejaVuSans-54\" d=\"M -19 4666 \nL 3928 4666 \nL 3928 4134 \nL 2272 4134 \nL 2272 0 \nL 1638 0 \nL 1638 4134 \nL -19 4134 \nL -19 4666 \nz\n\" transform=\"scale(0.015625)\"/>\n      <path id=\"DejaVuSans-42\" d=\"M 1259 2228 \nL 1259 519 \nL 2272 519 \nQ 2781 519 3026 730 \nQ 3272 941 3272 1375 \nQ 3272 1813 3026 2020 \nQ 2781 2228 2272 2228 \nL 1259 2228 \nz\nM 1259 4147 \nL 1259 2741 \nL 2194 2741 \nQ 2656 2741 2882 2914 \nQ 3109 3088 3109 3444 \nQ 3109 3797 2882 3972 \nQ 2656 4147 2194 4147 \nL 1259 4147 \nz\nM 628 4666 \nL 2241 4666 \nQ 2963 4666 3353 4366 \nQ 3744 4066 3744 3513 \nQ 3744 3084 3544 2831 \nQ 3344 2578 2956 2516 \nQ 3422 2416 3680 2098 \nQ 3938 1781 3938 1306 \nQ 3938 681 3513 340 \nQ 3088 0 2303 0 \nL 628 0 \nL 628 4666 \nz\n\" transform=\"scale(0.015625)\"/>\n      <path id=\"DejaVuSans-4a\" d=\"M 628 4666 \nL 1259 4666 \nL 1259 325 \nQ 1259 -519 939 -900 \nQ 619 -1281 -91 -1281 \nL -331 -1281 \nL -331 -750 \nL -134 -750 \nQ 284 -750 456 -515 \nQ 628 -281 628 325 \nL 628 4666 \nz\n\" transform=\"scale(0.015625)\"/>\n     </defs>\n     <use xlink:href=\"#DejaVuSans-60\"/>\n     <use xlink:href=\"#DejaVuSans-60\" x=\"50\"/>\n     <use xlink:href=\"#DejaVuSans-20\" x=\"100\"/>\n     <use xlink:href=\"#DejaVuSans-54\" x=\"131.787109\"/>\n     <use xlink:href=\"#DejaVuSans-68\" x=\"192.871094\"/>\n     <use xlink:href=\"#DejaVuSans-65\" x=\"256.25\"/>\n     <use xlink:href=\"#DejaVuSans-20\" x=\"317.773438\"/>\n     <use xlink:href=\"#DejaVuSans-63\" x=\"349.560547\"/>\n     <use xlink:href=\"#DejaVuSans-61\" x=\"404.541016\"/>\n     <use xlink:href=\"#DejaVuSans-73\" x=\"465.820312\"/>\n     <use xlink:href=\"#DejaVuSans-65\" x=\"517.919922\"/>\n     <use xlink:href=\"#DejaVuSans-20\" x=\"579.443359\"/>\n     <use xlink:href=\"#DejaVuSans-77\" x=\"611.230469\"/>\n     <use xlink:href=\"#DejaVuSans-61\" x=\"693.017578\"/>\n     <use xlink:href=\"#DejaVuSans-73\" x=\"754.296875\"/>\n     <use xlink:href=\"#DejaVuSans-20\" x=\"806.396484\"/>\n     <use xlink:href=\"#DejaVuSans-74\" x=\"838.183594\"/>\n     <use xlink:href=\"#DejaVuSans-68\" x=\"877.392578\"/>\n     <use xlink:href=\"#DejaVuSans-61\" x=\"940.771484\"/>\n     <use xlink:href=\"#DejaVuSans-74\" x=\"1002.050781\"/>\n     <use xlink:href=\"#DejaVuSans-20\" x=\"1041.259766\"/>\n     <use xlink:href=\"#DejaVuSans-42\" x=\"1073.046875\"/>\n     <use xlink:href=\"#DejaVuSans-61\" x=\"1141.650391\"/>\n     <use xlink:href=\"#DejaVuSans-6e\" x=\"1202.929688\"/>\n     <use xlink:href=\"#DejaVuSans-67\" x=\"1266.308594\"/>\n     <use xlink:href=\"#DejaVuSans-2d\" x=\"1329.785156\"/>\n     <use xlink:href=\"#DejaVuSans-4a\" x=\"1371.494141\"/>\n     <use xlink:href=\"#DejaVuSans-65\" x=\"1400.986328\"/>\n     <use xlink:href=\"#DejaVuSans-6e\" x=\"1462.509766\"/>\n     <use xlink:href=\"#DejaVuSans-73\" x=\"1525.888672\"/>\n     <use xlink:href=\"#DejaVuSans-65\" x=\"1577.988281\"/>\n     <use xlink:href=\"#DejaVuSans-6e\" x=\"1639.511719\"/>\n     <use xlink:href=\"#DejaVuSans-20\" x=\"1702.890625\"/>\n     <use xlink:href=\"#DejaVuSans-63\" x=\"1734.677734\"/>\n     <use xlink:href=\"#DejaVuSans-61\" x=\"1789.658203\"/>\n     <use xlink:href=\"#DejaVuSans-6d\" x=\"1850.9375\"/>\n     <use xlink:href=\"#DejaVuSans-65\" x=\"1948.349609\"/>\n     <use xlink:href=\"#DejaVuSans-20\" x=\"2009.873047\"/>\n     <use xlink:href=\"#DejaVuSans-75\" x=\"2041.660156\"/>\n     <use xlink:href=\"#DejaVuSans-70\" x=\"2105.039062\"/>\n     <use xlink:href=\"#DejaVuSans-20\" x=\"2168.515625\"/>\n     <use xlink:href=\"#DejaVuSans-74\" x=\"2200.302734\"/>\n     <use xlink:href=\"#DejaVuSans-6f\" x=\"2239.511719\"/>\n     <use xlink:href=\"#DejaVuSans-20\" x=\"2300.693359\"/>\n     <use xlink:href=\"#DejaVuSans-53\" x=\"2332.480469\"/>\n     <use xlink:href=\"#DejaVuSans-68\" x=\"2395.957031\"/>\n     <use xlink:href=\"#DejaVuSans-61\" x=\"2459.335938\"/>\n     <use xlink:href=\"#DejaVuSans-6e\" x=\"2520.615234\"/>\n     <use xlink:href=\"#DejaVuSans-6e\" x=\"2583.994141\"/>\n     <use xlink:href=\"#DejaVuSans-20\" x=\"2647.373047\"/>\n     <use xlink:href=\"#DejaVuSans-63\" x=\"2679.160156\"/>\n     <use xlink:href=\"#DejaVuSans-6c\" x=\"2734.140625\"/>\n     <use xlink:href=\"#DejaVuSans-61\" x=\"2761.923828\"/>\n     <use xlink:href=\"#DejaVuSans-69\" x=\"2823.203125\"/>\n     <use xlink:href=\"#DejaVuSans-6d\" x=\"2850.986328\"/>\n     <use xlink:href=\"#DejaVuSans-69\" x=\"2948.398438\"/>\n     <use xlink:href=\"#DejaVuSans-6e\" x=\"2976.181641\"/>\n     <use xlink:href=\"#DejaVuSans-67\" x=\"3039.560547\"/>\n     <use xlink:href=\"#DejaVuSans-20\" x=\"3103.037109\"/>\n     <use xlink:href=\"#DejaVuSans-68\" x=\"3134.824219\"/>\n     <use xlink:href=\"#DejaVuSans-65\" x=\"3198.203125\"/>\n     <use xlink:href=\"#DejaVuSans-20\" x=\"3259.726562\"/>\n     <use xlink:href=\"#DejaVuSans-68\" x=\"3291.513672\"/>\n     <use xlink:href=\"#DejaVuSans-61\" x=\"3354.892578\"/>\n     <use xlink:href=\"#DejaVuSans-64\" x=\"3416.171875\"/>\n     <use xlink:href=\"#DejaVuSans-20\" x=\"3479.648438\"/>\n     <use xlink:href=\"#DejaVuSans-66\" x=\"3511.435547\"/>\n     <use xlink:href=\"#DejaVuSans-6f\" x=\"3546.640625\"/>\n     <use xlink:href=\"#DejaVuSans-75\" x=\"3607.822266\"/>\n     <use xlink:href=\"#DejaVuSans-6e\" x=\"3671.201172\"/>\n     <use xlink:href=\"#DejaVuSans-64\" x=\"3734.580078\"/>\n     <use xlink:href=\"#DejaVuSans-20\" x=\"3798.056641\"/>\n     <use xlink:href=\"#DejaVuSans-66\" x=\"3829.84375\"/>\n     <use xlink:href=\"#DejaVuSans-75\" x=\"3865.048828\"/>\n     <use xlink:href=\"#DejaVuSans-72\" x=\"3928.427734\"/>\n     <use xlink:href=\"#DejaVuSans-74\" x=\"3969.541016\"/>\n     <use xlink:href=\"#DejaVuSans-68\" x=\"4008.75\"/>\n     <use xlink:href=\"#DejaVuSans-65\" x=\"4072.128906\"/>\n     <use xlink:href=\"#DejaVuSans-72\" x=\"4133.652344\"/>\n     <use xlink:href=\"#DejaVuSans-20\" x=\"4174.765625\"/>\n     <use xlink:href=\"#DejaVuSans-65\" x=\"4206.552734\"/>\n     <use xlink:href=\"#DejaVuSans-72\" x=\"4268.076172\"/>\n     <use xlink:href=\"#DejaVuSans-72\" x=\"4307.439453\"/>\n     <use xlink:href=\"#DejaVuSans-6f\" x=\"4346.302734\"/>\n     <use xlink:href=\"#DejaVuSans-72\" x=\"4407.484375\"/>\n     <use xlink:href=\"#DejaVuSans-73\" x=\"4448.597656\"/>\n     <use xlink:href=\"#DejaVuSans-20\" x=\"4500.697266\"/>\n     <use xlink:href=\"#DejaVuSans-69\" x=\"4532.484375\"/>\n     <use xlink:href=\"#DejaVuSans-6e\" x=\"4560.267578\"/>\n     <use xlink:href=\"#DejaVuSans-20\" x=\"4623.646484\"/>\n     <use xlink:href=\"#DejaVuSans-74\" x=\"4655.433594\"/>\n     <use xlink:href=\"#DejaVuSans-68\" x=\"4694.642578\"/>\n     <use xlink:href=\"#DejaVuSans-65\" x=\"4758.021484\"/>\n     <use xlink:href=\"#DejaVuSans-20\" x=\"4819.544922\"/>\n     <use xlink:href=\"#DejaVuSans-72\" x=\"4851.332031\"/>\n     <use xlink:href=\"#DejaVuSans-65\" x=\"4890.195312\"/>\n     <use xlink:href=\"#DejaVuSans-70\" x=\"4951.71875\"/>\n     <use xlink:href=\"#DejaVuSans-6f\" x=\"5015.195312\"/>\n     <use xlink:href=\"#DejaVuSans-72\" x=\"5076.376953\"/>\n     <use xlink:href=\"#DejaVuSans-74\" x=\"5117.490234\"/>\n     <use xlink:href=\"#DejaVuSans-20\" x=\"5156.699219\"/>\n     <use xlink:href=\"#DejaVuSans-2e\" x=\"5188.486328\"/>\n     <use xlink:href=\"#DejaVuSans-20\" x=\"5220.273438\"/>\n     <use xlink:href=\"#DejaVuSans-2d\" x=\"5252.060547\"/>\n     <use xlink:href=\"#DejaVuSans-45\" x=\"5288.144531\"/>\n     <use xlink:href=\"#DejaVuSans-4f\" x=\"5351.328125\"/>\n     <use xlink:href=\"#DejaVuSans-53\" x=\"5430.039062\"/>\n     <use xlink:href=\"#DejaVuSans-2d\" x=\"5493.515625\"/>\n     <use xlink:href=\"#DejaVuSans-2c\" x=\"5529.599609\"/>\n     <use xlink:href=\"#DejaVuSans-20\" x=\"5561.386719\"/>\n     <use xlink:href=\"#DejaVuSans-74\" x=\"5593.173828\"/>\n     <use xlink:href=\"#DejaVuSans-72\" x=\"5632.382812\"/>\n     <use xlink:href=\"#DejaVuSans-75\" x=\"5673.496094\"/>\n     <use xlink:href=\"#DejaVuSans-74\" x=\"5736.875\"/>\n     <use xlink:href=\"#DejaVuSans-68\" x=\"5776.083984\"/>\n     <use xlink:href=\"#DejaVuSans-20\" x=\"5839.462891\"/>\n     <use xlink:href=\"#DejaVuSans-3d\" x=\"5871.25\"/>\n     <use xlink:href=\"#DejaVuSans-20\" x=\"5955.039062\"/>\n     <use xlink:href=\"#DejaVuSans-62\" x=\"5986.826172\"/>\n     <use xlink:href=\"#DejaVuSans-65\" x=\"6050.302734\"/>\n     <use xlink:href=\"#DejaVuSans-6c\" x=\"6111.826172\"/>\n     <use xlink:href=\"#DejaVuSans-6c\" x=\"6139.609375\"/>\n     <use xlink:href=\"#DejaVuSans-65\" x=\"6167.392578\"/>\n     <use xlink:href=\"#DejaVuSans-73\" x=\"6228.916016\"/>\n     <use xlink:href=\"#DejaVuSans-5f\" x=\"6281.015625\"/>\n     <use xlink:href=\"#DejaVuSans-6c\" x=\"6331.015625\"/>\n     <use xlink:href=\"#DejaVuSans-65\" x=\"6358.798828\"/>\n     <use xlink:href=\"#DejaVuSans-74\" x=\"6420.322266\"/>\n     <use xlink:href=\"#DejaVuSans-74\" x=\"6459.53125\"/>\n     <use xlink:href=\"#DejaVuSans-72\" x=\"6498.740234\"/>\n     <use xlink:href=\"#DejaVuSans-65\" x=\"6537.603516\"/>\n     <use xlink:href=\"#DejaVuSans-73\" x=\"6599.126953\"/>\n    </g>\n   </g>\n  </g>\n  <g id=\"axes_3\">\n   <g id=\"patch_42\">\n    <path d=\"M 43.78125 673.496875 \nL 1056.39625 673.496875 \nL 1056.39625 495.598125 \nL 43.78125 495.598125 \nz\n\" style=\"fill: #ffffff\"/>\n   </g>\n   <g id=\"patch_43\">\n    <path d=\"M 50.532017 673.496875 \nL 104.53815 673.496875 \nL 104.53815 662.093924 \nL 50.532017 662.093924 \nz\n\" clip-path=\"url(#p5d97f2da44)\" style=\"fill: #ea96a3\"/>\n   </g>\n   <g id=\"patch_44\">\n    <path d=\"M 118.039683 673.496875 \nL 172.045817 673.496875 \nL 172.045817 673.483183 \nL 118.039683 673.483183 \nz\n\" clip-path=\"url(#p5d97f2da44)\" style=\"fill: #e59471\"/>\n   </g>\n   <g id=\"patch_45\">\n    <path d=\"M 185.54735 673.496875 \nL 239.553483 673.496875 \nL 239.553483 673.496874 \nL 185.54735 673.496874 \nz\n\" clip-path=\"url(#p5d97f2da44)\" style=\"fill: #c6994b\"/>\n   </g>\n   <g id=\"patch_46\">\n    <path d=\"M 253.055017 673.496875 \nL 307.06115 673.496875 \nL 307.06115 670.472154 \nL 253.055017 670.472154 \nz\n\" clip-path=\"url(#p5d97f2da44)\" style=\"fill: #ab9e47\"/>\n   </g>\n   <g id=\"patch_47\">\n    <path d=\"M 320.562683 673.496875 \nL 374.568817 673.496875 \nL 374.568817 673.496875 \nL 320.562683 673.496875 \nz\n\" clip-path=\"url(#p5d97f2da44)\" style=\"fill: #91a446\"/>\n   </g>\n   <g id=\"patch_48\">\n    <path d=\"M 388.07035 673.496875 \nL 442.076483 673.496875 \nL 442.076483 673.496875 \nL 388.07035 673.496875 \nz\n\" clip-path=\"url(#p5d97f2da44)\" style=\"fill: #60ae47\"/>\n   </g>\n   <g id=\"patch_49\">\n    <path d=\"M 455.578017 673.496875 \nL 509.58415 673.496875 \nL 509.58415 673.496061 \nL 455.578017 673.496061 \nz\n\" clip-path=\"url(#p5d97f2da44)\" style=\"fill: #49ae83\"/>\n   </g>\n   <g id=\"patch_50\">\n    <path d=\"M 523.085683 673.496875 \nL 577.091817 673.496875 \nL 577.091817 673.496871 \nL 523.085683 673.496871 \nz\n\" clip-path=\"url(#p5d97f2da44)\" style=\"fill: #4aac9b\"/>\n   </g>\n   <g id=\"patch_51\">\n    <path d=\"M 590.59335 673.496875 \nL 644.599483 673.496875 \nL 644.599483 673.496713 \nL 590.59335 673.496713 \nz\n\" clip-path=\"url(#p5d97f2da44)\" style=\"fill: #4cabad\"/>\n   </g>\n   <g id=\"patch_52\">\n    <path d=\"M 658.101017 673.496875 \nL 712.10715 673.496875 \nL 712.10715 672.688322 \nL 658.101017 672.688322 \nz\n\" clip-path=\"url(#p5d97f2da44)\" style=\"fill: #50acc3\"/>\n   </g>\n   <g id=\"patch_53\">\n    <path d=\"M 725.608683 673.496875 \nL 779.614817 673.496875 \nL 779.614817 673.496872 \nL 725.608683 673.496872 \nz\n\" clip-path=\"url(#p5d97f2da44)\" style=\"fill: #6daee2\"/>\n   </g>\n   <g id=\"patch_54\">\n    <path d=\"M 793.11635 673.496875 \nL 847.122483 673.496875 \nL 847.122483 673.496875 \nL 793.11635 673.496875 \nz\n\" clip-path=\"url(#p5d97f2da44)\" style=\"fill: #adabeb\"/>\n   </g>\n   <g id=\"patch_55\">\n    <path d=\"M 860.624017 673.496875 \nL 914.63015 673.496875 \nL 914.63015 673.496875 \nL 860.624017 673.496875 \nz\n\" clip-path=\"url(#p5d97f2da44)\" style=\"fill: #ce9be9\"/>\n   </g>\n   <g id=\"patch_56\">\n    <path d=\"M 928.131683 673.496875 \nL 982.137817 673.496875 \nL 982.137817 504.069494 \nL 928.131683 504.069494 \nz\n\" clip-path=\"url(#p5d97f2da44)\" style=\"fill: #e78bdb\"/>\n   </g>\n   <g id=\"patch_57\">\n    <path d=\"M 995.63935 673.496875 \nL 1049.645483 673.496875 \nL 1049.645483 673.496797 \nL 995.63935 673.496797 \nz\n\" clip-path=\"url(#p5d97f2da44)\" style=\"fill: #e891bf\"/>\n   </g>\n   <g id=\"matplotlib.axis_5\">\n    <g id=\"xtick_31\">\n     <g id=\"line2d_73\">\n      <g>\n       <use xlink:href=\"#m5b17d57451\" x=\"77.535083\" y=\"673.496875\" style=\"stroke: #000000; stroke-width: 0.8\"/>\n      </g>\n     </g>\n     <g id=\"text_49\">\n      <!-- adventure -->\n      <g transform=\"translate(51.943677 688.095312) scale(0.1 -0.1)\">\n       <use xlink:href=\"#DejaVuSans-61\"/>\n       <use xlink:href=\"#DejaVuSans-64\" x=\"61.279297\"/>\n       <use xlink:href=\"#DejaVuSans-76\" x=\"124.755859\"/>\n       <use xlink:href=\"#DejaVuSans-65\" x=\"183.935547\"/>\n       <use xlink:href=\"#DejaVuSans-6e\" x=\"245.458984\"/>\n       <use xlink:href=\"#DejaVuSans-74\" x=\"308.837891\"/>\n       <use xlink:href=\"#DejaVuSans-75\" x=\"348.046875\"/>\n       <use xlink:href=\"#DejaVuSans-72\" x=\"411.425781\"/>\n       <use xlink:href=\"#DejaVuSans-65\" x=\"450.289062\"/>\n      </g>\n     </g>\n    </g>\n    <g id=\"xtick_32\">\n     <g id=\"line2d_74\">\n      <g>\n       <use xlink:href=\"#m5b17d57451\" x=\"145.04275\" y=\"673.496875\" style=\"stroke: #000000; stroke-width: 0.8\"/>\n      </g>\n     </g>\n     <g id=\"text_50\">\n      <!-- belles_lettres -->\n      <g transform=\"translate(111.822438 688.095312) scale(0.1 -0.1)\">\n       <use xlink:href=\"#DejaVuSans-62\"/>\n       <use xlink:href=\"#DejaVuSans-65\" x=\"63.476562\"/>\n       <use xlink:href=\"#DejaVuSans-6c\" x=\"125\"/>\n       <use xlink:href=\"#DejaVuSans-6c\" x=\"152.783203\"/>\n       <use xlink:href=\"#DejaVuSans-65\" x=\"180.566406\"/>\n       <use xlink:href=\"#DejaVuSans-73\" x=\"242.089844\"/>\n       <use xlink:href=\"#DejaVuSans-5f\" x=\"294.189453\"/>\n       <use xlink:href=\"#DejaVuSans-6c\" x=\"344.189453\"/>\n       <use xlink:href=\"#DejaVuSans-65\" x=\"371.972656\"/>\n       <use xlink:href=\"#DejaVuSans-74\" x=\"433.496094\"/>\n       <use xlink:href=\"#DejaVuSans-74\" x=\"472.705078\"/>\n       <use xlink:href=\"#DejaVuSans-72\" x=\"511.914062\"/>\n       <use xlink:href=\"#DejaVuSans-65\" x=\"550.777344\"/>\n       <use xlink:href=\"#DejaVuSans-73\" x=\"612.300781\"/>\n      </g>\n     </g>\n    </g>\n    <g id=\"xtick_33\">\n     <g id=\"line2d_75\">\n      <g>\n       <use xlink:href=\"#m5b17d57451\" x=\"212.550417\" y=\"673.496875\" style=\"stroke: #000000; stroke-width: 0.8\"/>\n      </g>\n     </g>\n     <g id=\"text_51\">\n      <!-- editorial -->\n      <g transform=\"translate(191.993385 688.095312) scale(0.1 -0.1)\">\n       <use xlink:href=\"#DejaVuSans-65\"/>\n       <use xlink:href=\"#DejaVuSans-64\" x=\"61.523438\"/>\n       <use xlink:href=\"#DejaVuSans-69\" x=\"125\"/>\n       <use xlink:href=\"#DejaVuSans-74\" x=\"152.783203\"/>\n       <use xlink:href=\"#DejaVuSans-6f\" x=\"191.992188\"/>\n       <use xlink:href=\"#DejaVuSans-72\" x=\"253.173828\"/>\n       <use xlink:href=\"#DejaVuSans-69\" x=\"294.287109\"/>\n       <use xlink:href=\"#DejaVuSans-61\" x=\"322.070312\"/>\n       <use xlink:href=\"#DejaVuSans-6c\" x=\"383.349609\"/>\n      </g>\n     </g>\n    </g>\n    <g id=\"xtick_34\">\n     <g id=\"line2d_76\">\n      <g>\n       <use xlink:href=\"#m5b17d57451\" x=\"280.058083\" y=\"673.496875\" style=\"stroke: #000000; stroke-width: 0.8\"/>\n      </g>\n     </g>\n     <g id=\"text_52\">\n      <!-- fiction -->\n      <g transform=\"translate(264.582302 688.095312) scale(0.1 -0.1)\">\n       <use xlink:href=\"#DejaVuSans-66\"/>\n       <use xlink:href=\"#DejaVuSans-69\" x=\"35.205078\"/>\n       <use xlink:href=\"#DejaVuSans-63\" x=\"62.988281\"/>\n       <use xlink:href=\"#DejaVuSans-74\" x=\"117.96875\"/>\n       <use xlink:href=\"#DejaVuSans-69\" x=\"157.177734\"/>\n       <use xlink:href=\"#DejaVuSans-6f\" x=\"184.960938\"/>\n       <use xlink:href=\"#DejaVuSans-6e\" x=\"246.142578\"/>\n      </g>\n     </g>\n    </g>\n    <g id=\"xtick_35\">\n     <g id=\"line2d_77\">\n      <g>\n       <use xlink:href=\"#m5b17d57451\" x=\"347.56575\" y=\"673.496875\" style=\"stroke: #000000; stroke-width: 0.8\"/>\n      </g>\n     </g>\n     <g id=\"text_53\">\n      <!-- government -->\n      <g transform=\"translate(317.083719 688.095312) scale(0.1 -0.1)\">\n       <use xlink:href=\"#DejaVuSans-67\"/>\n       <use xlink:href=\"#DejaVuSans-6f\" x=\"63.476562\"/>\n       <use xlink:href=\"#DejaVuSans-76\" x=\"124.658203\"/>\n       <use xlink:href=\"#DejaVuSans-65\" x=\"183.837891\"/>\n       <use xlink:href=\"#DejaVuSans-72\" x=\"245.361328\"/>\n       <use xlink:href=\"#DejaVuSans-6e\" x=\"284.724609\"/>\n       <use xlink:href=\"#DejaVuSans-6d\" x=\"348.103516\"/>\n       <use xlink:href=\"#DejaVuSans-65\" x=\"445.515625\"/>\n       <use xlink:href=\"#DejaVuSans-6e\" x=\"507.039062\"/>\n       <use xlink:href=\"#DejaVuSans-74\" x=\"570.417969\"/>\n      </g>\n     </g>\n    </g>\n    <g id=\"xtick_36\">\n     <g id=\"line2d_78\">\n      <g>\n       <use xlink:href=\"#m5b17d57451\" x=\"415.073417\" y=\"673.496875\" style=\"stroke: #000000; stroke-width: 0.8\"/>\n      </g>\n     </g>\n     <g id=\"text_54\">\n      <!-- hobbies -->\n      <g transform=\"translate(395.426542 688.095312) scale(0.1 -0.1)\">\n       <use xlink:href=\"#DejaVuSans-68\"/>\n       <use xlink:href=\"#DejaVuSans-6f\" x=\"63.378906\"/>\n       <use xlink:href=\"#DejaVuSans-62\" x=\"124.560547\"/>\n       <use xlink:href=\"#DejaVuSans-62\" x=\"188.037109\"/>\n       <use xlink:href=\"#DejaVuSans-69\" x=\"251.513672\"/>\n       <use xlink:href=\"#DejaVuSans-65\" x=\"279.296875\"/>\n       <use xlink:href=\"#DejaVuSans-73\" x=\"340.820312\"/>\n      </g>\n     </g>\n    </g>\n    <g id=\"xtick_37\">\n     <g id=\"line2d_79\">\n      <g>\n       <use xlink:href=\"#m5b17d57451\" x=\"482.581083\" y=\"673.496875\" style=\"stroke: #000000; stroke-width: 0.8\"/>\n      </g>\n     </g>\n     <g id=\"text_55\">\n      <!-- humor -->\n      <g transform=\"translate(466.258427 688.095312) scale(0.1 -0.1)\">\n       <use xlink:href=\"#DejaVuSans-68\"/>\n       <use xlink:href=\"#DejaVuSans-75\" x=\"63.378906\"/>\n       <use xlink:href=\"#DejaVuSans-6d\" x=\"126.757812\"/>\n       <use xlink:href=\"#DejaVuSans-6f\" x=\"224.169922\"/>\n       <use xlink:href=\"#DejaVuSans-72\" x=\"285.351562\"/>\n      </g>\n     </g>\n    </g>\n    <g id=\"xtick_38\">\n     <g id=\"line2d_80\">\n      <g>\n       <use xlink:href=\"#m5b17d57451\" x=\"550.08875\" y=\"673.496875\" style=\"stroke: #000000; stroke-width: 0.8\"/>\n      </g>\n     </g>\n     <g id=\"text_56\">\n      <!-- learned -->\n      <g transform=\"translate(531.171563 688.095312) scale(0.1 -0.1)\">\n       <use xlink:href=\"#DejaVuSans-6c\"/>\n       <use xlink:href=\"#DejaVuSans-65\" x=\"27.783203\"/>\n       <use xlink:href=\"#DejaVuSans-61\" x=\"89.306641\"/>\n       <use xlink:href=\"#DejaVuSans-72\" x=\"150.585938\"/>\n       <use xlink:href=\"#DejaVuSans-6e\" x=\"189.949219\"/>\n       <use xlink:href=\"#DejaVuSans-65\" x=\"253.328125\"/>\n       <use xlink:href=\"#DejaVuSans-64\" x=\"314.851562\"/>\n      </g>\n     </g>\n    </g>\n    <g id=\"xtick_39\">\n     <g id=\"line2d_81\">\n      <g>\n       <use xlink:href=\"#m5b17d57451\" x=\"617.596417\" y=\"673.496875\" style=\"stroke: #000000; stroke-width: 0.8\"/>\n      </g>\n     </g>\n     <g id=\"text_57\">\n      <!-- lore -->\n      <g transform=\"translate(608.128448 688.095312) scale(0.1 -0.1)\">\n       <use xlink:href=\"#DejaVuSans-6c\"/>\n       <use xlink:href=\"#DejaVuSans-6f\" x=\"27.783203\"/>\n       <use xlink:href=\"#DejaVuSans-72\" x=\"88.964844\"/>\n       <use xlink:href=\"#DejaVuSans-65\" x=\"127.828125\"/>\n      </g>\n     </g>\n    </g>\n    <g id=\"xtick_40\">\n     <g id=\"line2d_82\">\n      <g>\n       <use xlink:href=\"#m5b17d57451\" x=\"685.104083\" y=\"673.496875\" style=\"stroke: #000000; stroke-width: 0.8\"/>\n      </g>\n     </g>\n     <g id=\"text_58\">\n      <!-- mystery -->\n      <g transform=\"translate(664.618146 688.095312) scale(0.1 -0.1)\">\n       <use xlink:href=\"#DejaVuSans-6d\"/>\n       <use xlink:href=\"#DejaVuSans-79\" x=\"97.412109\"/>\n       <use xlink:href=\"#DejaVuSans-73\" x=\"156.591797\"/>\n       <use xlink:href=\"#DejaVuSans-74\" x=\"208.691406\"/>\n       <use xlink:href=\"#DejaVuSans-65\" x=\"247.900391\"/>\n       <use xlink:href=\"#DejaVuSans-72\" x=\"309.423828\"/>\n       <use xlink:href=\"#DejaVuSans-79\" x=\"350.537109\"/>\n      </g>\n     </g>\n    </g>\n    <g id=\"xtick_41\">\n     <g id=\"line2d_83\">\n      <g>\n       <use xlink:href=\"#m5b17d57451\" x=\"752.61175\" y=\"673.496875\" style=\"stroke: #000000; stroke-width: 0.8\"/>\n      </g>\n     </g>\n     <g id=\"text_59\">\n      <!-- news -->\n      <g transform=\"translate(739.672687 688.095312) scale(0.1 -0.1)\">\n       <use xlink:href=\"#DejaVuSans-6e\"/>\n       <use xlink:href=\"#DejaVuSans-65\" x=\"63.378906\"/>\n       <use xlink:href=\"#DejaVuSans-77\" x=\"124.902344\"/>\n       <use xlink:href=\"#DejaVuSans-73\" x=\"206.689453\"/>\n      </g>\n     </g>\n    </g>\n    <g id=\"xtick_42\">\n     <g id=\"line2d_84\">\n      <g>\n       <use xlink:href=\"#m5b17d57451\" x=\"820.119417\" y=\"673.496875\" style=\"stroke: #000000; stroke-width: 0.8\"/>\n      </g>\n     </g>\n     <g id=\"text_60\">\n      <!-- religion -->\n      <g transform=\"translate(801.530354 688.095312) scale(0.1 -0.1)\">\n       <use xlink:href=\"#DejaVuSans-72\"/>\n       <use xlink:href=\"#DejaVuSans-65\" x=\"38.863281\"/>\n       <use xlink:href=\"#DejaVuSans-6c\" x=\"100.386719\"/>\n       <use xlink:href=\"#DejaVuSans-69\" x=\"128.169922\"/>\n       <use xlink:href=\"#DejaVuSans-67\" x=\"155.953125\"/>\n       <use xlink:href=\"#DejaVuSans-69\" x=\"219.429688\"/>\n       <use xlink:href=\"#DejaVuSans-6f\" x=\"247.212891\"/>\n       <use xlink:href=\"#DejaVuSans-6e\" x=\"308.394531\"/>\n      </g>\n     </g>\n    </g>\n    <g id=\"xtick_43\">\n     <g id=\"line2d_85\">\n      <g>\n       <use xlink:href=\"#m5b17d57451\" x=\"887.627083\" y=\"673.496875\" style=\"stroke: #000000; stroke-width: 0.8\"/>\n      </g>\n     </g>\n     <g id=\"text_61\">\n      <!-- reviews -->\n      <g transform=\"translate(868.488802 688.095312) scale(0.1 -0.1)\">\n       <use xlink:href=\"#DejaVuSans-72\"/>\n       <use xlink:href=\"#DejaVuSans-65\" x=\"38.863281\"/>\n       <use xlink:href=\"#DejaVuSans-76\" x=\"100.386719\"/>\n       <use xlink:href=\"#DejaVuSans-69\" x=\"159.566406\"/>\n       <use xlink:href=\"#DejaVuSans-65\" x=\"187.349609\"/>\n       <use xlink:href=\"#DejaVuSans-77\" x=\"248.873047\"/>\n       <use xlink:href=\"#DejaVuSans-73\" x=\"330.660156\"/>\n      </g>\n     </g>\n    </g>\n    <g id=\"xtick_44\">\n     <g id=\"line2d_86\">\n      <g>\n       <use xlink:href=\"#m5b17d57451\" x=\"955.13475\" y=\"673.496875\" style=\"stroke: #000000; stroke-width: 0.8\"/>\n      </g>\n     </g>\n     <g id=\"text_62\">\n      <!-- romance -->\n      <g transform=\"translate(933.2035 688.095312) scale(0.1 -0.1)\">\n       <use xlink:href=\"#DejaVuSans-72\"/>\n       <use xlink:href=\"#DejaVuSans-6f\" x=\"38.863281\"/>\n       <use xlink:href=\"#DejaVuSans-6d\" x=\"100.044922\"/>\n       <use xlink:href=\"#DejaVuSans-61\" x=\"197.457031\"/>\n       <use xlink:href=\"#DejaVuSans-6e\" x=\"258.736328\"/>\n       <use xlink:href=\"#DejaVuSans-63\" x=\"322.115234\"/>\n       <use xlink:href=\"#DejaVuSans-65\" x=\"377.095703\"/>\n      </g>\n     </g>\n    </g>\n    <g id=\"xtick_45\">\n     <g id=\"line2d_87\">\n      <g>\n       <use xlink:href=\"#m5b17d57451\" x=\"1022.642417\" y=\"673.496875\" style=\"stroke: #000000; stroke-width: 0.8\"/>\n      </g>\n     </g>\n     <g id=\"text_63\">\n      <!-- science_fiction -->\n      <g transform=\"translate(985.852573 688.095312) scale(0.1 -0.1)\">\n       <use xlink:href=\"#DejaVuSans-73\"/>\n       <use xlink:href=\"#DejaVuSans-63\" x=\"52.099609\"/>\n       <use xlink:href=\"#DejaVuSans-69\" x=\"107.080078\"/>\n       <use xlink:href=\"#DejaVuSans-65\" x=\"134.863281\"/>\n       <use xlink:href=\"#DejaVuSans-6e\" x=\"196.386719\"/>\n       <use xlink:href=\"#DejaVuSans-63\" x=\"259.765625\"/>\n       <use xlink:href=\"#DejaVuSans-65\" x=\"314.746094\"/>\n       <use xlink:href=\"#DejaVuSans-5f\" x=\"376.269531\"/>\n       <use xlink:href=\"#DejaVuSans-66\" x=\"426.269531\"/>\n       <use xlink:href=\"#DejaVuSans-69\" x=\"461.474609\"/>\n       <use xlink:href=\"#DejaVuSans-63\" x=\"489.257812\"/>\n       <use xlink:href=\"#DejaVuSans-74\" x=\"544.238281\"/>\n       <use xlink:href=\"#DejaVuSans-69\" x=\"583.447266\"/>\n       <use xlink:href=\"#DejaVuSans-6f\" x=\"611.230469\"/>\n       <use xlink:href=\"#DejaVuSans-6e\" x=\"672.412109\"/>\n      </g>\n     </g>\n    </g>\n    <g id=\"text_64\">\n     <!-- category -->\n     <g transform=\"translate(527.990312 702.051562) scale(0.1 -0.1)\">\n      <use xlink:href=\"#DejaVuSans-63\"/>\n      <use xlink:href=\"#DejaVuSans-61\" x=\"54.980469\"/>\n      <use xlink:href=\"#DejaVuSans-74\" x=\"116.259766\"/>\n      <use xlink:href=\"#DejaVuSans-65\" x=\"155.46875\"/>\n      <use xlink:href=\"#DejaVuSans-67\" x=\"216.992188\"/>\n      <use xlink:href=\"#DejaVuSans-6f\" x=\"280.46875\"/>\n      <use xlink:href=\"#DejaVuSans-72\" x=\"341.650391\"/>\n      <use xlink:href=\"#DejaVuSans-79\" x=\"382.763672\"/>\n     </g>\n    </g>\n   </g>\n   <g id=\"matplotlib.axis_6\">\n    <g id=\"ytick_13\">\n     <g id=\"line2d_88\">\n      <g>\n       <use xlink:href=\"#m51b4070612\" x=\"43.78125\" y=\"673.496875\" style=\"stroke: #000000; stroke-width: 0.8\"/>\n      </g>\n     </g>\n     <g id=\"text_65\">\n      <!-- 0.0 -->\n      <g transform=\"translate(20.878125 677.296094) scale(0.1 -0.1)\">\n       <use xlink:href=\"#DejaVuSans-30\"/>\n       <use xlink:href=\"#DejaVuSans-2e\" x=\"63.623047\"/>\n       <use xlink:href=\"#DejaVuSans-30\" x=\"95.410156\"/>\n      </g>\n     </g>\n    </g>\n    <g id=\"ytick_14\">\n     <g id=\"line2d_89\">\n      <g>\n       <use xlink:href=\"#m51b4070612\" x=\"43.78125\" y=\"636.561199\" style=\"stroke: #000000; stroke-width: 0.8\"/>\n      </g>\n     </g>\n     <g id=\"text_66\">\n      <!-- 0.2 -->\n      <g transform=\"translate(20.878125 640.360418) scale(0.1 -0.1)\">\n       <use xlink:href=\"#DejaVuSans-30\"/>\n       <use xlink:href=\"#DejaVuSans-2e\" x=\"63.623047\"/>\n       <use xlink:href=\"#DejaVuSans-32\" x=\"95.410156\"/>\n      </g>\n     </g>\n    </g>\n    <g id=\"ytick_15\">\n     <g id=\"line2d_90\">\n      <g>\n       <use xlink:href=\"#m51b4070612\" x=\"43.78125\" y=\"599.625523\" style=\"stroke: #000000; stroke-width: 0.8\"/>\n      </g>\n     </g>\n     <g id=\"text_67\">\n      <!-- 0.4 -->\n      <g transform=\"translate(20.878125 603.424742) scale(0.1 -0.1)\">\n       <use xlink:href=\"#DejaVuSans-30\"/>\n       <use xlink:href=\"#DejaVuSans-2e\" x=\"63.623047\"/>\n       <use xlink:href=\"#DejaVuSans-34\" x=\"95.410156\"/>\n      </g>\n     </g>\n    </g>\n    <g id=\"ytick_16\">\n     <g id=\"line2d_91\">\n      <g>\n       <use xlink:href=\"#m51b4070612\" x=\"43.78125\" y=\"562.689847\" style=\"stroke: #000000; stroke-width: 0.8\"/>\n      </g>\n     </g>\n     <g id=\"text_68\">\n      <!-- 0.6 -->\n      <g transform=\"translate(20.878125 566.489066) scale(0.1 -0.1)\">\n       <use xlink:href=\"#DejaVuSans-30\"/>\n       <use xlink:href=\"#DejaVuSans-2e\" x=\"63.623047\"/>\n       <use xlink:href=\"#DejaVuSans-36\" x=\"95.410156\"/>\n      </g>\n     </g>\n    </g>\n    <g id=\"ytick_17\">\n     <g id=\"line2d_92\">\n      <g>\n       <use xlink:href=\"#m51b4070612\" x=\"43.78125\" y=\"525.754171\" style=\"stroke: #000000; stroke-width: 0.8\"/>\n      </g>\n     </g>\n     <g id=\"text_69\">\n      <!-- 0.8 -->\n      <g transform=\"translate(20.878125 529.55339) scale(0.1 -0.1)\">\n       <use xlink:href=\"#DejaVuSans-30\"/>\n       <use xlink:href=\"#DejaVuSans-2e\" x=\"63.623047\"/>\n       <use xlink:href=\"#DejaVuSans-38\" x=\"95.410156\"/>\n      </g>\n     </g>\n    </g>\n    <g id=\"text_70\">\n     <!-- prob -->\n     <g transform=\"translate(14.798438 595.898281) rotate(-90) scale(0.1 -0.1)\">\n      <use xlink:href=\"#DejaVuSans-70\"/>\n      <use xlink:href=\"#DejaVuSans-72\" x=\"63.476562\"/>\n      <use xlink:href=\"#DejaVuSans-6f\" x=\"102.339844\"/>\n      <use xlink:href=\"#DejaVuSans-62\" x=\"163.521484\"/>\n     </g>\n    </g>\n   </g>\n   <g id=\"line2d_93\">\n    <path clip-path=\"url(#p5d97f2da44)\" style=\"fill: none; stroke: #424242; stroke-width: 3.6; stroke-linecap: square\"/>\n   </g>\n   <g id=\"line2d_94\">\n    <path clip-path=\"url(#p5d97f2da44)\" style=\"fill: none; stroke: #424242; stroke-width: 3.6; stroke-linecap: square\"/>\n   </g>\n   <g id=\"line2d_95\">\n    <path clip-path=\"url(#p5d97f2da44)\" style=\"fill: none; stroke: #424242; stroke-width: 3.6; stroke-linecap: square\"/>\n   </g>\n   <g id=\"line2d_96\">\n    <path clip-path=\"url(#p5d97f2da44)\" style=\"fill: none; stroke: #424242; stroke-width: 3.6; stroke-linecap: square\"/>\n   </g>\n   <g id=\"line2d_97\">\n    <path clip-path=\"url(#p5d97f2da44)\" style=\"fill: none; stroke: #424242; stroke-width: 3.6; stroke-linecap: square\"/>\n   </g>\n   <g id=\"line2d_98\">\n    <path clip-path=\"url(#p5d97f2da44)\" style=\"fill: none; stroke: #424242; stroke-width: 3.6; stroke-linecap: square\"/>\n   </g>\n   <g id=\"line2d_99\">\n    <path clip-path=\"url(#p5d97f2da44)\" style=\"fill: none; stroke: #424242; stroke-width: 3.6; stroke-linecap: square\"/>\n   </g>\n   <g id=\"line2d_100\">\n    <path clip-path=\"url(#p5d97f2da44)\" style=\"fill: none; stroke: #424242; stroke-width: 3.6; stroke-linecap: square\"/>\n   </g>\n   <g id=\"line2d_101\">\n    <path clip-path=\"url(#p5d97f2da44)\" style=\"fill: none; stroke: #424242; stroke-width: 3.6; stroke-linecap: square\"/>\n   </g>\n   <g id=\"line2d_102\">\n    <path clip-path=\"url(#p5d97f2da44)\" style=\"fill: none; stroke: #424242; stroke-width: 3.6; stroke-linecap: square\"/>\n   </g>\n   <g id=\"line2d_103\">\n    <path clip-path=\"url(#p5d97f2da44)\" style=\"fill: none; stroke: #424242; stroke-width: 3.6; stroke-linecap: square\"/>\n   </g>\n   <g id=\"line2d_104\">\n    <path clip-path=\"url(#p5d97f2da44)\" style=\"fill: none; stroke: #424242; stroke-width: 3.6; stroke-linecap: square\"/>\n   </g>\n   <g id=\"line2d_105\">\n    <path clip-path=\"url(#p5d97f2da44)\" style=\"fill: none; stroke: #424242; stroke-width: 3.6; stroke-linecap: square\"/>\n   </g>\n   <g id=\"line2d_106\">\n    <path clip-path=\"url(#p5d97f2da44)\" style=\"fill: none; stroke: #424242; stroke-width: 3.6; stroke-linecap: square\"/>\n   </g>\n   <g id=\"line2d_107\">\n    <path clip-path=\"url(#p5d97f2da44)\" style=\"fill: none; stroke: #424242; stroke-width: 3.6; stroke-linecap: square\"/>\n   </g>\n   <g id=\"patch_58\">\n    <path d=\"M 43.78125 673.496875 \nL 43.78125 495.598125 \n\" style=\"fill: none; stroke: #000000; stroke-width: 0.8; stroke-linejoin: miter; stroke-linecap: square\"/>\n   </g>\n   <g id=\"patch_59\">\n    <path d=\"M 1056.39625 673.496875 \nL 1056.39625 495.598125 \n\" style=\"fill: none; stroke: #000000; stroke-width: 0.8; stroke-linejoin: miter; stroke-linecap: square\"/>\n   </g>\n   <g id=\"patch_60\">\n    <path d=\"M 43.78125 673.496875 \nL 1056.39625 673.496875 \n\" style=\"fill: none; stroke: #000000; stroke-width: 0.8; stroke-linejoin: miter; stroke-linecap: square\"/>\n   </g>\n   <g id=\"patch_61\">\n    <path d=\"M 43.78125 495.598125 \nL 1056.39625 495.598125 \n\" style=\"fill: none; stroke: #000000; stroke-width: 0.8; stroke-linejoin: miter; stroke-linecap: square\"/>\n   </g>\n   <g id=\"text_71\">\n    <!-- `` That's the last one we did . -EOS-, truth = adventure -->\n    <g transform=\"translate(384.144688 489.598125) scale(0.12 -0.12)\">\n     <use xlink:href=\"#DejaVuSans-60\"/>\n     <use xlink:href=\"#DejaVuSans-60\" x=\"50\"/>\n     <use xlink:href=\"#DejaVuSans-20\" x=\"100\"/>\n     <use xlink:href=\"#DejaVuSans-54\" x=\"131.787109\"/>\n     <use xlink:href=\"#DejaVuSans-68\" x=\"192.871094\"/>\n     <use xlink:href=\"#DejaVuSans-61\" x=\"256.25\"/>\n     <use xlink:href=\"#DejaVuSans-74\" x=\"317.529297\"/>\n     <use xlink:href=\"#DejaVuSans-27\" x=\"356.738281\"/>\n     <use xlink:href=\"#DejaVuSans-73\" x=\"384.228516\"/>\n     <use xlink:href=\"#DejaVuSans-20\" x=\"436.328125\"/>\n     <use xlink:href=\"#DejaVuSans-74\" x=\"468.115234\"/>\n     <use xlink:href=\"#DejaVuSans-68\" x=\"507.324219\"/>\n     <use xlink:href=\"#DejaVuSans-65\" x=\"570.703125\"/>\n     <use xlink:href=\"#DejaVuSans-20\" x=\"632.226562\"/>\n     <use xlink:href=\"#DejaVuSans-6c\" x=\"664.013672\"/>\n     <use xlink:href=\"#DejaVuSans-61\" x=\"691.796875\"/>\n     <use xlink:href=\"#DejaVuSans-73\" x=\"753.076172\"/>\n     <use xlink:href=\"#DejaVuSans-74\" x=\"805.175781\"/>\n     <use xlink:href=\"#DejaVuSans-20\" x=\"844.384766\"/>\n     <use xlink:href=\"#DejaVuSans-6f\" x=\"876.171875\"/>\n     <use xlink:href=\"#DejaVuSans-6e\" x=\"937.353516\"/>\n     <use xlink:href=\"#DejaVuSans-65\" x=\"1000.732422\"/>\n     <use xlink:href=\"#DejaVuSans-20\" x=\"1062.255859\"/>\n     <use xlink:href=\"#DejaVuSans-77\" x=\"1094.042969\"/>\n     <use xlink:href=\"#DejaVuSans-65\" x=\"1175.830078\"/>\n     <use xlink:href=\"#DejaVuSans-20\" x=\"1237.353516\"/>\n     <use xlink:href=\"#DejaVuSans-64\" x=\"1269.140625\"/>\n     <use xlink:href=\"#DejaVuSans-69\" x=\"1332.617188\"/>\n     <use xlink:href=\"#DejaVuSans-64\" x=\"1360.400391\"/>\n     <use xlink:href=\"#DejaVuSans-20\" x=\"1423.876953\"/>\n     <use xlink:href=\"#DejaVuSans-2e\" x=\"1455.664062\"/>\n     <use xlink:href=\"#DejaVuSans-20\" x=\"1487.451172\"/>\n     <use xlink:href=\"#DejaVuSans-2d\" x=\"1519.238281\"/>\n     <use xlink:href=\"#DejaVuSans-45\" x=\"1555.322266\"/>\n     <use xlink:href=\"#DejaVuSans-4f\" x=\"1618.505859\"/>\n     <use xlink:href=\"#DejaVuSans-53\" x=\"1697.216797\"/>\n     <use xlink:href=\"#DejaVuSans-2d\" x=\"1760.693359\"/>\n     <use xlink:href=\"#DejaVuSans-2c\" x=\"1796.777344\"/>\n     <use xlink:href=\"#DejaVuSans-20\" x=\"1828.564453\"/>\n     <use xlink:href=\"#DejaVuSans-74\" x=\"1860.351562\"/>\n     <use xlink:href=\"#DejaVuSans-72\" x=\"1899.560547\"/>\n     <use xlink:href=\"#DejaVuSans-75\" x=\"1940.673828\"/>\n     <use xlink:href=\"#DejaVuSans-74\" x=\"2004.052734\"/>\n     <use xlink:href=\"#DejaVuSans-68\" x=\"2043.261719\"/>\n     <use xlink:href=\"#DejaVuSans-20\" x=\"2106.640625\"/>\n     <use xlink:href=\"#DejaVuSans-3d\" x=\"2138.427734\"/>\n     <use xlink:href=\"#DejaVuSans-20\" x=\"2222.216797\"/>\n     <use xlink:href=\"#DejaVuSans-61\" x=\"2254.003906\"/>\n     <use xlink:href=\"#DejaVuSans-64\" x=\"2315.283203\"/>\n     <use xlink:href=\"#DejaVuSans-76\" x=\"2378.759766\"/>\n     <use xlink:href=\"#DejaVuSans-65\" x=\"2437.939453\"/>\n     <use xlink:href=\"#DejaVuSans-6e\" x=\"2499.462891\"/>\n     <use xlink:href=\"#DejaVuSans-74\" x=\"2562.841797\"/>\n     <use xlink:href=\"#DejaVuSans-75\" x=\"2602.050781\"/>\n     <use xlink:href=\"#DejaVuSans-72\" x=\"2665.429688\"/>\n     <use xlink:href=\"#DejaVuSans-65\" x=\"2704.292969\"/>\n    </g>\n   </g>\n  </g>\n </g>\n <defs>\n  <clipPath id=\"p9aac3ac436\">\n   <rect x=\"43.78125\" y=\"22.798125\" width=\"1012.615\" height=\"177.89875\"/>\n  </clipPath>\n  <clipPath id=\"pefa5b48c3c\">\n   <rect x=\"43.78125\" y=\"259.198125\" width=\"1012.615\" height=\"177.89875\"/>\n  </clipPath>\n  <clipPath id=\"p5d97f2da44\">\n   <rect x=\"43.78125\" y=\"495.598125\" width=\"1012.615\" height=\"177.89875\"/>\n  </clipPath>\n </defs>\n</svg>\n",
            "application/pdf": "[encoded data removed]"
          },
          "metadata": {}
        }
      ]
    }
  ]
}